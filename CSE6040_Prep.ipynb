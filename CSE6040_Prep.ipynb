{
 "cells": [
  {
   "cell_type": "markdown",
   "id": "f515b4b7-7ac4-4d77-a57a-573777e551c8",
   "metadata": {},
   "source": [
    "## CSE 6040 Prep - Practice ##"
   ]
  },
  {
   "cell_type": "markdown",
   "id": "fe6c35e0-dbb2-4206-8e7b-1d75d6d9a007",
   "metadata": {},
   "source": [
    "Write a Python function factorial(n) that calculates the factorial of a number n. \n"
   ]
  },
  {
   "cell_type": "code",
   "execution_count": 16,
   "id": "e31aebfd-0f4e-494b-a812-7d37ff17c425",
   "metadata": {},
   "outputs": [
    {
     "name": "stdout",
     "output_type": "stream",
     "text": [
      "0.23444857142857142\n"
     ]
    }
   ],
   "source": [
    "#2. Write a function called find_pressure that takes as input\n",
    "#three variables: number of moles, temperature, and volume.\n",
    "#Assume they are floats. Then, return as output your calculation for\n",
    "#pressure. For the gas constant, use the value 0.082057.\n",
    "#Ideal gas law states:\n",
    "# P = (nRT) / V \n",
    "\n",
    "def find_pressure(n, t, v):\n",
    "    return (n*0.082057*t)/v\n",
    "\n",
    "print(find_pressure(2,30,20)"
   ]
  },
  {
   "cell_type": "code",
   "execution_count": 42,
   "id": "93b6fae2-284b-4b7a-8d37-1266c1e581f0",
   "metadata": {},
   "outputs": [
    {
     "name": "stdout",
     "output_type": "stream",
     "text": [
      "True\n"
     ]
    }
   ],
   "source": [
    "#1. Write a function called lucky_sevens that takes in one\n",
    "#parameter, a string variable named a_string. Your function\n",
    "#should return True if there are exactly three '7's in\n",
    "#a_string. If there are less than three or more than three\n",
    "#'7's, the function should return False\n",
    "\n",
    "def lucky_sevens(a_string):\n",
    "    empty = 0\n",
    "    for i in a_string:\n",
    "        if i == \"7\":\n",
    "            empty += 1\n",
    "    if empty == 3:\n",
    "        return True\n",
    "    else:\n",
    "        False\n",
    "\n",
    "print(lucky_sevens(\"hrtp777whk9\"))"
   ]
  },
  {
   "cell_type": "code",
   "execution_count": 54,
   "id": "22258f51-6ad4-459b-999f-516de4435b29",
   "metadata": {},
   "outputs": [
    {
     "name": "stdout",
     "output_type": "stream",
     "text": [
      "The lakers are a contender!\n"
     ]
    }
   ],
   "source": [
    "#3. Write a function called is_a_contender that will take three\n",
    "#parameters: team (string), wins (integer), and losses (integer).\n",
    "#The function should return one of three strings:\n",
    "# - If the team is a contender (at least 40 wins and fewer\n",
    "#   than 20 losses), return \"The [team name] are a contender!\"\n",
    "# - If the team is not a contender (less than 40 wins and at least\n",
    "#   20 losses), return \"The [team name] are not a contender!\"\n",
    "# - If it cannot be determined (both values are higher or both\n",
    "#   values are lower), return \"The [team name] might be a contender!\"\n",
    "\n",
    "def is_a_contender(team, wins, losses):\n",
    "    if losses < 20 and wins > 39:\n",
    "        return f\"The {team} are a contender!\"\n",
    "    elif losses > 19 and wins < 49:\n",
    "        return f\"The {team} are not a contender!\"\n",
    "    else:\n",
    "         return f\"The {team} might be a contender!\"\n",
    "\n",
    "\n",
    "print(is_a_contender(\"lakers\", 40, 2))    "
   ]
  },
  {
   "cell_type": "code",
   "execution_count": 80,
   "id": "b5abc03f-47e6-476c-8575-8652934677bd",
   "metadata": {},
   "outputs": [
    {
     "name": "stdout",
     "output_type": "stream",
     "text": [
      "False\n"
     ]
    }
   ],
   "source": [
    "#2. Write a function called is_palindrome that takes a string as input and returns True if the string is a palindrome \n",
    "#(reads the same forwards and backwards), and False otherwise.\n",
    "def is_palindrome(string):\n",
    "    if string == string[::-1]:\n",
    "        return True\n",
    "    else:\n",
    "        return False\n",
    "\n",
    "print(is_palindrome(\"none\"))"
   ]
  },
  {
   "cell_type": "code",
   "execution_count": 92,
   "id": "5e15627e-7abd-4a94-b475-3b689dafc7ab",
   "metadata": {},
   "outputs": [
    {
     "name": "stdout",
     "output_type": "stream",
     "text": [
      "2.0\n"
     ]
    }
   ],
   "source": [
    "#3. Write a function  called calculate_average that takes a list of numbers as input and returns the average of those numbers.\n",
    "def calculate_average(list):\n",
    "    counter = 0\n",
    "    for i in list:\n",
    "        counter += i\n",
    "    return counter/ len(list)\n",
    "    \n",
    "\n",
    "list = [1,2,3]\n",
    "print(calculate_average(list))"
   ]
  },
  {
   "cell_type": "code",
   "execution_count": 102,
   "id": "3d7f5e02-4bc5-450a-b1fb-181668bde927",
   "metadata": {},
   "outputs": [
    {
     "name": "stdout",
     "output_type": "stream",
     "text": [
      "6\n"
     ]
    }
   ],
   "source": [
    "#4. Write a function called factorial that takes an integer as input and returns its factorial (n!).\n",
    "def factorial(n):\n",
    "    counter = 1\n",
    "    while n > 0:\n",
    "        for i in range(1, n+1):\n",
    "            counter *= i\n",
    "        return counter\n",
    "\n",
    "print(factorial(3))"
   ]
  },
  {
   "cell_type": "code",
   "execution_count": 221,
   "id": "7400e8f3-6ecc-4d56-bce2-e5a7e5c420b1",
   "metadata": {},
   "outputs": [
    {
     "name": "stdout",
     "output_type": "stream",
     "text": [
      "[4, 3, 2, 1]\n",
      "[4, 3, 2, 1]\n",
      "]4 ,3 ,2 ,1[\n"
     ]
    }
   ],
   "source": [
    "#Given a random non-negative number, return the digits of this number within an array in reverse order. n=[1,2,3,4,5]\n",
    "\n",
    "def reverse(n):\n",
    "    empty = \"\"\n",
    "    for i in str(n[::-1]):\n",
    "        empty += i\n",
    "    return empty\n",
    "\n",
    "def reverse2(n):\n",
    "    return str(n[::-1])\n",
    "\n",
    "def reverse4(n):\n",
    "    counter = \"\"\n",
    "    for i in reversed(str(n)):\n",
    "        counter += i\n",
    "    return counter\n",
    "\n",
    "#def reverse5(n):\n",
    "#    return [int(i) for i in str(n)[::-1]]\n",
    "\n",
    "n = [1,2,3,4]\n",
    "print(reverse(n))\n",
    "print(reverse2(n))\n",
    "print(reverse4(n))"
   ]
  },
  {
   "cell_type": "code",
   "execution_count": 325,
   "id": "7455c220-6bf4-4cd4-ab0e-15672783c875",
   "metadata": {},
   "outputs": [
    {
     "name": "stdout",
     "output_type": "stream",
     "text": [
      "-3\n",
      "-3\n",
      "0\n",
      "-4\n",
      "-5\n"
     ]
    }
   ],
   "source": [
    "#Make a number negative even if it is already negative. \n",
    "def make_negative(n):\n",
    "    if n > 0:\n",
    "        return -n\n",
    "    elif n < 0:\n",
    "        return n\n",
    "    return 0\n",
    "\n",
    "def make_negative2(number):\n",
    "  if number > 0:\n",
    "    return number * -1\n",
    "  else:\n",
    "    return number \n",
    "      \n",
    "def make_negative3(number): \n",
    "  return -abs(number)\n",
    "\n",
    "print(make_negative(3))\n",
    "print(make_negative(-3))\n",
    "print(make_negative(0))\n",
    "print(make_negative2(4))\n",
    "print(make_negative3(-5))\n",
    "\n"
   ]
  },
  {
   "cell_type": "code",
   "execution_count": 319,
   "id": "fb523206-6ad3-49c2-b447-8227f1a0d85c",
   "metadata": {},
   "outputs": [
    {
     "name": "stdout",
     "output_type": "stream",
     "text": [
      "Above average\n",
      "True - above average\n",
      "True\n",
      "True\n"
     ]
    }
   ],
   "source": [
    "#Create function that calculates if your grade is better than class average or not.\n",
    "def my_grade(your_grade, class_grade):\n",
    "    if your_grade >= class_grade:\n",
    "        return \"Above average\"\n",
    "    elif your_grade < class_grade:\n",
    "        return \"Below average\"\n",
    "\n",
    "def my_grade2(your_points, class_points):\n",
    "    counter = 0\n",
    "    for i in class_points:\n",
    "        counter += i\n",
    "    average = counter/len(class_points)\n",
    "    if your_points > average:\n",
    "        return f\"{True} - above average\"\n",
    "    return False\n",
    "\n",
    "def my_grade3(your_points, class_points):\n",
    "    return your_points > sum(class_points)/len(class_points)\n",
    "\n",
    "\n",
    "import statistics                                  \n",
    "def better_than_average(class_points, your_points):\n",
    "    return your_points > statistics.mean(class_points)\n",
    "\n",
    "\n",
    "print(my_grade(90, 80))\n",
    "\n",
    "class_points = [90, 80, 71, 65]\n",
    "your_points = 90\n",
    "print(my_grade2(your_points, class_points))\n",
    "print(my_grade3(your_points, class_points))\n",
    "print(better_than_average(class_points, your_points))"
   ]
  },
  {
   "cell_type": "code",
   "execution_count": 317,
   "id": "9021db28-436c-43af-b486-0ae1920bb733",
   "metadata": {},
   "outputs": [
    {
     "name": "stdout",
     "output_type": "stream",
     "text": [
      "Mission Failed\n",
      "True\n"
     ]
    }
   ],
   "source": [
    "#It talkes 2 bullets to defeat each dragon. Will you succeed or fail? \n",
    "def survival(my_bullets, dragons):\n",
    "    if my_bullets >= 2*dragons:\n",
    "        return \"Succeed\"\n",
    "    return \"Mission Failed\"\n",
    "\n",
    "\n",
    "def survival2(my_bullets, dragons):\n",
    "    return my_bullets > 2*dragons\n",
    "\n",
    "print(survival(10, 6))\n",
    "print(survival2(10, 4))"
   ]
  },
  {
   "cell_type": "code",
   "execution_count": 315,
   "id": "786dbd6f-dcbf-446e-bc44-a97a8c759f6b",
   "metadata": {},
   "outputs": [
    {
     "name": "stdout",
     "output_type": "stream",
     "text": [
      "True - this is a triangle\n"
     ]
    }
   ],
   "source": [
    "#Implement a function that accepts 3 integer values a, b, c. The function should return true if a triangle can be built with the sides of given length \n",
    "#and false in any other case. In this case, all triangles must have surface greater than 0 to be accepted).\n",
    "\n",
    "##Triange Inequality Theorm\n",
    "def triangle(a, b, c):\n",
    "    if a+b > c or b+c > a or c+a > b:\n",
    "        return f\"{True} - this is a triangle\"\n",
    "    return False\n",
    "\n",
    "print(triangle(2,4,3))"
   ]
  },
  {
   "cell_type": "code",
   "execution_count": 358,
   "id": "63414043-0409-4c08-8045-a1563c6ef443",
   "metadata": {},
   "outputs": [
    {
     "name": "stdout",
     "output_type": "stream",
     "text": [
      "True\n",
      "False\n",
      "True\n",
      "True\n"
     ]
    }
   ],
   "source": [
    "#Check to see if a string has the same amount of 'x's and 'o's. The method must return a boolean and be case insensitive. \n",
    "#The string can contain any char. Examples input/output: XO(\"ooxx\") => true XO(\"xooxx\") => false\n",
    "\n",
    "def check_x_o(string):\n",
    "    counter_x = 0\n",
    "    counter_o = 0\n",
    "    for i in string:\n",
    "        if i in \"Xx\":\n",
    "            counter_x += 1\n",
    "        elif i in \"Oo\":\n",
    "            counter_o += 1\n",
    "    return counter_x == counter_o\n",
    "\n",
    "def check_x_o2(string):    #using count method instead of loop\n",
    "    string = string.lower()\n",
    "    return string.count(\"x\") == string.count(\"o\")\n",
    "\n",
    "def check_x_o3(string):\n",
    "    counter = 0         #using single counter varaible \n",
    "    for i in string:\n",
    "        if i in \"Xx\":\n",
    "            counter += 1\n",
    "        elif i in \"Oo\":\n",
    "            counter -= 1\n",
    "    return counter == 0\n",
    "\n",
    "print(check_x_o(\"xoxo\"))\n",
    "print(check_x_o(\"xoxoo\"))\n",
    "print(check_x_o2(\"xoXo\"))\n",
    "print(check_x_o3(\"xoxo\"))"
   ]
  },
  {
   "cell_type": "code",
   "execution_count": 380,
   "id": "f0ea72bf-3b19-41b1-a448-e5986e1ce75f",
   "metadata": {},
   "outputs": [
    {
     "name": "stdout",
     "output_type": "stream",
     "text": [
      "True\n"
     ]
    }
   ],
   "source": [
    "#You were camping with your friends far away from home, but when it's time to go back, you realize that your fuel is running out and the nearest pump\n",
    "#is 50 miles away! You know that on average, your car runs on about 25 miles per gallon. There are 2 gallons left. Considering these factors, write \n",
    "#a function that tells you if it is possible to get to the pump or not.\n",
    "\n",
    "def zero_fuel(distance_to_pump, mpg, fuel_left):\n",
    "   return distance_to_pump <= mpg * fuel_left\n",
    "\n",
    "print(zero_fuel(50, 25, 2))"
   ]
  },
  {
   "cell_type": "code",
   "execution_count": 400,
   "id": "11c3b5e6-6e4b-44b3-8ed3-06c62d101b20",
   "metadata": {},
   "outputs": [
    {
     "name": "stdout",
     "output_type": "stream",
     "text": [
      "I love data science\n",
      "I love data science\n"
     ]
    }
   ],
   "source": [
    "#Write a function that takes an array of words and smashes them together into a sentence and returns the sentence. You can ignore any need to sanitize \n",
    "#words or add punctuation, but you should add spaces between each word. Be careful, there shouldn't be a space at the beginning or the end of sentence!\n",
    "\n",
    "def combine(array):\n",
    "    empty = \"\"\n",
    "    for i in array:\n",
    "        empty += i\n",
    "        empty += \" \"\n",
    "    return empty.strip()    # Use strip() to remove extra space at the end\n",
    "\n",
    "def combine2(array):\n",
    "    return \" \".join(array)\n",
    "\n",
    "array = [\"I\", \"love\", \"data\", \"science\"]\n",
    "print(combine(array))\n",
    "print(combine2(array))"
   ]
  },
  {
   "cell_type": "code",
   "execution_count": null,
   "id": "6be17228-59dd-4b18-a13c-049853d346a8",
   "metadata": {},
   "outputs": [],
   "source": [
    "#Given an array of integers your solution should find the smallest integer. For example: Given [34, -345, -1, 100] your solution will return -345. \n",
    "#You can assume, for the purpose of this kata, that the supplied array will not be empty.\n",
    "def smallest(arr):\n",
    "    return min(arr)\n",
    "\n",
    "def smallest2(arr):\n",
    "    arr.sort()\n",
    "    return arr[0]\n",
    "\n",
    "arr = [34, -345, -1, 100]\n",
    "print(smallest(arr))\n",
    "print(smallest2(arr))"
   ]
  },
  {
   "cell_type": "code",
   "execution_count": 452,
   "id": "05b6c716-f52a-4088-98b6-67288b2b9db4",
   "metadata": {},
   "outputs": [
    {
     "name": "stdout",
     "output_type": "stream",
     "text": [
      "1\n",
      "5\n"
     ]
    }
   ],
   "source": [
    "#Your task is to create a function that does four basic mathematical operations. The function should take three arguments \n",
    "#- operation(string/char), value1(number), value2(number). The function should return result of numbers after applying the chosen operation. \n",
    "#Examples(Operator, value1, value2) --> output\n",
    "def math(operation, n1, n2):\n",
    "    if operation == \"+\":\n",
    "        return n1+n2\n",
    "    elif operation == \"-\":\n",
    "        return n1-n2\n",
    "    elif operation == \"*\":\n",
    "        return n1 * n2\n",
    "    elif operation == \"/\":\n",
    "        return n1/n2\n",
    "\n",
    "def math2(operation, n1, n2):\n",
    "    return eval(f\"{n1}{operation}{n2}\") #using eval function\n",
    "        \n",
    "print(math(\"-\", 3,2))\n",
    "print(math2(\"+\", 3,2))"
   ]
  },
  {
   "cell_type": "code",
   "execution_count": 458,
   "id": "53ec5056-0ae2-4038-89a0-6f3d7e8783f4",
   "metadata": {},
   "outputs": [
    {
     "name": "stdout",
     "output_type": "stream",
     "text": [
      "8\n"
     ]
    }
   ],
   "source": [
    "#Return the total product of an unempty array\n",
    "\n",
    "def product(array):\n",
    "    empty = 1\n",
    "    for i in array:\n",
    "        empty *= i\n",
    "    return empty\n",
    "\n",
    "array = [1, 2, 4]\n",
    "print(product(array))"
   ]
  },
  {
   "cell_type": "code",
   "execution_count": 472,
   "id": "62b63cb4-d0a5-4dd1-a4f4-74c6ebb834ee",
   "metadata": {},
   "outputs": [
    {
     "name": "stdout",
     "output_type": "stream",
     "text": [
      "$400\n"
     ]
    }
   ],
   "source": [
    "#Write a conditional that decides the price of a speed ticket\n",
    "#- $100 for speeding at all\n",
    "#- $10 dollars per mile over the speed limit \n",
    "#- 2x the value otherwise if the violation occurred in a school zone\n",
    "#Print the cost of the speeding ticket. If the driver was not speeding, print $0.\n",
    "\n",
    "def ticket(your_speed, speed_limit, school_zone):\n",
    "    price = 0\n",
    "    if your_speed > speed_limit:\n",
    "        price = 100 + (10 * (your_speed - speed_limit))\n",
    "        if school_zone:\n",
    "            price *= 2\n",
    "    else:\n",
    "        price = 0\n",
    "    return f\"${price}\"\n",
    "\n",
    "print(ticket(35, 25, True))"
   ]
  },
  {
   "cell_type": "code",
   "execution_count": 497,
   "id": "8d78a6f5-a2cf-41d8-8757-5772376307aa",
   "metadata": {},
   "outputs": [
    {
     "name": "stdout",
     "output_type": "stream",
     "text": [
      "[1, 2]\n",
      "[1, 2]\n"
     ]
    }
   ],
   "source": [
    "#return a new list with the strings filtered out'\n",
    "def no_text(list):\n",
    "    new = []\n",
    "    for i in list:\n",
    "        if isinstance(i, int):      #Use isinstance() to chcek if i is an integer\n",
    "            new.append(i)\n",
    "    return new\n",
    "\n",
    "def no_text2(list):\n",
    "    return [i for i in list if isinstance(i, int)]\n",
    "\n",
    "list = [\"c\", 1, 2, \"a\"]\n",
    "print(no_text(list))\n",
    "print(no_text2(list))"
   ]
  },
  {
   "cell_type": "code",
   "execution_count": 519,
   "id": "beb741da-7aec-47c6-b45d-f040e9bec1e6",
   "metadata": {},
   "outputs": [
    {
     "name": "stdout",
     "output_type": "stream",
     "text": [
      "3\n",
      "3\n"
     ]
    }
   ],
   "source": [
    "#Consider an array/list of sheep where some sheep may be missing from their place. We need a function that counts the number of sheep present in the \n",
    "#array (true means present). Hint: Don't forget to check for bad values like null/undefined\n",
    "def count_sheep(array):\n",
    "    counter = 0\n",
    "    for i in array:\n",
    "        if i == True:    #don't have to put == True\n",
    "            counter += 1\n",
    "        if i == \"null\" or \"undefined\":\n",
    "            pass\n",
    "    return counter\n",
    "    \n",
    "def count_sheep2(array):\n",
    "    return array.count(True)\n",
    "\n",
    "\n",
    "\n",
    "\n",
    "array = [True, False, True, True, \"null\"]\n",
    "print(count_sheep(array))\n",
    "print(count_sheep2(array))"
   ]
  },
  {
   "cell_type": "code",
   "execution_count": 565,
   "id": "369da1b1-bc24-48aa-b51b-7e4a4aa1cb3c",
   "metadata": {},
   "outputs": [
    {
     "name": "stdout",
     "output_type": "stream",
     "text": [
      "GCAU\n",
      "GCAU\n",
      "U\n"
     ]
    }
   ],
   "source": [
    "#Create a function which translates a given DNA string into RNA. The input string can be of arbitrary length - in particular, it may be empty. All input\n",
    "#is guaranteed to be valid, i.e. each input string will only ever consist of 'G', 'C', 'A' and/or 'T'. For example: \"GCAT\"  =>  \"GCAU\". \n",
    "\n",
    "def DNA_to_RNA(DNA):\n",
    "    RNA = DNA.replace(\"T\", \"U\")\n",
    "    return RNA\n",
    "\n",
    "def DNA_to_RNA2(string):\n",
    "    return string.replace(\"T\", \"U\")\n",
    " \n",
    "string = \"GCAT\"\n",
    "print(DNA_to_RNA(string))\n",
    "print(DNA_to_RNA2(string))"
   ]
  },
  {
   "cell_type": "code",
   "execution_count": 591,
   "id": "5f05eaf5-2635-46a2-8264-9869eace7db3",
   "metadata": {},
   "outputs": [
    {
     "name": "stdout",
     "output_type": "stream",
     "text": [
      "6\n",
      "2\n",
      "4\n",
      "-1\n"
     ]
    }
   ],
   "source": [
    "#Given two integers a and b, which can be positive or negative, find the sum of all the integers between and including them and return it. If the two \n",
    "#numbers are equal return a or b. Note: a and b are not ordered!\n",
    "#Ex:(1, 2) --> 3  \n",
    "#   (1, 1) --> 1  (since they are equal)\n",
    "#   (-1, 2) --> 2 (-1 + 0 + 1 + 2 = 2)\n",
    "def sum_integers(a, b):\n",
    "    counter = 0\n",
    "    if a == b:\n",
    "        return a\n",
    "    else:\n",
    "        if a > b:\n",
    "            for i in range(b, a+1):\n",
    "                counter += i\n",
    "            return counter\n",
    "        elif a < b:\n",
    "            for i in range(a, b+1):\n",
    "                counter += i\n",
    "            return counter       \n",
    "\n",
    "\n",
    "def get_sum(a,b):\n",
    "    return sum(range(min(a, b), max(a, b) + 1))\n",
    "\n",
    "print(sum_integers(1, 3))\n",
    "print(sum_integers(-1, 2))\n",
    "print(sum_integers(4, 4))\n",
    "print(sum_integers(0, -1))        "
   ]
  },
  {
   "cell_type": "code",
   "execution_count": 609,
   "id": "e0f82198-2232-4594-91a2-aa8f09744f23",
   "metadata": {},
   "outputs": [
    {
     "name": "stdout",
     "output_type": "stream",
     "text": [
      "[1, 4, 9, 16, 25]\n",
      "[1, 4, 9, 16, 25]\n"
     ]
    }
   ],
   "source": [
    "#Create a list comprehension that squares each element of a given list.\n",
    "def squared(list):\n",
    "    empty = []\n",
    "    for i in list:\n",
    "        empty.append(i*i)\n",
    "    return empty\n",
    "        \n",
    "def squared2(list):\n",
    "    return [i*i for i in list]\n",
    "\n",
    "list = [1,2,3,4,5]\n",
    "print(squared(list))\n",
    "print(squared2(list))"
   ]
  },
  {
   "cell_type": "code",
   "execution_count": 667,
   "id": "9d3dde92-f25a-42b3-8c95-cecbdf76fbda",
   "metadata": {},
   "outputs": [
    {
     "name": "stdout",
     "output_type": "stream",
     "text": [
      "230\n",
      "230\n",
      "230\n",
      "230\n"
     ]
    }
   ],
   "source": [
    "#After a hard quarter in the office you decide to get take a vacation. So you will book a flight for you and your girlfriend and try to leave all the \n",
    "#mess behind you.You will need a rental car in order for you to get around in your vacation. The manager of the car rental makes you some good offers.\n",
    "## Every day you rent the car costs $40. If you rent the car for 7 or more days, you get $50 off your total. \n",
    "## Alternatively, if you rent the car for 3 or more days, you get $20 off your total.\n",
    "#Write a code that gives out the total amount for different days(d).\n",
    "\n",
    "def rental_price(days):\n",
    "    price = 0\n",
    "    if days >= 1:\n",
    "        price = 40*days\n",
    "        if days >= 7:\n",
    "            price -= 50\n",
    "        elif days >= 3:\n",
    "            price -= 20\n",
    "    else:\n",
    "        price = 0\n",
    "    return price\n",
    "\n",
    "\n",
    "def rental_price2(days):\n",
    "    price = days * 40\n",
    "    if days >= 7:\n",
    "        price -= 50\n",
    "    elif days >= 3:\n",
    "        price -= 20\n",
    "    return price\n",
    "\n",
    "def rental_price3(days):\n",
    "    discount = 0\n",
    "    if days >= 7:\n",
    "        discount = 50\n",
    "    elif days >= 3:\n",
    "        discount = 20\n",
    "    return days*40 - discount\n",
    "\n",
    "def rental_price4(days):\n",
    "    if days >= 7: return days*40 -50\n",
    "    elif days >= 3: return days*40 - 20\n",
    "    return d*40\n",
    "    \n",
    "print(rental_price(7))\n",
    "print(rental_price2(7))\n",
    "print(rental_price3(7))\n",
    "print(rental_price4(7))"
   ]
  },
  {
   "cell_type": "code",
   "execution_count": 990,
   "id": "a6b2c605-b6d0-4078-9d95-4e9182db1842",
   "metadata": {},
   "outputs": [
    {
     "name": "stdout",
     "output_type": "stream",
     "text": [
      "CSE6040\n",
      "CSE6040\n"
     ]
    }
   ],
   "source": [
    "#Create a function called stroat_ba(a,b), so that given 2 strings, it returns concanation\n",
    "#of b followed by a. \n",
    "def stroat_ba(a,b):\n",
    "    return b + a\n",
    "    \n",
    "def strcat_ba2(a, b):\n",
    "    assert type(a) is str   #ensures type is a string or will be error\n",
    "    assert type(b) is str \n",
    "    return b + a \n",
    "    \n",
    "print(stroat_ba(\"6040\", \"CSE\"))\n",
    "print(strcat_ba2(\"6040\", \"CSE\"))"
   ]
  },
  {
   "cell_type": "code",
   "execution_count": 992,
   "id": "f1262f7f-1da3-4ae2-80fc-6c81a9c80415",
   "metadata": {},
   "outputs": [
    {
     "name": "stdout",
     "output_type": "stream",
     "text": [
      "ISYE6501\n"
     ]
    },
    {
     "ename": "AssertionError",
     "evalue": "",
     "output_type": "error",
     "traceback": [
      "\u001b[1;31m---------------------------------------------------------------------------\u001b[0m",
      "\u001b[1;31mAssertionError\u001b[0m                            Traceback (most recent call last)",
      "Cell \u001b[1;32mIn[992], line 16\u001b[0m\n\u001b[0;32m     14\u001b[0m L \u001b[38;5;241m=\u001b[39m [\u001b[38;5;124m\"\u001b[39m\u001b[38;5;124m6501\u001b[39m\u001b[38;5;124m\"\u001b[39m, \u001b[38;5;124m\"\u001b[39m\u001b[38;5;124mISYE\u001b[39m\u001b[38;5;124m\"\u001b[39m]\n\u001b[0;32m     15\u001b[0m \u001b[38;5;28mprint\u001b[39m(strcat_list(L))\n\u001b[1;32m---> 16\u001b[0m \u001b[38;5;28mprint\u001b[39m(strcat_list2(L))\n",
      "Cell \u001b[1;32mIn[992], line 10\u001b[0m, in \u001b[0;36mstrcat_list2\u001b[1;34m(L)\u001b[0m\n\u001b[0;32m      9\u001b[0m \u001b[38;5;28;01mdef\u001b[39;00m \u001b[38;5;21mstrcat_list2\u001b[39m(L):\n\u001b[1;32m---> 10\u001b[0m     \u001b[38;5;28;01massert\u001b[39;00m \u001b[38;5;28mtype\u001b[39m(L) \u001b[38;5;129;01mis\u001b[39;00m \u001b[38;5;28mlist\u001b[39m   \u001b[38;5;66;03m#ensures type is a list \u001b[39;00m\n\u001b[0;32m     11\u001b[0m     \u001b[38;5;28;01mreturn\u001b[39;00m \u001b[38;5;124m\"\u001b[39m\u001b[38;5;124m\"\u001b[39m\u001b[38;5;241m.\u001b[39mjoin(L[::\u001b[38;5;241m-\u001b[39m\u001b[38;5;241m1\u001b[39m])\n",
      "\u001b[1;31mAssertionError\u001b[0m: "
     ]
    }
   ],
   "source": [
    "#Complete the function, strcat_list(L), which generalizes the previous function: given a list of strings, L[:], returns the concatenation of the strings\n",
    "#in reverse order. For example: strcat_list(['abc', 'def', 'ghi']) == 'ghidefabc'\n",
    "def strcat_list(L):\n",
    "    new = \"\"\n",
    "    for i in L[::-1]:\n",
    "        new += i\n",
    "    return new\n",
    "\n",
    "def strcat_list2(L):\n",
    "    assert type(L) is list   #ensures type is a list \n",
    "    return \"\".join(L[::-1])  #Concatenates elements into one string w/ no seperators\n",
    "#join method is used to concatenate strings with a specified separator. The join method is called on the separator string and takes list as argument\n",
    "\n",
    "L = [\"6501\", \"ISYE\"]\n",
    "print(strcat_list(L))\n",
    "print(strcat_list2(L))"
   ]
  },
  {
   "cell_type": "code",
   "execution_count": 717,
   "id": "a388005c-3937-4730-8af8-4ed405aa64ff",
   "metadata": {},
   "outputs": [
    {
     "name": "stdout",
     "output_type": "stream",
     "text": [
      "2\n",
      "2\n",
      "2\n"
     ]
    }
   ],
   "source": [
    "#Given two variables, a and b, whose values are the real numbers, a ≥ 0 (non-negative) and b > 0 (positive). Complete the function, floor_fraction(a, b)\n",
    "#so that it returns [a/b], that is, the floor of [a/b]. The type of the returned value must be int (an integer).\n",
    "def floor_fraction(a, b):\n",
    "    if a >= 0 and b > 0:\n",
    "        return a//b\n",
    "\n",
    "def floor_fraction2(a, b):\n",
    "    assert a >= 0              #a is non-negative\n",
    "    assert b > 0               #b must be positive\n",
    "    return int(a/b)\n",
    "\n",
    "import math\n",
    "def is_number(x):              #Function returns True if input is a number(int,float)\n",
    "    from numbers import Number\n",
    "    return isinstance(x, Number)\n",
    "def floor_fraction3(a, b):\n",
    "    assert is_number(a) and a >= 0 \n",
    "    assert is_number(b) and b > 0\n",
    "    return math.floor(int(a/b))\n",
    "\n",
    "\n",
    "print(floor_fraction(5, 2))\n",
    "print(floor_fraction2(5, 2))\n",
    "print(floor_fraction3(5, 2))"
   ]
  },
  {
   "cell_type": "code",
   "execution_count": 820,
   "id": "41941fdd-3a40-45a4-9030-3d896e05ac3e",
   "metadata": {},
   "outputs": [
    {
     "name": "stdout",
     "output_type": "stream",
     "text": [
      "Your average score is: 91.7\n",
      "Your average score is: 91.7\n"
     ]
    }
   ],
   "source": [
    "#Let a, b, and c represent three exam scores as numerical values. Complete the function, report_exam_avg(a, b, c) so that it computes the average score \n",
    "#(equally weighted) and returns the string, 'Your average score is: XX', where XX is the average rounded to one decimal place. \n",
    "#For example: report_exam_avg(100, 95, 80) == 'Your average score: 91.7'\n",
    "def report_exam_avg(a, b, c):\n",
    "    assert is_number(a) and is_number(b) and is_number(c)\n",
    "    avg = (a + b + c) / 3\n",
    "    return f\"Your average score is: {round(avg, 1)}\"\n",
    "\n",
    "def report_exam_avg2(a, b, c):\n",
    "    avg = (a + b + c) / 3\n",
    "    return f'Your average score is: {avg:.1f}'\n",
    "\n",
    "print(report_exam_avg(100, 95, 80))\n",
    "print(report_exam_avg2(100, 95, 80))"
   ]
  },
  {
   "cell_type": "code",
   "execution_count": null,
   "id": "d07c4fe4-fb32-4952-ad13-e9b3c57cedeb",
   "metadata": {},
   "outputs": [],
   "source": [
    "#Write a function count_word_lengths(s) that, given a string consisting of words separated by spaces, returns a list containing the length of each word.\n",
    "#Words will consist of lowercase alphabetic characters, and they may be separated by multiple consecutive spaces. If a string is empty or has no spaces,\n",
    "#the function should return an empty list. For instance, in this code sample, count_word_lengths('the quick  brown   fox jumped') == [3, 5, 5, 3, 6] \n",
    "def count_word_lengths(s):\n",
    "\n",
    "s = ('the quick  brown   fox jumped')\n",
    "print(count_word_lengths(s))"
   ]
  },
  {
   "cell_type": "code",
   "execution_count": 832,
   "id": "f8cfebae-24c7-4245-af34-8d859f8dd1e4",
   "metadata": {},
   "outputs": [],
   "source": [
    "# Complete the function minmax(L), which takes a list L and returns a pair---that is, 2-element Python tuple, or \"2-tuple\"---whose first element is the \n",
    "#minimum value in the list and whose second element is the maximum. For instance: minmax([8, 7, 2, 5, 1]) == (1, 8) \n",
    "def minmax(L): \n",
    "    assert hasattr(L, \"__iter__\") \n",
    "    return (min(L), max(L))        # Return a tuple\n",
    "\n",
    "#print(minmax([8, 7, 2, 5, 1]))"
   ]
  },
  {
   "cell_type": "code",
   "execution_count": 936,
   "id": "0c50c782-8f55-4dbc-86b4-6a577f075e49",
   "metadata": {},
   "outputs": [
    {
     "name": "stdout",
     "output_type": "stream",
     "text": [
      "[1, 3, 4, 8]\n",
      "[1, 3, 4, 8]\n",
      "[1, 3, 4, 8]\n"
     ]
    }
   ],
   "source": [
    "#Complete the function remove_all(L, x) so that, given a list L and a target value x, it returns a copy of the list that excludes all occurrences of x \n",
    "#but preserves the order of the remaining elements. For instance: remove_all([1, 2, 3, 2, 4, 8, 2], 2) == [1, 3, 4, 8] \n",
    "#Note. Your implementation should not modify the list being passed into remove_all.\n",
    "def remove_all(L, x):\n",
    "    newlist = []\n",
    "    for i in L:\n",
    "        if i != x:\n",
    "            newlist.append(i)\n",
    "    return newlist\n",
    "\n",
    "def remove_all2(L, x):\n",
    "    #assert type(L) is list and x is not None      \n",
    "    return [i for i in L if i != x]\n",
    "\n",
    "def remove_all3(L, x):    #Incorrect Way: This way adjusts the original list instead of creating new \n",
    "    for i in L:\n",
    "        if i == x:\n",
    "            L.remove(i)\n",
    "    return L\n",
    "    \n",
    "L = [1, 2, 3, 2, 4, 8, 2]\n",
    "print(remove_all(L, 2))\n",
    "print(remove_all2(L, 2))\n",
    "print(remove_all3(L, 2))"
   ]
  },
  {
   "cell_type": "code",
   "execution_count": 1078,
   "id": "c3734368-4e3d-4257-9cbd-3841267edaa0",
   "metadata": {},
   "outputs": [
    {
     "name": "stdout",
     "output_type": "stream",
     "text": [
      "{'indices': [0, 1, 2, 3, 4, 5, 6, 7, 8, 9, 10, 11], 'values': [0.0, 0.87, 0.0, 0.0, 0.0, 0.32, 0.46, 0.0, 0.0, 0.1, 0.0, 0.0]}\n"
     ]
    }
   ],
   "source": [
    "# Suppose you are given a vector, x, containing real values that are mostly zero. \n",
    "#For instance: x = [0.0, 0.87, 0.0, 0.0, 0.0, 0.32, 0.46, 0.0, 0.0, 0.10, 0.0, 0.0]. \n",
    "#Complete the function, compress_vector(x), so that returns a dictionary d with two keys, d['inds'] and d['vals'], which are lists that indicate the \n",
    "#position and value of all the non-zero entries of x. For the previous example, d['inds'] = [1, 5, 6, 9] d['vals'] = [0.87, 0.32, 0.46, 0.10] \n",
    "\n",
    "def compress_vector(x):    \n",
    "    #assert type(x) is list           #ensures x is a list\n",
    "    d = {'indices':[], 'values':[]}   #create a dictionary with 2 keys that have empty lists\n",
    "    for i, value in enumerate(x):     #loop over list while tracking both the index and value of each element.\n",
    "        if x != 0.0:\n",
    "            d['indices'].append(i)\n",
    "            d['values'].append(value)\n",
    "    return d\n",
    "\n",
    "x = [0.0, 0.87, 0.0, 0.0, 0.0, 0.32, 0.46, 0.0, 0.0, 0.10, 0.0, 0.0]\n",
    "print(compress_vector(x))"
   ]
  },
  {
   "cell_type": "code",
   "execution_count": null,
   "id": "57045925-0b8d-4ed2-bd34-46dc245df486",
   "metadata": {},
   "outputs": [],
   "source": [
    "#Consider the compressed vector data structure, d, in the preceding exercise, which stores a list of indices (d['inds']) and a list of values (d['vals'])\n",
    "#Suppose we allow duplicate indices, possibly with different values. \n",
    "#For example: d['inds'] == [0,   3,   7,   3,   3,   5, 1] d['vals'] == [1.0, 2.0, 3.0, 4.0, 5.0, 6.0, 7.0] \n",
    "#In this case, the index 3 appears three times. (Also note that the indices d['ind'] need not appear in sorted order.) \n",
    "#Let's adopt the convention that when there are repeated indices, the \"true\" value there is the sum of the individual values. \n",
    "#In other words, the true vector corresponding to this example of d would be: # ind:  0    1    2    3*    4    5    6    7 x == [1.0, 7.0, 0.0, 11.0, 0.0, 6.0, 0.0, 3.0] "
   ]
  },
  {
   "cell_type": "code",
   "execution_count": null,
   "id": "a4fdce97-332b-4b46-b37b-fa1bef677fbb",
   "metadata": {},
   "outputs": [],
   "source": [
    "# Complete the function decompress_vector(d) that takes a compressed vector d, which is a dictionary with keys for the indices (inds) and values (vals), \n",
    "#and returns the corresponding full vector. For any repeated index, the values should be summed. The function should accept an optional parameter, n \n",
    "#that specifies the length of the full vector. You may assume this length is at least max(d['inds'])+1."
   ]
  },
  {
   "cell_type": "code",
   "execution_count": null,
   "id": "edf3119d-d841-4707-a102-429dd02d75a2",
   "metadata": {},
   "outputs": [],
   "source": [
    "# Suppose you are given two compressed vectors, d1 and d2, each represented as described above and possibly with repeated indices. Complete the function \n",
    "#find_common_inds(d1, d2) so that it returns a list of the indices they have in common. For instance, suppose:"
   ]
  },
  {
   "cell_type": "code",
   "execution_count": null,
   "id": "73959323-f715-4aa4-8f9d-b687952df018",
   "metadata": {},
   "outputs": [],
   "source": [
    "# Write some code that computes a new list named students[:], which holds the names of the students as they from \"top to bottom\" in the table.\n",
    "#Consider the following dataset of exam grades, organized as a 2-D table and stored in Python as a \"list of lists\" under the variable name, grades.\n",
    "grades = [ \n",
    "    # First line is descriptive header. Subsequent lines hold data :\n",
    "    ['Student', 'Exam 1', 'Exam 2', 'Exam 3'], ['Thorny', '100', '90', '80'], ['Mac', '88', '99', '111'], \n",
    "    ['Farva', '45', '56', '67'], ['Rabbit', '59', '61', '67'], ['Ursula', '73', '79', '83' ], ['Foster', '89', '97', '101']"
   ]
  },
  {
   "cell_type": "code",
   "execution_count": null,
   "id": "04841122-796b-4650-844c-ff61a4017050",
   "metadata": {},
   "outputs": [],
   "source": [
    "# Write some code to compute a new list named assignments[:], to hold the names of the class assignments. \n",
    "#(These appear in the descriptive header element of grades.)"
   ]
  },
  {
   "cell_type": "code",
   "execution_count": null,
   "id": "69963479-7809-4c85-b947-a543c273b4d1",
   "metadata": {},
   "outputs": [],
   "source": [
    "#Write some code to compute a new dictionary, named grade_lists, that maps names of students to lists of their exam grades. The grades should be \n",
    "#converted from strings to integers. For instance, grade_lists['Thorny'] == [100, 90, 80]."
   ]
  },
  {
   "cell_type": "code",
   "execution_count": null,
   "id": "62ba2fdf-ce16-4216-b3f9-08852705ad92",
   "metadata": {},
   "outputs": [],
   "source": [
    "# Write code to compute a new dictionary, grade_dicts, that maps names of students to dictionaries containing their scores. Each entry of this scores \n",
    "#dictionary should be keyed on assignment name and hold the corresponding grade as an integer. For instance, grade_dicts['Thorny']['Exam 1'] == 100."
   ]
  },
  {
   "cell_type": "code",
   "execution_count": null,
   "id": "ed4b7147-661e-4c47-9654-920218fd0dbc",
   "metadata": {},
   "outputs": [],
   "source": []
  },
  {
   "cell_type": "code",
   "execution_count": null,
   "id": "d1577ae8-6f31-4296-9761-3766bb1c6370",
   "metadata": {},
   "outputs": [],
   "source": []
  },
  {
   "cell_type": "code",
   "execution_count": null,
   "id": "57eb7bdd-fc92-45c0-b897-e56788c3d24b",
   "metadata": {},
   "outputs": [],
   "source": []
  },
  {
   "cell_type": "code",
   "execution_count": null,
   "id": "7c92d3fb-728a-45f6-bb2c-7c6eea9080d1",
   "metadata": {},
   "outputs": [],
   "source": []
  },
  {
   "cell_type": "code",
   "execution_count": 986,
   "id": "5069038d-dc1d-4a58-bf08-185336f43f3c",
   "metadata": {},
   "outputs": [],
   "source": [
    "#Given an array of integers, remove the smallest values. Do not mutate the original array. If there are elements with the same value, remove just the \n",
    "#one with the lowest index. If you get an empty array, return empty. Dont change the order of the remaining.  Examples: [1,2,3,4,5], --> [2,3,4,5]\n",
    "def remove_lowest(L):\n",
    "    new_list = []\n",
    "    for i in L:\n",
    "        if i != min(L):\n",
    "            new_list.append(i)\n",
    "    return new_list\n",
    "\n",
    "def remove_lowest2(L):\n",
    "    return [i for i in L if i != min(L)]\n",
    "\n",
    "L = [1, 2, 3, 4, 5]\n",
    "#print(remove_lowest(L))\n",
    "#print(remove_lowest2(L))           #Recursion error - but verified correct in alternative interface "
   ]
  },
  {
   "cell_type": "code",
   "execution_count": 1062,
   "id": "6c18f2cb-06d3-4d49-86af-45be674be7fc",
   "metadata": {},
   "outputs": [],
   "source": [
    "#Create a function that returns max and minimum of any list of integers. Ex: [42, 54, 65, 87, 0] --> min = 0, max = 87\n",
    "def min_max(list):\n",
    "    if not list:\n",
    "        return None\n",
    "    return f\"min = {min(list)}, max = {max(list)}\"\n",
    "\n",
    "list = [42, 54, 65, 87, 0]\n",
    "list2 = [42, 54, -12, 87, 0]\n",
    "list3 = []\n",
    "\n",
    "#print(min_max(list))\n",
    "#print(min_max(list2))            #Recursion error - but verified correct in alternative interface "
   ]
  },
  {
   "cell_type": "code",
   "execution_count": 982,
   "id": "ce53f456-5aca-49a9-9e34-59e9ded1f1f1",
   "metadata": {},
   "outputs": [
    {
     "name": "stdout",
     "output_type": "stream",
     "text": [
      "HELLO WORLD\n"
     ]
    }
   ],
   "source": [
    "#Write a function that converts input string to uppercase \n",
    "def uppercase(string):\n",
    "    return string.upper()\n",
    "\n",
    "print(uppercase(\"hello world\"))"
   ]
  },
  {
   "cell_type": "code",
   "execution_count": 1058,
   "id": "9fd6a08a-f79d-4322-bff7-d5ce8caaafbd",
   "metadata": {},
   "outputs": [
    {
     "name": "stdout",
     "output_type": "stream",
     "text": [
      "even\n",
      "odd\n",
      "[0]\n",
      "even\n"
     ]
    }
   ],
   "source": [
    "#Given a list of integers, determine wheather the sum is odd or even. Give your answer as a string \"odd\" or \"even\".  \n",
    "#If the input array is empty consider it as: [0] (array with a zero).\n",
    "def odd_even(list):\n",
    "    if not list:       #Check if list is empty\n",
    "        return [0]\n",
    "    sum = 0\n",
    "    for i in list:\n",
    "        sum += i\n",
    "    if sum % 2 == 0:\n",
    "        return \"even\"\n",
    "    elif sum % 2 != 0:\n",
    "        return \"odd\"\n",
    "\n",
    "def odd_even2(list):\n",
    "    total = sum(list)\n",
    "    if total % 2 == 0:\n",
    "        return \"even\"\n",
    "    else:\n",
    "        return \"odd\"\n",
    "\n",
    "list = [3, 1, 2]\n",
    "list2 = [1, 5, 1]\n",
    "list3 = []\n",
    "print(odd_even(list))\n",
    "print(odd_even(list2))\n",
    "print(odd_even(list3))\n",
    "print(odd_even2(list))"
   ]
  },
  {
   "cell_type": "code",
   "execution_count": 1052,
   "id": "271a637d-d3b3-4dd1-8961-613f68051b66",
   "metadata": {},
   "outputs": [
    {
     "name": "stdout",
     "output_type": "stream",
     "text": [
      "[2, 4, 6]\n",
      "[2, 4, 6]\n"
     ]
    }
   ],
   "source": [
    "#Given an array of integers, return a new array with each value doubled. For example: [1, 2, 3] --> [2, 4, 6]\n",
    "def double(array):\n",
    "    new_array = []\n",
    "    for i in array:\n",
    "        new_array.append(i+i)\n",
    "    return new_array    \n",
    "    \n",
    "def double2(array):\n",
    "    return [i+i for i in array]\n",
    "\n",
    "print(double([1,2,3]))     \n",
    "print(double2([1,2,3]))        "
   ]
  },
  {
   "cell_type": "code",
   "execution_count": null,
   "id": "b7fbd818-b3db-40f5-86bd-f772a789800a",
   "metadata": {},
   "outputs": [],
   "source": []
  },
  {
   "cell_type": "code",
   "execution_count": 1090,
   "id": "fc138327-5ccf-48df-8f87-b7c9153f00c6",
   "metadata": {},
   "outputs": [
    {
     "name": "stdout",
     "output_type": "stream",
     "text": [
      "[1, 3]\n",
      "[1, 3]\n"
     ]
    }
   ],
   "source": [
    "#Write a function that takes a list of integers and returns a list of elements that are at even indices.\n",
    "def even_indices(list):\n",
    "    new_list = []\n",
    "    for i, v in enumerate(list):\n",
    "        if i % 2 == 0:\n",
    "            new_list.append(v)\n",
    "    return new_list\n",
    "\n",
    "def even_indices2(list):\n",
    "    return [v for i, v in enumerate(list) if i % 2 == 0]\n",
    "\n",
    "list = [1,2,3,4]\n",
    "print(even_indices(list))\n",
    "print(even_indices2(list))"
   ]
  },
  {
   "cell_type": "code",
   "execution_count": 1098,
   "id": "85a352a0-e932-4d1e-a26e-dfeff9acd596",
   "metadata": {},
   "outputs": [
    {
     "name": "stdout",
     "output_type": "stream",
     "text": [
      "[2, 3]\n",
      "[2, 3]\n"
     ]
    }
   ],
   "source": [
    "#Write a function that takes a list of numbers and a threshold value, and returns a list of indices where the elements are greater than the threshold.\n",
    "def threshold_indices(list, threshold):\n",
    "    #assert type(list) is list\n",
    "    new_list = []\n",
    "    for i, v in enumerate(list):\n",
    "        if v > threshold:\n",
    "            new_list.append(i)\n",
    "    return new_list\n",
    "\n",
    "def threshold_indices2(list, threshold):\n",
    "    return [i for i, v in enumerate(list) if v > threshold]\n",
    "    \n",
    "list = [1,2,3,4]\n",
    "print(threshold_indices(list, 2))\n",
    "print(threshold_indices2(list, 2))"
   ]
  },
  {
   "cell_type": "code",
   "execution_count": 1116,
   "id": "f85d4e82-c78f-4174-aa87-b870124d2ae9",
   "metadata": {},
   "outputs": [
    {
     "name": "stdout",
     "output_type": "stream",
     "text": [
      "{'indices': [0, 2, 3], 'values': [1, 3, 8]}\n"
     ]
    }
   ],
   "source": [
    "#Write a function that takes a list of numbers and returns a dictionary with two keys: 'indices' and 'values'. The dictionary should contain the indices\n",
    "#and values of non-zero elements.\n",
    "def nonzero_indices(list):\n",
    "    d = {'indices':[], 'values':[]}\n",
    "    for i, value in enumerate(list):\n",
    "        if value != 0:\n",
    "            d['indices'].append(i)\n",
    "            d['values'].append(value)\n",
    "    return d\n",
    "\n",
    "print(nonzero_indices([1,0,3,8]))"
   ]
  },
  {
   "cell_type": "code",
   "execution_count": null,
   "id": "7eebf7c9-b4b3-4a84-8a9c-cc603ca871e8",
   "metadata": {},
   "outputs": [],
   "source": [
    "#Write a function that takes a list of numbers and returns a dictionary where the keys are the unique elements and the values are the counts.\n",
    "def count_d(list):\n",
    "    d = {\"element\":[], \"count\":[]}\n",
    "    for i, \n",
    "    \n",
    "\n",
    "print(count_d([1,2,3,4]))"
   ]
  },
  {
   "cell_type": "code",
   "execution_count": 1144,
   "id": "768476db-e31c-421a-bba5-cf2b2b0df57a",
   "metadata": {},
   "outputs": [
    {
     "ename": "AttributeError",
     "evalue": "'list' object has no attribute 'split'",
     "output_type": "error",
     "traceback": [
      "\u001b[1;31m---------------------------------------------------------------------------\u001b[0m",
      "\u001b[1;31mAttributeError\u001b[0m                            Traceback (most recent call last)",
      "Cell \u001b[1;32mIn[1144], line 9\u001b[0m\n\u001b[0;32m      5\u001b[0m     \u001b[38;5;28;01mreturn\u001b[39;00m words_list\n\u001b[0;32m      8\u001b[0m text \u001b[38;5;241m=\u001b[39m [\u001b[38;5;124m\"\u001b[39m\u001b[38;5;124mHello hello world\u001b[39m\u001b[38;5;124m\"\u001b[39m]\n\u001b[1;32m----> 9\u001b[0m \u001b[38;5;28mprint\u001b[39m(count_words(text))\n",
      "Cell \u001b[1;32mIn[1144], line 3\u001b[0m, in \u001b[0;36mcount_words\u001b[1;34m(text)\u001b[0m\n\u001b[0;32m      2\u001b[0m \u001b[38;5;28;01mdef\u001b[39;00m \u001b[38;5;21mcount_words\u001b[39m(text):\n\u001b[1;32m----> 3\u001b[0m     words_list \u001b[38;5;241m=\u001b[39m text\u001b[38;5;241m.\u001b[39msplit(\u001b[38;5;124m\"\u001b[39m\u001b[38;5;124m \u001b[39m\u001b[38;5;124m\"\u001b[39m)\n\u001b[0;32m      5\u001b[0m     \u001b[38;5;28;01mreturn\u001b[39;00m words_list\n",
      "\u001b[1;31mAttributeError\u001b[0m: 'list' object has no attribute 'split'"
     ]
    }
   ],
   "source": [
    "#Return words as dictionary, key should be word in all lowercase, and value is how many time it occurs \n",
    "def count_words(text):\n",
    "    words_list = text.split(\" \")\n",
    "    \n",
    "    return words_list\n",
    "        \n",
    "\n",
    "text = [\"Hello hello world\"]\n",
    "print(count_words(text))"
   ]
  },
  {
   "cell_type": "code",
   "execution_count": null,
   "id": "d4342c09-6561-4eb2-ae20-3a60def3c22a",
   "metadata": {},
   "outputs": [],
   "source": []
  }
 ],
 "metadata": {
  "kernelspec": {
   "display_name": "Python 3 (ipykernel)",
   "language": "python",
   "name": "python3"
  },
  "language_info": {
   "codemirror_mode": {
    "name": "ipython",
    "version": 3
   },
   "file_extension": ".py",
   "mimetype": "text/x-python",
   "name": "python",
   "nbconvert_exporter": "python",
   "pygments_lexer": "ipython3",
   "version": "3.11.7"
  }
 },
 "nbformat": 4,
 "nbformat_minor": 5
}
