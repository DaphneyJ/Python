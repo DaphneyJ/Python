{
 "cells": [
  {
   "cell_type": "markdown",
   "id": "da0704bd-dd10-41ad-9377-209607da8055",
   "metadata": {},
   "source": [
    "## For Loops\n",
    "1. Printing Numbers: Write a loop that prints the numbers from 1 to 10.\n",
    "2. Printing Even Numbers: Write a loop that prints the even numbers from 1 to 20.\n",
    "3. Counting Sum: Write a loop that calculates the sum of all numbers from 1 to 100.\n",
    "4. Counting Multiples: Write a loop that prints all multiples of 5 from 1 to 50.\n",
    "5. Counting Backwards: Write a loop that prints the numbers from 10 to 1 in descending"
   ]
  },
  {
   "cell_type": "code",
   "execution_count": 1,
   "id": "ed306a20-8bb2-4c28-88e7-edc5794cbe8e",
   "metadata": {},
   "outputs": [
    {
     "name": "stdout",
     "output_type": "stream",
     "text": [
      "1\n",
      "2\n",
      "3\n",
      "4\n",
      "5\n",
      "6\n",
      "7\n",
      "8\n",
      "9\n",
      "10\n"
     ]
    }
   ],
   "source": [
    "#1. Print numbers 1-10 -- For Loop\n",
    "for i in range(1,11):\n",
    "    print(i)\n",
    "\n",
    "# Alternative: For-each\n",
    "list = list(range(1,11))\n",
    "for i in list:\n",
    "    print(i)"
   ]
  },
  {
   "cell_type": "code",
   "execution_count": 3,
   "id": "cad9fa26-d6e9-4c5d-bbae-c8e880d39d49",
   "metadata": {},
   "outputs": [
    {
     "name": "stdout",
     "output_type": "stream",
     "text": [
      "2\n",
      "4\n",
      "6\n",
      "8\n",
      "10\n",
      "12\n",
      "14\n",
      "16\n",
      "18\n",
      "20\n"
     ]
    }
   ],
   "source": [
    "#2. Print even numbers in 1-20\n",
    "for i in range(2,21,2):\n",
    "    print(i)"
   ]
  },
  {
   "cell_type": "code",
   "execution_count": 42,
   "id": "45a68b8e-8b1e-45bc-9e65-c30bc0d240c6",
   "metadata": {},
   "outputs": [
    {
     "name": "stdout",
     "output_type": "stream",
     "text": [
      "5050\n"
     ]
    }
   ],
   "source": [
    "#3. Sum of all numbers from 1 to 100\n",
    "sum = 0\n",
    "for i in range(1,101):\n",
    "    sum += i\n",
    "print(sum)"
   ]
  },
  {
   "cell_type": "code",
   "execution_count": 26,
   "id": "b5e34d98-a0dc-496b-9c50-9192d41cec64",
   "metadata": {},
   "outputs": [
    {
     "name": "stdout",
     "output_type": "stream",
     "text": [
      "5\n",
      "10\n",
      "15\n",
      "20\n",
      "25\n",
      "30\n",
      "35\n",
      "40\n",
      "45\n",
      "50\n",
      "5\n",
      "10\n",
      "15\n",
      "20\n",
      "25\n",
      "30\n",
      "35\n",
      "40\n",
      "45\n",
      "50\n"
     ]
    }
   ],
   "source": [
    "#4. Print multiples of 5 from 1 to 50\n",
    "for i in range(1,51):\n",
    "    if i % 5 == 0:\n",
    "        print(i)\n",
    "        \n",
    "#alternative way\n",
    "for i in range(5,51,5):\n",
    "    print(i)"
   ]
  },
  {
   "cell_type": "code",
   "execution_count": 25,
   "id": "535c7178-a457-4366-8a05-f146742d8f70",
   "metadata": {},
   "outputs": [
    {
     "name": "stdout",
     "output_type": "stream",
     "text": [
      "10\n",
      "9\n",
      "8\n",
      "7\n",
      "6\n",
      "5\n",
      "4\n",
      "3\n",
      "2\n",
      "1\n"
     ]
    }
   ],
   "source": [
    "#5. 10 to 1 in descending\n",
    "for i in reversed(range(1,11)):\n",
    "    print(i)"
   ]
  },
  {
   "cell_type": "markdown",
   "id": "90421a7f-84e6-47b9-8997-385f99a19cd6",
   "metadata": {},
   "source": [
    "## Lists and For-each Loops\n",
    "1. Printing Names: Create a list of 5 names, then write a loop that prints each name on a separate line.\r",
    "2. \n",
    "Printing Length: Create a list of 5 words, then write a loop that prints each word along with its length\n",
    "3. Counting Vowels: Create a list of 5 words, then write a loop that counts and prints the number of vowels in each word\n",
    "4. Finding Maximum: Create a list of 5 numbers, then write a loop that finds and prints the largest number in the l.\n",
    "5. Reversing Strings: Create a list of 5 strings, then write a loop that prints each string in reverseerse."
   ]
  },
  {
   "cell_type": "code",
   "execution_count": 28,
   "id": "cf56ccff-a1f5-4dea-b6f4-370f9238b0e4",
   "metadata": {},
   "outputs": [
    {
     "name": "stdout",
     "output_type": "stream",
     "text": [
      "Sarah\n",
      "Bob\n",
      "Ben\n",
      "Sam\n",
      "Kim\n"
     ]
    }
   ],
   "source": [
    "#1. Printing names\n",
    "names = (\"Sarah\", \"Bob\", \"Ben\", \"Sam\", \"Kim\")\n",
    "for i in names:\n",
    "    print(i)"
   ]
  },
  {
   "cell_type": "code",
   "execution_count": 29,
   "id": "782b89c3-b375-40ae-a60c-38904eb99bb5",
   "metadata": {},
   "outputs": [
    {
     "name": "stdout",
     "output_type": "stream",
     "text": [
      "hi 2\n",
      "hoi 3\n",
      "aloha 5\n",
      "hello 5\n",
      "hola 4\n"
     ]
    }
   ],
   "source": [
    "#2. Printing word and length \n",
    "words = (\"hi\", \"hoi\", \"aloha\", \"hello\", \"hola\")\n",
    "for i in words:\n",
    "    print(i, len(i))"
   ]
  },
  {
   "cell_type": "code",
   "execution_count": 44,
   "id": "77d6134c-ccb5-4c7e-8e68-98858a7d1d58",
   "metadata": {},
   "outputs": [
    {
     "name": "stdout",
     "output_type": "stream",
     "text": [
      "R 0\n",
      "Python 1\n",
      "Java 3\n",
      "Ruby 4\n",
      "SQL 4\n"
     ]
    }
   ],
   "source": [
    "#3. Counting vowels  counts and prints the number of vowels in each word\n",
    "words = (\"R\", \"Python\", \"Java\", \"Ruby\", \"SQL\") \n",
    "vowels = 0\n",
    "for i in words:\n",
    "    for z in i:\n",
    "        if z in \"aeiou\":\n",
    "            vowels += 1\n",
    "    print(i, vowels)    "
   ]
  },
  {
   "cell_type": "code",
   "execution_count": 40,
   "id": "018b8c1e-8ad8-4e6b-a428-13772f88b731",
   "metadata": {},
   "outputs": [
    {
     "name": "stdout",
     "output_type": "stream",
     "text": [
      "204\n"
     ]
    }
   ],
   "source": [
    "#4. Maximum: Find and print the largest number\n",
    "numbers = [102,30,48,87,204]\n",
    "print(max(numbers))"
   ]
  },
  {
   "cell_type": "code",
   "execution_count": 33,
   "id": "4274137a-83cf-42a8-a93c-b84f34b36f24",
   "metadata": {},
   "outputs": [
    {
     "name": "stdout",
     "output_type": "stream",
     "text": [
      "I\n",
      "love\n",
      "Data\n",
      "Analytics\n"
     ]
    }
   ],
   "source": [
    "#5. Prints list in Reverse\n",
    "list1 = [\"Analytics\", \"Data\", \"love\", \"I\"]\n",
    "for i in reversed(list1):\n",
    "    print(i)"
   ]
  },
  {
   "cell_type": "markdown",
   "id": "12b4b9ad-81af-4e8e-900f-1090ebae924e",
   "metadata": {},
   "source": [
    "## Advanced Loops"
   ]
  },
  {
   "cell_type": "code",
   "execution_count": 45,
   "id": "0007de06-335d-49d2-bb97-e82dbe1f116b",
   "metadata": {},
   "outputs": [
    {
     "name": "stdout",
     "output_type": "stream",
     "text": [
      "1 times 1 equals 1\n",
      "1 times 2 equals 2\n",
      "1 times 3 equals 3\n",
      "1 times 4 equals 4\n",
      "1 times 5 equals 5\n",
      "1 times 6 equals 6\n",
      "1 times 7 equals 7\n",
      "1 times 8 equals 8\n",
      "1 times 9 equals 9\n",
      "1 times 10 equals 10\n",
      "2 times 1 equals 2\n",
      "2 times 2 equals 4\n",
      "2 times 3 equals 6\n",
      "2 times 4 equals 8\n",
      "2 times 5 equals 10\n",
      "2 times 6 equals 12\n",
      "2 times 7 equals 14\n",
      "2 times 8 equals 16\n",
      "2 times 9 equals 18\n",
      "2 times 10 equals 20\n",
      "3 times 1 equals 3\n",
      "3 times 2 equals 6\n",
      "3 times 3 equals 9\n",
      "3 times 4 equals 12\n",
      "3 times 5 equals 15\n",
      "3 times 6 equals 18\n",
      "3 times 7 equals 21\n",
      "3 times 8 equals 24\n",
      "3 times 9 equals 27\n",
      "3 times 10 equals 30\n",
      "4 times 1 equals 4\n",
      "4 times 2 equals 8\n",
      "4 times 3 equals 12\n",
      "4 times 4 equals 16\n",
      "4 times 5 equals 20\n",
      "4 times 6 equals 24\n",
      "4 times 7 equals 28\n",
      "4 times 8 equals 32\n",
      "4 times 9 equals 36\n",
      "4 times 10 equals 40\n",
      "5 times 1 equals 5\n",
      "5 times 2 equals 10\n",
      "5 times 3 equals 15\n",
      "5 times 4 equals 20\n",
      "5 times 5 equals 25\n",
      "5 times 6 equals 30\n",
      "5 times 7 equals 35\n",
      "5 times 8 equals 40\n",
      "5 times 9 equals 45\n",
      "5 times 10 equals 50\n",
      "6 times 1 equals 6\n",
      "6 times 2 equals 12\n",
      "6 times 3 equals 18\n",
      "6 times 4 equals 24\n",
      "6 times 5 equals 30\n",
      "6 times 6 equals 36\n",
      "6 times 7 equals 42\n",
      "6 times 8 equals 48\n",
      "6 times 9 equals 54\n",
      "6 times 10 equals 60\n",
      "7 times 1 equals 7\n",
      "7 times 2 equals 14\n",
      "7 times 3 equals 21\n",
      "7 times 4 equals 28\n",
      "7 times 5 equals 35\n",
      "7 times 6 equals 42\n",
      "7 times 7 equals 49\n",
      "7 times 8 equals 56\n",
      "7 times 9 equals 63\n",
      "7 times 10 equals 70\n",
      "8 times 1 equals 8\n",
      "8 times 2 equals 16\n",
      "8 times 3 equals 24\n",
      "8 times 4 equals 32\n",
      "8 times 5 equals 40\n",
      "8 times 6 equals 48\n",
      "8 times 7 equals 56\n",
      "8 times 8 equals 64\n",
      "8 times 9 equals 72\n",
      "8 times 10 equals 80\n",
      "9 times 1 equals 9\n",
      "9 times 2 equals 18\n",
      "9 times 3 equals 27\n",
      "9 times 4 equals 36\n",
      "9 times 5 equals 45\n",
      "9 times 6 equals 54\n",
      "9 times 7 equals 63\n",
      "9 times 8 equals 72\n",
      "9 times 9 equals 81\n",
      "9 times 10 equals 90\n",
      "10 times 1 equals 10\n",
      "10 times 2 equals 20\n",
      "10 times 3 equals 30\n",
      "10 times 4 equals 40\n",
      "10 times 5 equals 50\n",
      "10 times 6 equals 60\n",
      "10 times 7 equals 70\n",
      "10 times 8 equals 80\n",
      "10 times 9 equals 90\n",
      "10 times 10 equals 100\n"
     ]
    }
   ],
   "source": [
    "#For every number from 1 to 10...\n",
    "for i in range(1, 11):\n",
    "    #For every number from 1 to 10...\n",
    "    for j in range(1, 11):\n",
    "        #Print the product of the two numbers.\n",
    "        print(i, \"times\", j, \"equals\", i*j)\n",
    "        \n",
    "#Notice that the loop on line 20 is controlled by the loop on line 18.\n",
    "#So, each iteration of the loop on line 18, the loop on line 20 runs\n",
    "#10 times."
   ]
  },
  {
   "cell_type": "code",
   "execution_count": null,
   "id": "d553d457-9398-4cac-bebf-d06949762f08",
   "metadata": {},
   "outputs": [],
   "source": [
    "# Outer loop iterating over numbers 1 through 5\n",
    "for i in range(1, 6):\n",
    "    # Inner loop iterating over numbers 0 through the current value of i\n",
    "    for j in range(0, i):\n",
    "        # Printing the current value of j followed by a space, without moving to the next line\n",
    "        print(j, end=\" \")\n",
    "    # Printing an empty string to move to the next line after each inner loop iteration\n",
    "    print(\"\")"
   ]
  },
  {
   "cell_type": "code",
   "execution_count": null,
   "id": "e61dd1aa-df48-450e-aedf-b7368f272f49",
   "metadata": {},
   "outputs": [],
   "source": [
    "# identical output as above but this one uses a while loop \n",
    "for i in range(1, 6):  # Outer loop iterating over numbers 1 through 5\n",
    "     j = 0              # Initializing j to 0 before entering the inner loop\n",
    "     while j < i:       # Inner loop condition: loop until j is less than i\n",
    "         print(j, end=\" \")  # Printing the current value of j followed by a space, without moving to the next line\n",
    "         j += 1         # Incrementing j by 1 in each iteration of the inner loop\n",
    "     print(\"\")         # Printing an empty string to move to the next line after each inner loop iteration"
   ]
  },
  {
   "cell_type": "code",
   "execution_count": 49,
   "id": "f8589952-be2a-4ecf-ad30-27d0b7224404",
   "metadata": {},
   "outputs": [
    {
     "name": "stdout",
     "output_type": "stream",
     "text": [
      "Looped!\n",
      "Looped!\n",
      "Looped!\n"
     ]
    }
   ],
   "source": []
  },
  {
   "cell_type": "code",
   "execution_count": 53,
   "id": "f6e7a1a1-c9cc-4873-85a1-1cb4c0b8c7f8",
   "metadata": {},
   "outputs": [
    {
     "name": "stdout",
     "output_type": "stream",
     "text": [
      "0\n"
     ]
    }
   ],
   "source": [
    "mystery_int = -7\n",
    "#find sum of all number 0-mystery inclusive\n",
    "\n",
    "sum = 0\n",
    "for i in range(0, mystery_int+1):\n",
    "    sum += i\n",
    "    if i < 0:\n",
    "        sum -= i\n",
    "print(sum)"
   ]
  },
  {
   "cell_type": "code",
   "execution_count": null,
   "id": "54c98581-9c33-4755-a721-e7720736fb58",
   "metadata": {},
   "outputs": [],
   "source": []
  }
 ],
 "metadata": {
  "kernelspec": {
   "display_name": "Python 3 (ipykernel)",
   "language": "python",
   "name": "python3"
  },
  "language_info": {
   "codemirror_mode": {
    "name": "ipython",
    "version": 3
   },
   "file_extension": ".py",
   "mimetype": "text/x-python",
   "name": "python",
   "nbconvert_exporter": "python",
   "pygments_lexer": "ipython3",
   "version": "3.11.7"
  }
 },
 "nbformat": 4,
 "nbformat_minor": 5
}
