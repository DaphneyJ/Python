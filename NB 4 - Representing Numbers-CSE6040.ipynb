{
 "cells": [
  {
   "cell_type": "markdown",
   "id": "5d8a8a7f-4da0-4652-bf7e-f2f1e3ad2834",
   "metadata": {},
   "source": [
    "# NB 4: Representing Numbers"
   ]
  },
  {
   "cell_type": "markdown",
   "id": "ae7d65f0-b30c-422f-a1ea-48106e443124",
   "metadata": {},
   "source": [
    "### Part 0: Intergers as strings"
   ]
  },
  {
   "cell_type": "markdown",
   "id": "3e9aed8e-1e87-46a5-b7b1-1feca626209e",
   "metadata": {},
   "source": [
    "## **Exercise 0** (3 points) \n",
    "Write a function, `eval_strint(s, base)`. It takes a string of digits `s` in the base given by `base`. It returns its value as an integer.\n",
    "\n",
    "That is, this function implements the mathematical object, $[\\![ s ]\\!]_b$, which would convert a string $s$ to its numerical value, assuming its digits are given in base $b$. For example:\n",
    "\n",
    "```python\n",
    "    eval_strint('100111010', base=2) == 314\n",
    "```\n",
    "\n",
    "> Hint: Python makes this exercise very easy. Search Python's online documentation for information about the `int()` constructor to see how you can apply it to solve this problem. (You have encountered this constructor already, in Notebook/Assignment 2.)"
   ]
  },
  {
   "cell_type": "markdown",
   "id": "4ec47f89-dae1-43bc-845c-97229e9a33b0",
   "metadata": {},
   "source": [
    "<!-- Expected demo output text block -->\n",
    "The demo included in the solution cell below should display the following output:\n",
    "```\n",
    "eval_strint('6040', 8) -> 3104\n",
    "eval_strint('deadbeef', 16) -> 3735928559\n",
    "eval_strint('4321', 5) -> 586\n",
    "```\n",
    "<!-- Include any shout outs here -->\n",
    "**Note**: This demo calls your function 3 times."
   ]
  },
  {
   "cell_type": "code",
   "execution_count": 1,
   "id": "3a4989d7-2064-48ee-aa29-a76de0f3a633",
   "metadata": {},
   "outputs": [
    {
     "name": "stdout",
     "output_type": "stream",
     "text": [
      "3104\n",
      "eval_strint('6040', 8) -> 3104\n",
      "eval_strint('deadbeef', 16) -> 3735928559\n",
      "eval_strint('4321', 5) -> 586\n"
     ]
    }
   ],
   "source": [
    "def eval_strint(s, base=2):\n",
    "    assert type(s) is str\n",
    "    assert 2 <= base <= 36\n",
    "    ###\n",
    "    ### YOUR CODE HERE\n",
    "    ###\n",
    "    return int(s, base)   \n",
    "    \n",
    "### demo function call\n",
    "print(eval_strint('6040', 8))\n",
    "print(f\"eval_strint('6040', 8) -> {eval_strint('6040', 8)}\")\n",
    "print(f\"eval_strint('deadbeef', 16) -> {eval_strint('deadbeef', 16)}\")\n",
    "print(f\"eval_strint('4321', 5) -> {eval_strint('4321', 5)}\")"
   ]
  },
  {
   "cell_type": "code",
   "execution_count": 7,
   "id": "19e7908c-303a-4e94-bf47-35f5bcf0b96d",
   "metadata": {},
   "outputs": [
    {
     "name": "stdout",
     "output_type": "stream",
     "text": [
      "100111010\n"
     ]
    }
   ],
   "source": []
  },
  {
   "cell_type": "code",
   "execution_count": null,
   "id": "bb082f76-2a6b-49e3-b5da-27a64c820c5b",
   "metadata": {},
   "outputs": [],
   "source": []
  },
  {
   "cell_type": "markdown",
   "id": "b4152a41-ee1a-45af-ad7d-189fa941bd31",
   "metadata": {},
   "source": [
    "Alternative Way - manually"
   ]
  },
  {
   "cell_type": "code",
   "execution_count": 14,
   "id": "d9f66201-05fb-4723-8c42-c18815a184a2",
   "metadata": {},
   "outputs": [],
   "source": [
    "def eval_strint(s, base=2):\n",
    "    assert type(s) is str\n",
    "    assert 2 <= base <= 36\n",
    "    ###\n",
    "    ### YOUR CODE HERE\n",
    "    ###\n",
    "    new = []\n",
    "    digits = []   \n",
    "    exponent = len(s) - 1\n",
    "    \n",
    "    for i in s:\n",
    "        if i.isdigit():\n",
    "            value = int(i)\n",
    "        elif i.isalpha():\n",
    "            value = ord(i) - ord('a') + 10  #Since a should represent 10 (not 97), we subtract the ASCII value of 'a' (97)\n",
    "    \n",
    "        formula = value * (base**exponent) #Answer output = 6*(8**3) + 0*(8**2) + 4*(8**1) + 0*(8**0)\n",
    "        new.append(formula)\n",
    "        exponent -= 1  \n",
    "            \n",
    "    return sum(new)"
   ]
  },
  {
   "cell_type": "markdown",
   "id": "e364ef91-6132-4884-bffc-030c6bee23a4",
   "metadata": {},
   "source": [
    "#### Fractional values"
   ]
  },
  {
   "cell_type": "markdown",
   "id": "0a868e95-1d4b-4f60-a210-b2c71ebb010b",
   "metadata": {},
   "source": [
    "## Fractional values\n",
    "\n",
    "Recall that we can extend the basic string representation to include a fractional part by interpreting digits to the right of the \"fractional point\" (i.e., \"the dot\") as having negative indices. For instance,\n",
    "\n",
    "$$\n",
    "    [\\![ \\mathtt{3.14} ]\\!]_{10} = (3 \\times 10^0) + (1 \\times 10^{-1}) + (4 \\times 10^{-2}).\n",
    "$$\n",
    "\n",
    "Or, in general,\n",
    "\n",
    "$$\n",
    "  [\\![ s_d s_{d-1} \\cdots s_1 s_0 \\, \\underset{\\Large\\uparrow}{\\Huge\\mathtt{.}} \\, s_{-1} s_{-2} \\cdots s_{-r} ]\\!]_b = \\sum_{i=-r}^{d} s_i \\times b^i.\n",
    "$$\n",
    "\n",
    "## **Exercise 1** (4 points) \n",
    "Suppose a string of digits `s` in base `base` contains up to one fractional point. Complete the function, `eval_strfrac(s, base)`, so that it returns its corresponding floating-point value.\n",
    "\n",
    "Your function should *always* return a value of type `float`, even if the input happens to correspond to an exact integer.\n",
    "\n",
    "Examples:\n",
    "\n",
    "```python\n",
    "    eval_strfrac('3.14', base=10) ~= 3.14\n",
    "    eval_strfrac('100.101', base=2) == 4.625\n",
    "    eval_strfrac('2c', base=16) ~= 44.0   # Note: Must be a float even with an integer input!\n",
    "```\n",
    "\n",
    "> _Comment._ Because of potential floating-point roundoff errors, as explained in the videos, conversions based on the general polynomial formula given previously will not be exact. The testing code will include a built-in tolerance to account for such errors.\n",
    ">\n",
    "> _Hint._ You should be able to construct a solution that reuses the function, `eval_strint()`, from Exercise 0."
   ]
  },
  {
   "cell_type": "code",
   "execution_count": 20,
   "id": "e3767b20-4540-426c-8659-aba3bfef5b5c",
   "metadata": {},
   "outputs": [
    {
     "name": "stdout",
     "output_type": "stream",
     "text": [
      "eval_strfrac('3.14', base=10) -> 3.14\n",
      "eval_strfrac('100.101', base=2) -> 4.625\n",
      "eval_strfrac('2c', base=16) -> 44.0\n"
     ]
    }
   ],
   "source": [
    "def eval_strfrac(s, base=2):    \n",
    "    ###\n",
    "    ### YOUR CODE HERE\n",
    "    ###\n",
    "    s_parts = s.split('.')  #divides string into two parts: int and fractional\n",
    "    \n",
    "    value_int = eval_strint(s_parts[0], base) #Convert the Integer Part (part before decimal) by calling our function\n",
    "\n",
    "    \n",
    "    if len(s_parts) == 2: #Check If there is a fractional part. if not returns list with  1 element instead of 2\n",
    "        length_frac = len(s_parts[1])  # important because each digit after decimal corresponds to a negative power \n",
    "        value_frac = eval_strint(s_parts[1], base) * (float(base) ** (-length_frac)) #Convert the fraction Part\n",
    "        #multiply it by base^(-r) to account for its position after the decimal\n",
    "        #  5 x 2^-3\n",
    "    else:\n",
    "        value_frac = 0\n",
    "    return float(value_int) + value_frac  #returns sum of the integer and fractional part as a floating-point value\n",
    "            \n",
    "### demo function call\n",
    "print(f\"eval_strfrac('3.14', base=10) -> {eval_strfrac('3.14', base=10)}\") \n",
    "print(f\"eval_strfrac('100.101', base=2) -> {eval_strfrac('100.101', base=2)}\")\n",
    "print(f\"eval_strfrac('2c', base=16) -> {eval_strfrac('2c', base=16)}\")"
   ]
  },
  {
   "cell_type": "code",
   "execution_count": 28,
   "id": "fcf14e9b-00c4-444c-bdfe-6b1d3d3f3cae",
   "metadata": {},
   "outputs": [
    {
     "name": "stdout",
     "output_type": "stream",
     "text": [
      "eval_strfrac('100.101', base=2) -> 4.625\n"
     ]
    }
   ],
   "source": [
    "# Alternative way\n",
    "def eval_strfrac(s, base=2):    \n",
    "    has_decimal = ''\n",
    "    #Check if there is a decimal \n",
    "    for i in s:\n",
    "        if i == '.':\n",
    "            has_decimal = True\n",
    "            break\n",
    "\n",
    "    #Split based on presence of decimal or not\n",
    "    if has_decimal:\n",
    "        s_parts = s.split('.')\n",
    "        int_part = s_parts[0]\n",
    "        frac_part = s_parts[1]\n",
    "    else:\n",
    "        int_part = s\n",
    "        frac_part = ''\n",
    "   \n",
    "    #Convert integer part using our function    \n",
    "    value_int = eval_strint(int_part, base)\n",
    "    #Convert fractional part\n",
    "    if frac_part:\n",
    "        length_frac = len(frac_part)\n",
    "        value_frac = eval_strint(frac_part, base) * (float(base) ** (-length_frac))\n",
    "    else:\n",
    "        value_frac = 0\n",
    "\n",
    "    #Return sum of int and fractional parts as float\n",
    "    return float(value_int) + value_frac  \n",
    "\n",
    "\n",
    "print(f\"eval_strfrac('100.101', base=2) -> {eval_strfrac('100.101', base=2)}\")"
   ]
  },
  {
   "cell_type": "code",
   "execution_count": 36,
   "id": "a790fb88-79da-4126-b91a-fa6ddb7883ca",
   "metadata": {},
   "outputs": [
    {
     "data": {
      "text/plain": [
       "'0x1.07ae147ae147bp+0'"
      ]
     },
     "execution_count": 36,
     "metadata": {},
     "output_type": "execute_result"
    }
   ],
   "source": [
    "s = 1.03\n",
    "s.hex()"
   ]
  },
  {
   "cell_type": "code",
   "execution_count": null,
   "id": "171e9e76-ba33-4707-8149-a810876ae1f6",
   "metadata": {},
   "outputs": [],
   "source": []
  },
  {
   "cell_type": "code",
   "execution_count": null,
   "id": "d123e0b8-5d6d-436a-83a2-610e86217372",
   "metadata": {},
   "outputs": [],
   "source": []
  },
  {
   "cell_type": "code",
   "execution_count": null,
   "id": "c9b4f7d7-dd5d-4527-83d9-80d920405242",
   "metadata": {},
   "outputs": [],
   "source": []
  },
  {
   "cell_type": "code",
   "execution_count": null,
   "id": "0f15422c-d328-46b2-b9b4-3cf825e003ab",
   "metadata": {},
   "outputs": [],
   "source": []
  },
  {
   "cell_type": "code",
   "execution_count": null,
   "id": "3b3e2ec7-b242-4112-b932-0ca528bcd1ce",
   "metadata": {},
   "outputs": [],
   "source": []
  },
  {
   "cell_type": "code",
   "execution_count": null,
   "id": "b6f1d4a8-9ba2-42fe-bc8c-ece0e3e2dd34",
   "metadata": {},
   "outputs": [],
   "source": []
  },
  {
   "cell_type": "code",
   "execution_count": null,
   "id": "209ccf0c-e1f5-4f98-9ac4-d24f74399751",
   "metadata": {},
   "outputs": [],
   "source": []
  },
  {
   "cell_type": "code",
   "execution_count": null,
   "id": "b99c84c9-a3e6-4aa3-bd2d-fbe3a6c64fce",
   "metadata": {},
   "outputs": [],
   "source": []
  },
  {
   "cell_type": "code",
   "execution_count": null,
   "id": "2a329d26-c6e5-4ad3-8e43-3785add82dd2",
   "metadata": {},
   "outputs": [],
   "source": []
  },
  {
   "cell_type": "code",
   "execution_count": null,
   "id": "8484417d-2d4d-4901-93d3-7b19ae254fb0",
   "metadata": {},
   "outputs": [],
   "source": []
  },
  {
   "cell_type": "code",
   "execution_count": null,
   "id": "33a3a6a3-316c-4ee5-b9d3-2ac138f2838f",
   "metadata": {},
   "outputs": [],
   "source": []
  },
  {
   "cell_type": "code",
   "execution_count": null,
   "id": "39e1fa4b-d28d-431c-8b15-96ab5e46a9d7",
   "metadata": {},
   "outputs": [],
   "source": []
  }
 ],
 "metadata": {
  "kernelspec": {
   "display_name": "Python 3 (ipykernel)",
   "language": "python",
   "name": "python3"
  },
  "language_info": {
   "codemirror_mode": {
    "name": "ipython",
    "version": 3
   },
   "file_extension": ".py",
   "mimetype": "text/x-python",
   "name": "python",
   "nbconvert_exporter": "python",
   "pygments_lexer": "ipython3",
   "version": "3.11.7"
  }
 },
 "nbformat": 4,
 "nbformat_minor": 5
}
