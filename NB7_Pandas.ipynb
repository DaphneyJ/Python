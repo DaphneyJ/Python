{
 "cells": [
  {
   "cell_type": "markdown",
   "id": "18d18d14-8c0f-447f-9dd1-e59fef2bd299",
   "metadata": {},
   "source": [
    "# NB 7: Tidy data and Pandas"
   ]
  },
  {
   "cell_type": "markdown",
   "id": "13ea5f29-0d39-4b8a-9b7d-6d21632a2099",
   "metadata": {},
   "source": [
    "Pandas Overview\n",
    "Pandas is a Python library used for data manipulation and analysis, especially for tabular data. It provides two main structures:\n",
    "\n",
    "1. Series: A one-dimensional array-like object that can hold any data type, like a column in a table.\n",
    "2. DataFrame: A two-dimensional, table-like data structure where rows and columns are labeled. It's the primary structure for handling data in Pandas."
   ]
  },
  {
   "cell_type": "code",
   "execution_count": 5,
   "id": "bea81bac-e899-4c2d-8e8d-1558db5bb31c",
   "metadata": {},
   "outputs": [],
   "source": [
    "import pandas as pd  # Standard idiom for loading pandas\n",
    "from pandas import DataFrame, Series"
   ]
  },
  {
   "cell_type": "markdown",
   "id": "7f98cc82-0864-4f35-a0f8-337540117664",
   "metadata": {},
   "source": [
    "### Series Objects\n",
    "\n",
    "A [`Series`](http://pandas.pydata.org/pandas-docs/stable/generated/pandas.Series.html) object is a column-oriented object that we will use to store a variable of a tibble."
   ]
  },
  {
   "cell_type": "markdown",
   "id": "6622f8f4-a3a0-4ddd-b839-930892054c11",
   "metadata": {},
   "source": [
    "##### Creating a Series"
   ]
  },
  {
   "cell_type": "code",
   "execution_count": 186,
   "id": "b3ccb022-072c-4977-abf2-4b6c7efd3845",
   "metadata": {},
   "outputs": [
    {
     "data": {
      "text/plain": [
       "a    10\n",
       "b    20\n",
       "c    30\n",
       "dtype: int64"
      ]
     },
     "execution_count": 186,
     "metadata": {},
     "output_type": "execute_result"
    }
   ],
   "source": [
    "import pandas as pd\n",
    "\n",
    "#Create a Series\n",
    "s = pd.Series([10, 20, 30], index =['a', 'b', 'c']) #default index if not specified is numbered index\n",
    "s"
   ]
  },
  {
   "cell_type": "code",
   "execution_count": 13,
   "id": "6f912f4a-e7db-4b62-bfed-db89f056a5f4",
   "metadata": {},
   "outputs": [
    {
     "name": "stdout",
     "output_type": "stream",
     "text": [
      "0   -1\n",
      "1    2\n",
      "2   -3\n",
      "3    4\n",
      "4   -5\n",
      "dtype: int64\n"
     ]
    }
   ],
   "source": [
    "from pandas import DataFrame, Series\n",
    "\n",
    "obj = Series([-1, 2, -3, 4, -5])\n",
    "print(obj)"
   ]
  },
  {
   "cell_type": "markdown",
   "id": "24b11ff5-24d1-4a6d-85ac-dd2b7ba2bb9e",
   "metadata": {},
   "source": [
    "Index provides a convenient way to reference individual elements of the Series.\r\n",
    "\r\n",
    "By default, `a Seri`es has an index that is akin to range() in standard Python, and effectively numbers the entries from 0 to n-1, where n is the length of the Series. A Series object also becomes list-like in how you reference its elemen.\n",
    "\n",
    "tsYou can also use more complex index objects, like lists of integers and conditional masks."
   ]
  },
  {
   "cell_type": "code",
   "execution_count": 16,
   "id": "471b093b-af6e-48bf-9680-930a9a9e9afc",
   "metadata": {},
   "outputs": [
    {
     "data": {
      "text/plain": [
       "0   -1\n",
       "2   -3\n",
       "3    4\n",
       "dtype: int64"
      ]
     },
     "execution_count": 16,
     "metadata": {},
     "output_type": "execute_result"
    }
   ],
   "source": [
    "I = [0, 2, 3]\n",
    "obj[I] # Also: obj[[0, 2, 3]]"
   ]
  },
  {
   "cell_type": "code",
   "execution_count": 18,
   "id": "a5735f7a-9718-431e-8d6b-b4dbac577856",
   "metadata": {},
   "outputs": [
    {
     "name": "stdout",
     "output_type": "stream",
     "text": [
      "<class 'pandas.core.series.Series'> 0    False\n",
      "1     True\n",
      "2    False\n",
      "3     True\n",
      "4    False\n",
      "dtype: bool\n"
     ]
    }
   ],
   "source": [
    "I_pos = obj > 0\n",
    "print(type(I_pos), I_pos)"
   ]
  },
  {
   "cell_type": "code",
   "execution_count": 20,
   "id": "2f32a513-addc-4a85-bcb9-733d06d49f1e",
   "metadata": {},
   "outputs": [
    {
     "name": "stdout",
     "output_type": "stream",
     "text": [
      "1    2\n",
      "3    4\n",
      "dtype: int64\n"
     ]
    }
   ],
   "source": [
    "print(obj[I_pos])"
   ]
  },
  {
   "cell_type": "markdown",
   "id": "301d15a9-cb87-4a07-9ce0-74b837d477de",
   "metadata": {},
   "source": [
    "However, the index can be a more general structure, which effectively turns a Series object into something that is \"dictionary-like.\""
   ]
  },
  {
   "cell_type": "code",
   "execution_count": 31,
   "id": "2b574928-3642-4212-8fc6-6e0e83e20480",
   "metadata": {},
   "outputs": [
    {
     "name": "stdout",
     "output_type": "stream",
     "text": [
      "alice     1\n",
      "bob      -2\n",
      "carol     3\n",
      "dave     -4\n",
      "esther    5\n",
      "frank    -6\n",
      "dtype: int64 \n",
      "\n",
      "* obj3['bob']: -2\n",
      "\n"
     ]
    }
   ],
   "source": [
    "obj3 = Series([      1,    -2,       3,     -4,        5,      -6],\n",
    "              ['alice', 'bob', 'carol', 'dave', 'esther', 'frank'])\n",
    "print(f'{obj3} \\n')\n",
    "print(\"* obj3['bob']: {}\\n\".format(obj3['bob']))"
   ]
  },
  {
   "cell_type": "markdown",
   "id": "2444f522-99b5-46a4-b086-9a2bcb7cee18",
   "metadata": {},
   "source": [
    "You can construct a Series from a dictionary directly:"
   ]
  },
  {
   "cell_type": "code",
   "execution_count": 36,
   "id": "f9835e5d-cc4b-459a-8d53-d64ce01d6c87",
   "metadata": {},
   "outputs": [
    {
     "name": "stdout",
     "output_type": "stream",
     "text": [
      "alice     1\n",
      "carol     3\n",
      "esther    5\n",
      "bob      -2\n",
      "dave     -4\n",
      "frank    -6\n",
      "dtype: int64\n"
     ]
    }
   ],
   "source": [
    "peeps = {'alice': 1, 'carol': 3, 'esther': 5, 'bob': -2, 'dave': -4, 'frank': -6}\n",
    "obj4 = Series(peeps)\n",
    "print(obj4)"
   ]
  },
  {
   "cell_type": "code",
   "execution_count": 38,
   "id": "1870071e-fef6-4c81-8d90-7e9300ad0bdf",
   "metadata": {},
   "outputs": [
    {
     "name": "stdout",
     "output_type": "stream",
     "text": [
      "* las mujeres of `obj3` at offsets [0, 2, 4]:\n",
      "alice     1\n",
      "carol     3\n",
      "esther    5\n",
      "dtype: int64\n",
      "\n"
     ]
    },
    {
     "name": "stderr",
     "output_type": "stream",
     "text": [
      "C:\\Users\\jacqu\\AppData\\Local\\Temp\\ipykernel_6556\\2722057461.py:2: FutureWarning: Series.__getitem__ treating keys as positions is deprecated. In a future version, integer keys will always be treated as labels (consistent with DataFrame behavior). To access a value by position, use `ser.iloc[pos]`\n",
      "  print(\"* las mujeres of `obj3` at offsets {}:\\n{}\\n\".format(mujeres, obj3[mujeres]))\n"
     ]
    }
   ],
   "source": [
    "mujeres = [0, 2, 4] # list of integer offsets\n",
    "print(\"* las mujeres of `obj3` at offsets {}:\\n{}\\n\".format(mujeres, obj3[mujeres]))"
   ]
  },
  {
   "cell_type": "markdown",
   "id": "ceaf12bf-8218-4227-a9a5-8e1371621e5e",
   "metadata": {},
   "source": [
    "Basic arithmetic works on `Series` as vector-like operations."
   ]
  },
  {
   "cell_type": "code",
   "execution_count": 48,
   "id": "d06d0e88-957e-40c4-b5f1-d37d35085a0e",
   "metadata": {},
   "outputs": [
    {
     "name": "stdout",
     "output_type": "stream",
     "text": [
      "alice     1\n",
      "bob      -2\n",
      "carol     3\n",
      "dave     -4\n",
      "esther    5\n",
      "frank    -6\n",
      "dtype: int64 \n",
      "\n",
      "alice      6\n",
      "bob        3\n",
      "carol      8\n",
      "dave       1\n",
      "esther    10\n",
      "frank     -1\n",
      "dtype: int64 \n",
      "\n",
      "alice      True\n",
      "bob        True\n",
      "carol      True\n",
      "dave       True\n",
      "esther     True\n",
      "frank     False\n",
      "dtype: bool \n",
      "\n",
      "alice      3.5\n",
      "bob        8.0\n",
      "carol      0.5\n",
      "dave      11.0\n",
      "esther    -2.5\n",
      "frank     14.0\n",
      "dtype: float64\n"
     ]
    }
   ],
   "source": [
    "print(obj3, \"\\n\")\n",
    "print(obj3 + 5, \"\\n\")\n",
    "print(obj3 + 5 > 0, \"\\n\")\n",
    "print((-2.5 * obj3) + (obj3 + 5))"
   ]
  },
  {
   "cell_type": "markdown",
   "id": "67f376dc-e550-445f-8f5c-f6ac117f8d94",
   "metadata": {},
   "source": [
    "A Series object also supports vector-style operations with automatic alignment based on index values."
   ]
  },
  {
   "cell_type": "code",
   "execution_count": 61,
   "id": "3aaf15c9-0c8a-4775-8d64-0c821c7dc5a3",
   "metadata": {},
   "outputs": [
    {
     "name": "stdout",
     "output_type": "stream",
     "text": [
      "alice     1\n",
      "bob      -2\n",
      "carol     3\n",
      "dave     -4\n",
      "esther    5\n",
      "frank    -6\n",
      "dtype: int64 \n",
      "\n",
      "alice     1\n",
      "carol     3\n",
      "esther    5\n",
      "dtype: int64 \n",
      "\n",
      "alice      2.0\n",
      "bob        NaN\n",
      "carol      6.0\n",
      "dave       NaN\n",
      "esther    10.0\n",
      "frank      NaN\n",
      "dtype: float64 \n",
      "\n"
     ]
    },
    {
     "name": "stderr",
     "output_type": "stream",
     "text": [
      "C:\\Users\\jacqu\\AppData\\Local\\Temp\\ipykernel_6556\\1934776332.py:3: FutureWarning: Series.__getitem__ treating keys as positions is deprecated. In a future version, integer keys will always be treated as labels (consistent with DataFrame behavior). To access a value by position, use `ser.iloc[pos]`\n",
      "  obj_l = obj3[mujeres]\n"
     ]
    }
   ],
   "source": [
    "print(obj3, \"\\n\")\n",
    "\n",
    "obj_l = obj3[mujeres]\n",
    "print(obj_l, \"\\n\")\n",
    "\n",
    "\n",
    "print(obj3 + obj_l, \"\\n\")"
   ]
  },
  {
   "cell_type": "markdown",
   "id": "16555970-a6e2-404d-ae5f-4c471d000b92",
   "metadata": {},
   "source": [
    "Another useful transformation is the `.apply(fun)` method. It returns a copy of the Series where the function fun has been applied to each element."
   ]
  },
  {
   "cell_type": "code",
   "execution_count": 68,
   "id": "b08f3a77-a411-4929-b559-1ad2c4bd3b90",
   "metadata": {},
   "outputs": [
    {
     "name": "stdout",
     "output_type": "stream",
     "text": [
      "alice     1\n",
      "bob      -2\n",
      "carol     3\n",
      "dave     -4\n",
      "esther    5\n",
      "frank    -6\n",
      "dtype: int64 \n",
      "\n",
      "alice     1\n",
      "bob       2\n",
      "carol     3\n",
      "dave      4\n",
      "esther    5\n",
      "frank     6\n",
      "dtype: int64\n"
     ]
    }
   ],
   "source": [
    "print(f'{obj3} \\n')\n",
    "print(obj3.apply(abs)) #apply abs value function to all of series and return a copy"
   ]
  },
  {
   "cell_type": "markdown",
   "id": "5dd8db53-1e32-4f34-8b9b-799f46de5620",
   "metadata": {},
   "source": [
    "A `Series` may be _named_, too."
   ]
  },
  {
   "cell_type": "code",
   "execution_count": 75,
   "id": "65eab76c-dc18-4254-b7a1-57da140a2ba1",
   "metadata": {},
   "outputs": [
    {
     "name": "stdout",
     "output_type": "stream",
     "text": [
      "alice     1\n",
      "bob      -2\n",
      "carol     3\n",
      "dave     -4\n",
      "esther    5\n",
      "frank    -6\n",
      "Name: peep, dtype: int64\n",
      "\n",
      "peep\n"
     ]
    }
   ],
   "source": [
    "obj3.name = 'peep'\n",
    "\n",
    "print(f'{obj3}\\n')\n",
    "print(obj3.name)"
   ]
  },
  {
   "cell_type": "markdown",
   "id": "1859ee74-d45f-41be-b9cf-8a191cd6e94b",
   "metadata": {},
   "source": [
    "### DataFrame Objects"
   ]
  },
  {
   "cell_type": "markdown",
   "id": "ce34f9ff-921f-4615-af36-e1adca027ef3",
   "metadata": {},
   "source": [
    "A pandas `DataFrame` object is a table whose columns are Series objects, all keyed on the same index. It's the perfect container for what we have been referring to as a tibble."
   ]
  },
  {
   "cell_type": "markdown",
   "id": "30dd267f-794e-4d76-8881-52075ca4720f",
   "metadata": {},
   "source": [
    "##### Creating a DataFrame"
   ]
  },
  {
   "cell_type": "code",
   "execution_count": 194,
   "id": "c18b74a0-2994-4564-8ec7-7fc5727b30ee",
   "metadata": {},
   "outputs": [
    {
     "name": "stdout",
     "output_type": "stream",
     "text": [
      "      Name  Age  Salary\n",
      "0    Alice   25   50000\n",
      "1      Bob   30   60000\n",
      "2  Charlie   35   70000\n"
     ]
    }
   ],
   "source": [
    "#Creating a DataFrame\n",
    "data = {'Name': ['Alice', 'Bob', 'Charlie'],\n",
    "        'Age': [25, 30, 35],\n",
    "        'Salary': [50000, 60000, 70000]}\n",
    "df = pd.DataFrame(data)\n",
    "print(df)"
   ]
  },
  {
   "cell_type": "code",
   "execution_count": 90,
   "id": "d7b5369c-d5a5-4354-a0f9-1b9d7edf46b4",
   "metadata": {},
   "outputs": [
    {
     "name": "stdout",
     "output_type": "stream",
     "text": [
      "type: <class 'pandas.core.frame.DataFrame'> \n",
      "\n",
      "               name    zip       poc\n",
      "0         east pole  30324     jared\n",
      "1     chrome yellow  30312     kelly\n",
      "2             brash  30318      matt\n",
      "3           taproom  30317  jonathan\n",
      "4            3heart  30306      nhan\n",
      "5  spiller park pcm  30308      dale\n",
      "6            refuge  30303     kitti\n",
      "7           toptime  30318     nolan \n",
      "\n"
     ]
    },
    {
     "data": {
      "text/html": [
       "<div>\n",
       "<style scoped>\n",
       "    .dataframe tbody tr th:only-of-type {\n",
       "        vertical-align: middle;\n",
       "    }\n",
       "\n",
       "    .dataframe tbody tr th {\n",
       "        vertical-align: top;\n",
       "    }\n",
       "\n",
       "    .dataframe thead th {\n",
       "        text-align: right;\n",
       "    }\n",
       "</style>\n",
       "<table border=\"1\" class=\"dataframe\">\n",
       "  <thead>\n",
       "    <tr style=\"text-align: right;\">\n",
       "      <th></th>\n",
       "      <th>name</th>\n",
       "      <th>zip</th>\n",
       "      <th>poc</th>\n",
       "    </tr>\n",
       "  </thead>\n",
       "  <tbody>\n",
       "    <tr>\n",
       "      <th>0</th>\n",
       "      <td>east pole</td>\n",
       "      <td>30324</td>\n",
       "      <td>jared</td>\n",
       "    </tr>\n",
       "    <tr>\n",
       "      <th>1</th>\n",
       "      <td>chrome yellow</td>\n",
       "      <td>30312</td>\n",
       "      <td>kelly</td>\n",
       "    </tr>\n",
       "    <tr>\n",
       "      <th>2</th>\n",
       "      <td>brash</td>\n",
       "      <td>30318</td>\n",
       "      <td>matt</td>\n",
       "    </tr>\n",
       "    <tr>\n",
       "      <th>3</th>\n",
       "      <td>taproom</td>\n",
       "      <td>30317</td>\n",
       "      <td>jonathan</td>\n",
       "    </tr>\n",
       "    <tr>\n",
       "      <th>4</th>\n",
       "      <td>3heart</td>\n",
       "      <td>30306</td>\n",
       "      <td>nhan</td>\n",
       "    </tr>\n",
       "    <tr>\n",
       "      <th>5</th>\n",
       "      <td>spiller park pcm</td>\n",
       "      <td>30308</td>\n",
       "      <td>dale</td>\n",
       "    </tr>\n",
       "    <tr>\n",
       "      <th>6</th>\n",
       "      <td>refuge</td>\n",
       "      <td>30303</td>\n",
       "      <td>kitti</td>\n",
       "    </tr>\n",
       "    <tr>\n",
       "      <th>7</th>\n",
       "      <td>toptime</td>\n",
       "      <td>30318</td>\n",
       "      <td>nolan</td>\n",
       "    </tr>\n",
       "  </tbody>\n",
       "</table>\n",
       "</div>"
      ],
      "text/plain": [
       "               name    zip       poc\n",
       "0         east pole  30324     jared\n",
       "1     chrome yellow  30312     kelly\n",
       "2             brash  30318      matt\n",
       "3           taproom  30317  jonathan\n",
       "4            3heart  30306      nhan\n",
       "5  spiller park pcm  30308      dale\n",
       "6            refuge  30303     kitti\n",
       "7           toptime  30318     nolan"
      ]
     },
     "metadata": {},
     "output_type": "display_data"
    }
   ],
   "source": [
    "#Creating dataframe\n",
    "cafes = DataFrame({'name': ['east pole', 'chrome yellow', 'brash', 'taproom', '3heart', 'spiller park pcm', 'refuge', 'toptime'],\n",
    "                   'zip': [30324, 30312, 30318, 30317, 30306, 30308, 30303, 30318],\n",
    "                   'poc': ['jared', 'kelly', 'matt', 'jonathan', 'nhan', 'dale', 'kitti', 'nolan']})\n",
    "print(\"type:\", type(cafes), \"\\n\")\n",
    "print(cafes, \"\\n\")\n",
    "display(cafes) # Or just `cafes` as the last line of a cell"
   ]
  },
  {
   "cell_type": "markdown",
   "id": "ebbf0a61-eb78-4665-9e0a-eddf5561c3c4",
   "metadata": {},
   "source": [
    "##### Indexing and Slicing in DataFrames"
   ]
  },
  {
   "cell_type": "code",
   "execution_count": 101,
   "id": "13e715c0-f468-41a0-b0ed-1ca56c3d6ed1",
   "metadata": {},
   "outputs": [
    {
     "name": "stdout",
     "output_type": "stream",
     "text": [
      "Index(['name', 'zip', 'poc'], dtype='object')\n",
      "<class 'pandas.core.series.Series'>\n"
     ]
    }
   ],
   "source": [
    "#DataFrames have named columns, which are stored as an `Index` \n",
    "print(cafes.columns)\n",
    "\n",
    "#Each column is a named Series:\n",
    "print(type(cafes['zip'])) "
   ]
  },
  {
   "cell_type": "markdown",
   "id": "b9ecf59e-9ec5-4d02-875a-9acd051b70e7",
   "metadata": {},
   "source": [
    "Selecting columns: You can also select multiple columns by passing a list of column names."
   ]
  },
  {
   "cell_type": "code",
   "execution_count": 198,
   "id": "c8a225e0-1683-4c0e-8a4b-769d2a324009",
   "metadata": {},
   "outputs": [
    {
     "data": {
      "text/html": [
       "<div>\n",
       "<style scoped>\n",
       "    .dataframe tbody tr th:only-of-type {\n",
       "        vertical-align: middle;\n",
       "    }\n",
       "\n",
       "    .dataframe tbody tr th {\n",
       "        vertical-align: top;\n",
       "    }\n",
       "\n",
       "    .dataframe thead th {\n",
       "        text-align: right;\n",
       "    }\n",
       "</style>\n",
       "<table border=\"1\" class=\"dataframe\">\n",
       "  <thead>\n",
       "    <tr style=\"text-align: right;\">\n",
       "      <th></th>\n",
       "      <th>zip</th>\n",
       "      <th>poc</th>\n",
       "    </tr>\n",
       "  </thead>\n",
       "  <tbody>\n",
       "    <tr>\n",
       "      <th>0</th>\n",
       "      <td>30324</td>\n",
       "      <td>jared</td>\n",
       "    </tr>\n",
       "    <tr>\n",
       "      <th>1</th>\n",
       "      <td>30312</td>\n",
       "      <td>kelly</td>\n",
       "    </tr>\n",
       "    <tr>\n",
       "      <th>2</th>\n",
       "      <td>30318</td>\n",
       "      <td>matt</td>\n",
       "    </tr>\n",
       "    <tr>\n",
       "      <th>3</th>\n",
       "      <td>30317</td>\n",
       "      <td>jonathan</td>\n",
       "    </tr>\n",
       "    <tr>\n",
       "      <th>4</th>\n",
       "      <td>30306</td>\n",
       "      <td>nhan</td>\n",
       "    </tr>\n",
       "    <tr>\n",
       "      <th>5</th>\n",
       "      <td>30308</td>\n",
       "      <td>dale</td>\n",
       "    </tr>\n",
       "    <tr>\n",
       "      <th>6</th>\n",
       "      <td>30303</td>\n",
       "      <td>kitti</td>\n",
       "    </tr>\n",
       "    <tr>\n",
       "      <th>7</th>\n",
       "      <td>30318</td>\n",
       "      <td>nolan</td>\n",
       "    </tr>\n",
       "  </tbody>\n",
       "</table>\n",
       "</div>"
      ],
      "text/plain": [
       "     zip       poc\n",
       "0  30324     jared\n",
       "1  30312     kelly\n",
       "2  30318      matt\n",
       "3  30317  jonathan\n",
       "4  30306      nhan\n",
       "5  30308      dale\n",
       "6  30303     kitti\n",
       "7  30318     nolan"
      ]
     },
     "execution_count": 198,
     "metadata": {},
     "output_type": "execute_result"
    }
   ],
   "source": [
    "# Select multiple columns\n",
    "target_fields = ['zip', 'poc'] \n",
    "cafes[target_fields]"
   ]
  },
  {
   "cell_type": "code",
   "execution_count": 212,
   "id": "87be3e34-14a6-453c-adc0-d38ffa1f65cc",
   "metadata": {},
   "outputs": [
    {
     "data": {
      "text/html": [
       "<div>\n",
       "<style scoped>\n",
       "    .dataframe tbody tr th:only-of-type {\n",
       "        vertical-align: middle;\n",
       "    }\n",
       "\n",
       "    .dataframe tbody tr th {\n",
       "        vertical-align: top;\n",
       "    }\n",
       "\n",
       "    .dataframe thead th {\n",
       "        text-align: right;\n",
       "    }\n",
       "</style>\n",
       "<table border=\"1\" class=\"dataframe\">\n",
       "  <thead>\n",
       "    <tr style=\"text-align: right;\">\n",
       "      <th></th>\n",
       "      <th>name</th>\n",
       "      <th>zip</th>\n",
       "      <th>poc</th>\n",
       "    </tr>\n",
       "  </thead>\n",
       "  <tbody>\n",
       "    <tr>\n",
       "      <th>1</th>\n",
       "      <td>chrome yellow</td>\n",
       "      <td>30312</td>\n",
       "      <td>kelly</td>\n",
       "    </tr>\n",
       "    <tr>\n",
       "      <th>3</th>\n",
       "      <td>taproom</td>\n",
       "      <td>30317</td>\n",
       "      <td>jonathan</td>\n",
       "    </tr>\n",
       "    <tr>\n",
       "      <th>5</th>\n",
       "      <td>spiller park pcm</td>\n",
       "      <td>30308</td>\n",
       "      <td>dale</td>\n",
       "    </tr>\n",
       "    <tr>\n",
       "      <th>7</th>\n",
       "      <td>toptime</td>\n",
       "      <td>30318</td>\n",
       "      <td>nolan</td>\n",
       "    </tr>\n",
       "  </tbody>\n",
       "</table>\n",
       "</div>"
      ],
      "text/plain": [
       "               name    zip       poc\n",
       "1     chrome yellow  30312     kelly\n",
       "3           taproom  30317  jonathan\n",
       "5  spiller park pcm  30308      dale\n",
       "7           toptime  30318     nolan"
      ]
     },
     "execution_count": 212,
     "metadata": {},
     "output_type": "execute_result"
    }
   ],
   "source": [
    "#Slices apply to rows.\n",
    "cafes[1::2] #select every other row, starting from index 1"
   ]
  },
  {
   "cell_type": "code",
   "execution_count": 218,
   "id": "aa2460f7-38d4-47c3-85f6-3d9693756447",
   "metadata": {},
   "outputs": [
    {
     "data": {
      "text/html": [
       "<div>\n",
       "<style scoped>\n",
       "    .dataframe tbody tr th:only-of-type {\n",
       "        vertical-align: middle;\n",
       "    }\n",
       "\n",
       "    .dataframe tbody tr th {\n",
       "        vertical-align: top;\n",
       "    }\n",
       "\n",
       "    .dataframe thead th {\n",
       "        text-align: right;\n",
       "    }\n",
       "</style>\n",
       "<table border=\"1\" class=\"dataframe\">\n",
       "  <thead>\n",
       "    <tr style=\"text-align: right;\">\n",
       "      <th></th>\n",
       "      <th>poc</th>\n",
       "      <th>zip</th>\n",
       "    </tr>\n",
       "  </thead>\n",
       "  <tbody>\n",
       "    <tr>\n",
       "      <th>east pole</th>\n",
       "      <td>jared</td>\n",
       "      <td>30324</td>\n",
       "    </tr>\n",
       "    <tr>\n",
       "      <th>chrome yellow</th>\n",
       "      <td>kelly</td>\n",
       "      <td>30312</td>\n",
       "    </tr>\n",
       "    <tr>\n",
       "      <th>brash</th>\n",
       "      <td>matt</td>\n",
       "      <td>30318</td>\n",
       "    </tr>\n",
       "    <tr>\n",
       "      <th>taproom</th>\n",
       "      <td>jonathan</td>\n",
       "      <td>30317</td>\n",
       "    </tr>\n",
       "    <tr>\n",
       "      <th>3heart</th>\n",
       "      <td>nhan</td>\n",
       "      <td>30306</td>\n",
       "    </tr>\n",
       "    <tr>\n",
       "      <th>spiller park pcm</th>\n",
       "      <td>dale</td>\n",
       "      <td>30308</td>\n",
       "    </tr>\n",
       "    <tr>\n",
       "      <th>refuge</th>\n",
       "      <td>kitti</td>\n",
       "      <td>30303</td>\n",
       "    </tr>\n",
       "    <tr>\n",
       "      <th>toptime</th>\n",
       "      <td>nolan</td>\n",
       "      <td>30318</td>\n",
       "    </tr>\n",
       "  </tbody>\n",
       "</table>\n",
       "</div>"
      ],
      "text/plain": [
       "                       poc    zip\n",
       "east pole            jared  30324\n",
       "chrome yellow        kelly  30312\n",
       "brash                 matt  30318\n",
       "taproom           jonathan  30317\n",
       "3heart                nhan  30306\n",
       "spiller park pcm      dale  30308\n",
       "refuge               kitti  30303\n",
       "toptime              nolan  30318"
      ]
     },
     "execution_count": 218,
     "metadata": {},
     "output_type": "execute_result"
    }
   ],
   "source": [
    "cafes2 = cafes[['poc', 'zip']]\n",
    "cafes2.index = cafes['name'] #assign the name column as the index\n",
    "cafes2.index.name = None     \n",
    "cafes2"
   ]
  },
  {
   "cell_type": "markdown",
   "id": "b59b6cb7-a946-4829-b015-3b2bc6cccab7",
   "metadata": {},
   "source": [
    "###### Accessing Rows and Columns using:\n",
    "`.loc[]` - label-based selection\n",
    "\n",
    "`.iloc[]` - integer-based selection (position)"
   ]
  },
  {
   "cell_type": "code",
   "execution_count": 237,
   "id": "46b39a3b-98d9-4707-a7c2-e3c27bb8f802",
   "metadata": {},
   "outputs": [
    {
     "name": "stdout",
     "output_type": "stream",
     "text": [
      "      Name  Age  Salary\n",
      "0    Alice   25   50000\n",
      "1      Bob   30   60000\n",
      "2  Charlie   35   70000 \n",
      "\n",
      "0      Alice\n",
      "1        Bob\n",
      "2    Charlie\n",
      "Name: Name, dtype: object\n",
      "0    25\n",
      "1    30\n",
      "2    35\n",
      "Name: Age, dtype: int64\n"
     ]
    }
   ],
   "source": [
    "print(df, '\\n')\n",
    "print(df.loc[:, 'Name']) # Select all rows for the 'Name' column\n",
    "print(df.iloc[:, 1])  # Select all rows for the second (Age) column"
   ]
  },
  {
   "cell_type": "code",
   "execution_count": 109,
   "id": "f243e05c-df4b-42a7-bf7d-431180a75bb4",
   "metadata": {},
   "outputs": [
    {
     "name": "stdout",
     "output_type": "stream",
     "text": [
      "                 poc    zip\n",
      "chrome yellow  kelly  30312\n",
      "3heart          nhan  30306 \n",
      "\n",
      "                    poc    zip\n",
      "chrome yellow     kelly  30312\n",
      "taproom        jonathan  30317\n"
     ]
    }
   ],
   "source": [
    "#You can access subsets of rows using the .loc field and index values:\n",
    "print(cafes2.loc[['chrome yellow', '3heart']], '\\n')\n",
    "\n",
    "#Alternatively, you can use integer offsets via the .iloc field index positions.\n",
    "print(cafes2.iloc[[1, 3]]) #row index 1 & 3(2nd and 4th row)"
   ]
  },
  {
   "cell_type": "markdown",
   "id": "643de16a-fbee-47e3-a4d6-6a81c2f8d9a3",
   "metadata": {},
   "source": [
    "##### Slicing Data:"
   ]
  },
  {
   "cell_type": "code",
   "execution_count": 246,
   "id": "9ccd8b25-1a36-4dfa-bd40-aeb76258dc4c",
   "metadata": {},
   "outputs": [
    {
     "name": "stdout",
     "output_type": "stream",
     "text": [
      "    Name  Age  Salary\n",
      "0  Alice   25   50000\n",
      "1    Bob   30   60000\n",
      "    Name  Age\n",
      "0  Alice   25\n",
      "1    Bob   30\n"
     ]
    }
   ],
   "source": [
    "# Slicing by label - loc\n",
    "print(df.loc[0:1, 'Name':'Salary'])  # Rows 0 to 1 and columns from Name to Salary\n",
    "\n",
    "# Slicing by position - iloc\n",
    "print(df.iloc[0:2, 0:2])  # First two rows and first two columns"
   ]
  },
  {
   "cell_type": "code",
   "execution_count": 113,
   "id": "49c7556a-a73c-4e01-ba68-41884a0c7588",
   "metadata": {},
   "outputs": [
    {
     "data": {
      "text/html": [
       "<div>\n",
       "<style scoped>\n",
       "    .dataframe tbody tr th:only-of-type {\n",
       "        vertical-align: middle;\n",
       "    }\n",
       "\n",
       "    .dataframe tbody tr th {\n",
       "        vertical-align: top;\n",
       "    }\n",
       "\n",
       "    .dataframe thead th {\n",
       "        text-align: right;\n",
       "    }\n",
       "</style>\n",
       "<table border=\"1\" class=\"dataframe\">\n",
       "  <thead>\n",
       "    <tr style=\"text-align: right;\">\n",
       "      <th></th>\n",
       "      <th>poc</th>\n",
       "      <th>zip</th>\n",
       "      <th>rating</th>\n",
       "      <th>price</th>\n",
       "    </tr>\n",
       "  </thead>\n",
       "  <tbody>\n",
       "    <tr>\n",
       "      <th>east pole</th>\n",
       "      <td>jared</td>\n",
       "      <td>30324</td>\n",
       "      <td>4.0</td>\n",
       "      <td>$$</td>\n",
       "    </tr>\n",
       "    <tr>\n",
       "      <th>chrome yellow</th>\n",
       "      <td>kelly</td>\n",
       "      <td>30312</td>\n",
       "      <td>4.0</td>\n",
       "      <td>$$</td>\n",
       "    </tr>\n",
       "    <tr>\n",
       "      <th>brash</th>\n",
       "      <td>matt</td>\n",
       "      <td>30318</td>\n",
       "      <td>4.0</td>\n",
       "      <td>$$</td>\n",
       "    </tr>\n",
       "    <tr>\n",
       "      <th>taproom</th>\n",
       "      <td>jonathan</td>\n",
       "      <td>30317</td>\n",
       "      <td>4.0</td>\n",
       "      <td>$$</td>\n",
       "    </tr>\n",
       "    <tr>\n",
       "      <th>3heart</th>\n",
       "      <td>nhan</td>\n",
       "      <td>30306</td>\n",
       "      <td>4.0</td>\n",
       "      <td>$$</td>\n",
       "    </tr>\n",
       "    <tr>\n",
       "      <th>spiller park pcm</th>\n",
       "      <td>dale</td>\n",
       "      <td>30308</td>\n",
       "      <td>4.0</td>\n",
       "      <td>$$</td>\n",
       "    </tr>\n",
       "    <tr>\n",
       "      <th>refuge</th>\n",
       "      <td>kitti</td>\n",
       "      <td>30303</td>\n",
       "      <td>4.0</td>\n",
       "      <td>$$</td>\n",
       "    </tr>\n",
       "    <tr>\n",
       "      <th>toptime</th>\n",
       "      <td>nolan</td>\n",
       "      <td>30318</td>\n",
       "      <td>4.0</td>\n",
       "      <td>$$</td>\n",
       "    </tr>\n",
       "  </tbody>\n",
       "</table>\n",
       "</div>"
      ],
      "text/plain": [
       "                       poc    zip  rating price\n",
       "east pole            jared  30324     4.0    $$\n",
       "chrome yellow        kelly  30312     4.0    $$\n",
       "brash                 matt  30318     4.0    $$\n",
       "taproom           jonathan  30317     4.0    $$\n",
       "3heart                nhan  30306     4.0    $$\n",
       "spiller park pcm      dale  30308     4.0    $$\n",
       "refuge               kitti  30303     4.0    $$\n",
       "toptime              nolan  30318     4.0    $$"
      ]
     },
     "execution_count": 113,
     "metadata": {},
     "output_type": "execute_result"
    }
   ],
   "source": [
    "#Adding columns\n",
    "cafes2['rating'] = 4.0\n",
    "cafes2['price'] = '$$'\n",
    "cafes2"
   ]
  },
  {
   "cell_type": "markdown",
   "id": "e06a0d49-970c-4c2c-8840-bef6fb338f28",
   "metadata": {},
   "source": [
    "#### Using `.apply()` Method\n",
    "The apply() method allows you to apply a function along the axis of a DataFrame or Series. It’s a powerful tool for transforming data.\n",
    "- Column Operations (`axis = 0`): vertically  ~ Default\n",
    "- Row Operations (`axis = 1`): horizontally"
   ]
  },
  {
   "cell_type": "code",
   "execution_count": 272,
   "id": "c511c9cf-2033-4bca-8ec5-e3a66f5e481f",
   "metadata": {},
   "outputs": [
    {
     "name": "stdout",
     "output_type": "stream",
     "text": [
      "      Name  Age  Salary  Salary_after_tax\n",
      "0    Alice   25   50000           35000.0\n",
      "1      Bob   30   60000           42000.0\n",
      "2  Charlie   35   70000           49000.0 \n",
      "\n"
     ]
    }
   ],
   "source": [
    "#Row Operations \n",
    "df['Salary_after_tax'] = df.apply(lambda row: row['Salary'] * 0.7, axis=1)\n",
    "print(df, '\\n')"
   ]
  },
  {
   "cell_type": "code",
   "execution_count": 115,
   "id": "2eb6446d-ef60-4deb-866c-de59be97af8e",
   "metadata": {},
   "outputs": [
    {
     "name": "stdout",
     "output_type": "stream",
     "text": [
      "east pole           2\n",
      "chrome yellow       2\n",
      "brash               2\n",
      "taproom             2\n",
      "3heart              2\n",
      "spiller park pcm    2\n",
      "refuge              2\n",
      "toptime             2\n",
      "Name: price, dtype: int64 \n",
      "\n",
      "                       poc    zip  rating price  value\n",
      "east pole            jared  30324     4.0    $$    2.0\n",
      "chrome yellow        kelly  30312     4.0    $$    2.0\n",
      "brash                 matt  30318     4.0    $$    2.0\n",
      "taproom           jonathan  30317     4.0    $$    2.0\n",
      "3heart                nhan  30306     4.0    $$    2.0\n",
      "spiller park pcm      dale  30308     4.0    $$    2.0\n",
      "refuge               kitti  30303     4.0    $$    2.0\n",
      "toptime              nolan  30318     4.0    $$    2.0\n"
     ]
    }
   ],
   "source": [
    "#Vector arithmetic on columns\n",
    "prices_as_ints = cafes2['price'].apply(lambda s: len(s))\n",
    "print(prices_as_ints, '\\n')\n",
    "\n",
    "cafes2['value'] = cafes2['rating'] / prices_as_ints\n",
    "print(cafes2)"
   ]
  },
  {
   "cell_type": "markdown",
   "id": "72c327ae-a3c7-41b4-a9a3-e21c0d83c966",
   "metadata": {},
   "source": [
    "In the above example, vector arithmetic works because all the Series objects involved have identical indexes Because the columns are Series objects, there is an implicit matching that is happening on the indexes.\n",
    "\n",
    "This wont work in the following example>"
   ]
  },
  {
   "cell_type": "code",
   "execution_count": 142,
   "id": "7befbc83-07d7-41a2-8261-2d66c6953852",
   "metadata": {},
   "outputs": [
    {
     "name": "stdout",
     "output_type": "stream",
     "text": [
      "east pole           False\n",
      "chrome yellow       False\n",
      "brash               False\n",
      "taproom             False\n",
      "3heart               True\n",
      "spiller park pcm     True\n",
      "refuge              False\n",
      "toptime             False\n",
      "Name: zip, dtype: bool \n",
      "\n"
     ]
    },
    {
     "data": {
      "text/html": [
       "<div>\n",
       "<style scoped>\n",
       "    .dataframe tbody tr th:only-of-type {\n",
       "        vertical-align: middle;\n",
       "    }\n",
       "\n",
       "    .dataframe tbody tr th {\n",
       "        vertical-align: top;\n",
       "    }\n",
       "\n",
       "    .dataframe thead th {\n",
       "        text-align: right;\n",
       "    }\n",
       "</style>\n",
       "<table border=\"1\" class=\"dataframe\">\n",
       "  <thead>\n",
       "    <tr style=\"text-align: right;\">\n",
       "      <th></th>\n",
       "      <th>poc</th>\n",
       "      <th>zip</th>\n",
       "      <th>rating</th>\n",
       "      <th>price</th>\n",
       "      <th>value</th>\n",
       "    </tr>\n",
       "  </thead>\n",
       "  <tbody>\n",
       "    <tr>\n",
       "      <th>3heart</th>\n",
       "      <td>nhan</td>\n",
       "      <td>30306</td>\n",
       "      <td>4.0</td>\n",
       "      <td>$$</td>\n",
       "      <td>2.0</td>\n",
       "    </tr>\n",
       "    <tr>\n",
       "      <th>spiller park pcm</th>\n",
       "      <td>dale</td>\n",
       "      <td>30308</td>\n",
       "      <td>4.0</td>\n",
       "      <td>$$</td>\n",
       "      <td>2.0</td>\n",
       "    </tr>\n",
       "  </tbody>\n",
       "</table>\n",
       "</div>"
      ],
      "text/plain": [
       "                   poc    zip  rating price  value\n",
       "3heart            nhan  30306     4.0    $$    2.0\n",
       "spiller park pcm  dale  30308     4.0    $$    2.0"
      ]
     },
     "metadata": {},
     "output_type": "display_data"
    }
   ],
   "source": [
    "cafes3 = cafes2.copy()\n",
    "is_fancy = cafes3['zip'].isin({30306, 30308})\n",
    "# Alternative:\n",
    "#is_fancy = cafes3['zip'].apply(lambda z: z in {30306, 30308})\n",
    "print(is_fancy, '\\n')\n",
    "display(cafes3[is_fancy])"
   ]
  },
  {
   "cell_type": "code",
   "execution_count": 150,
   "id": "70db49b4-9fb1-4a16-8c87-1ce088b37308",
   "metadata": {},
   "outputs": [
    {
     "name": "stderr",
     "output_type": "stream",
     "text": [
      "C:\\Users\\jacqu\\AppData\\Local\\Temp\\ipykernel_6556\\4068782117.py:2: SettingWithCopyWarning: \n",
      "A value is trying to be set on a copy of a slice from a DataFrame.\n",
      "Try using .loc[row_indexer,col_indexer] = value instead\n",
      "\n",
      "See the caveats in the documentation: https://pandas.pydata.org/pandas-docs/stable/user_guide/indexing.html#returning-a-view-versus-a-copy\n",
      "  cafes3[is_fancy]['price'] += '$' #Error\n"
     ]
    }
   ],
   "source": [
    "#Concataneation: Add extra $ to price for fancy restauraunts\n",
    "cafes3[is_fancy]['price'] += '$'   #ERROR"
   ]
  },
  {
   "cell_type": "markdown",
   "id": "232ba946-8eca-4978-beb4-cf8a723e98d5",
   "metadata": {},
   "source": [
    "When you slice horizontally, you get copies of the original data, not references to subsets of the original data. Therefore, we'll need different strategy. Use loc instead. "
   ]
  },
  {
   "cell_type": "code",
   "execution_count": 148,
   "id": "0d439202-6055-40ad-8b95-4974ada27176",
   "metadata": {},
   "outputs": [
    {
     "data": {
      "text/html": [
       "<div>\n",
       "<style scoped>\n",
       "    .dataframe tbody tr th:only-of-type {\n",
       "        vertical-align: middle;\n",
       "    }\n",
       "\n",
       "    .dataframe tbody tr th {\n",
       "        vertical-align: top;\n",
       "    }\n",
       "\n",
       "    .dataframe thead th {\n",
       "        text-align: right;\n",
       "    }\n",
       "</style>\n",
       "<table border=\"1\" class=\"dataframe\">\n",
       "  <thead>\n",
       "    <tr style=\"text-align: right;\">\n",
       "      <th></th>\n",
       "      <th>poc</th>\n",
       "      <th>zip</th>\n",
       "      <th>rating</th>\n",
       "      <th>price</th>\n",
       "      <th>value</th>\n",
       "    </tr>\n",
       "  </thead>\n",
       "  <tbody>\n",
       "    <tr>\n",
       "      <th>east pole</th>\n",
       "      <td>jared</td>\n",
       "      <td>30324</td>\n",
       "      <td>4.0</td>\n",
       "      <td>$$</td>\n",
       "      <td>2.0</td>\n",
       "    </tr>\n",
       "    <tr>\n",
       "      <th>chrome yellow</th>\n",
       "      <td>kelly</td>\n",
       "      <td>30312</td>\n",
       "      <td>4.0</td>\n",
       "      <td>$$</td>\n",
       "      <td>2.0</td>\n",
       "    </tr>\n",
       "    <tr>\n",
       "      <th>brash</th>\n",
       "      <td>matt</td>\n",
       "      <td>30318</td>\n",
       "      <td>4.0</td>\n",
       "      <td>$$</td>\n",
       "      <td>2.0</td>\n",
       "    </tr>\n",
       "    <tr>\n",
       "      <th>taproom</th>\n",
       "      <td>jonathan</td>\n",
       "      <td>30317</td>\n",
       "      <td>4.0</td>\n",
       "      <td>$$</td>\n",
       "      <td>2.0</td>\n",
       "    </tr>\n",
       "    <tr>\n",
       "      <th>3heart</th>\n",
       "      <td>nhan</td>\n",
       "      <td>30306</td>\n",
       "      <td>4.0</td>\n",
       "      <td>$$$</td>\n",
       "      <td>2.0</td>\n",
       "    </tr>\n",
       "    <tr>\n",
       "      <th>spiller park pcm</th>\n",
       "      <td>dale</td>\n",
       "      <td>30308</td>\n",
       "      <td>4.0</td>\n",
       "      <td>$$$</td>\n",
       "      <td>2.0</td>\n",
       "    </tr>\n",
       "    <tr>\n",
       "      <th>refuge</th>\n",
       "      <td>kitti</td>\n",
       "      <td>30303</td>\n",
       "      <td>4.0</td>\n",
       "      <td>$$</td>\n",
       "      <td>2.0</td>\n",
       "    </tr>\n",
       "    <tr>\n",
       "      <th>toptime</th>\n",
       "      <td>nolan</td>\n",
       "      <td>30318</td>\n",
       "      <td>4.0</td>\n",
       "      <td>$$</td>\n",
       "      <td>2.0</td>\n",
       "    </tr>\n",
       "  </tbody>\n",
       "</table>\n",
       "</div>"
      ],
      "text/plain": [
       "                       poc    zip  rating price  value\n",
       "east pole            jared  30324     4.0    $$    2.0\n",
       "chrome yellow        kelly  30312     4.0    $$    2.0\n",
       "brash                 matt  30318     4.0    $$    2.0\n",
       "taproom           jonathan  30317     4.0    $$    2.0\n",
       "3heart                nhan  30306     4.0   $$$    2.0\n",
       "spiller park pcm      dale  30308     4.0   $$$    2.0\n",
       "refuge               kitti  30303     4.0    $$    2.0\n",
       "toptime              nolan  30318     4.0    $$    2.0"
      ]
     },
     "execution_count": 148,
     "metadata": {},
     "output_type": "execute_result"
    }
   ],
   "source": [
    "cafes3.loc[is_fancy, 'price'] += '$'\n",
    "cafes3"
   ]
  },
  {
   "cell_type": "markdown",
   "id": "7e783ed2-2d3c-427c-a11f-25662e49b3a6",
   "metadata": {},
   "source": [
    "**A different approach.** Let's see if we can solve this problem in other ways to see what may or may not work."
   ]
  },
  {
   "cell_type": "code",
   "execution_count": 156,
   "id": "e8ea0d96-325e-480b-9191-9c0afff794ef",
   "metadata": {},
   "outputs": [
    {
     "name": "stdout",
     "output_type": "stream",
     "text": [
      "Index(['3heart', 'spiller park pcm'], dtype='object') \n",
      "\n",
      "3heart              $\n",
      "spiller park pcm    $\n",
      "dtype: object \n",
      "\n"
     ]
    },
    {
     "data": {
      "text/plain": [
       "3heart              $$$\n",
       "brash               NaN\n",
       "chrome yellow       NaN\n",
       "east pole           NaN\n",
       "refuge              NaN\n",
       "spiller park pcm    $$$\n",
       "taproom             NaN\n",
       "toptime             NaN\n",
       "dtype: object"
      ]
     },
     "execution_count": 156,
     "metadata": {},
     "output_type": "execute_result"
    }
   ],
   "source": [
    "cafes4 = cafes2.copy() # Start over\n",
    "\n",
    "#Attempt 1:\n",
    "fancy_shops = cafes4.index[is_fancy]\n",
    "print(fancy_shops, '\\n')\n",
    "\n",
    "fancy_markup = Series(['$'] * len(fancy_shops), index=fancy_shops)\n",
    "print(fancy_markup, '\\n')\n",
    "\n",
    "cafes4['price'] + fancy_markup  #Incorrect bc missing values are treated as NaN objects"
   ]
  },
  {
   "cell_type": "code",
   "execution_count": 158,
   "id": "b5906406-f01e-4b9e-a298-6ba9f88075fd",
   "metadata": {},
   "outputs": [
    {
     "data": {
      "text/html": [
       "<div>\n",
       "<style scoped>\n",
       "    .dataframe tbody tr th:only-of-type {\n",
       "        vertical-align: middle;\n",
       "    }\n",
       "\n",
       "    .dataframe tbody tr th {\n",
       "        vertical-align: top;\n",
       "    }\n",
       "\n",
       "    .dataframe thead th {\n",
       "        text-align: right;\n",
       "    }\n",
       "</style>\n",
       "<table border=\"1\" class=\"dataframe\">\n",
       "  <thead>\n",
       "    <tr style=\"text-align: right;\">\n",
       "      <th></th>\n",
       "      <th>poc</th>\n",
       "      <th>zip</th>\n",
       "      <th>rating</th>\n",
       "      <th>price</th>\n",
       "      <th>value</th>\n",
       "    </tr>\n",
       "  </thead>\n",
       "  <tbody>\n",
       "    <tr>\n",
       "      <th>east pole</th>\n",
       "      <td>jared</td>\n",
       "      <td>30324</td>\n",
       "      <td>4.0</td>\n",
       "      <td>$$</td>\n",
       "      <td>2.0</td>\n",
       "    </tr>\n",
       "    <tr>\n",
       "      <th>chrome yellow</th>\n",
       "      <td>kelly</td>\n",
       "      <td>30312</td>\n",
       "      <td>4.0</td>\n",
       "      <td>$$</td>\n",
       "      <td>2.0</td>\n",
       "    </tr>\n",
       "    <tr>\n",
       "      <th>brash</th>\n",
       "      <td>matt</td>\n",
       "      <td>30318</td>\n",
       "      <td>4.0</td>\n",
       "      <td>$$</td>\n",
       "      <td>2.0</td>\n",
       "    </tr>\n",
       "    <tr>\n",
       "      <th>taproom</th>\n",
       "      <td>jonathan</td>\n",
       "      <td>30317</td>\n",
       "      <td>4.0</td>\n",
       "      <td>$$</td>\n",
       "      <td>2.0</td>\n",
       "    </tr>\n",
       "    <tr>\n",
       "      <th>3heart</th>\n",
       "      <td>nhan</td>\n",
       "      <td>30306</td>\n",
       "      <td>4.0</td>\n",
       "      <td>$$$</td>\n",
       "      <td>2.0</td>\n",
       "    </tr>\n",
       "    <tr>\n",
       "      <th>spiller park pcm</th>\n",
       "      <td>dale</td>\n",
       "      <td>30308</td>\n",
       "      <td>4.0</td>\n",
       "      <td>$$$</td>\n",
       "      <td>2.0</td>\n",
       "    </tr>\n",
       "    <tr>\n",
       "      <th>refuge</th>\n",
       "      <td>kitti</td>\n",
       "      <td>30303</td>\n",
       "      <td>4.0</td>\n",
       "      <td>$$</td>\n",
       "      <td>2.0</td>\n",
       "    </tr>\n",
       "    <tr>\n",
       "      <th>toptime</th>\n",
       "      <td>nolan</td>\n",
       "      <td>30318</td>\n",
       "      <td>4.0</td>\n",
       "      <td>$$</td>\n",
       "      <td>2.0</td>\n",
       "    </tr>\n",
       "  </tbody>\n",
       "</table>\n",
       "</div>"
      ],
      "text/plain": [
       "                       poc    zip  rating price  value\n",
       "east pole            jared  30324     4.0    $$    2.0\n",
       "chrome yellow        kelly  30312     4.0    $$    2.0\n",
       "brash                 matt  30318     4.0    $$    2.0\n",
       "taproom           jonathan  30317     4.0    $$    2.0\n",
       "3heart                nhan  30306     4.0   $$$    2.0\n",
       "spiller park pcm      dale  30308     4.0   $$$    2.0\n",
       "refuge               kitti  30303     4.0    $$    2.0\n",
       "toptime              nolan  30318     4.0    $$    2.0"
      ]
     },
     "execution_count": 158,
     "metadata": {},
     "output_type": "execute_result"
    }
   ],
   "source": [
    "#Attempt 2\n",
    "cafes4 = cafes2.copy()\n",
    "cafes4['price'] += Series([x * '$' for x in is_fancy.tolist()], index=is_fancy.index)\n",
    "cafes4"
   ]
  },
  {
   "cell_type": "markdown",
   "id": "317318a6-40fa-4144-90fa-cc34d7d3ddb9",
   "metadata": {},
   "source": [
    "More on **apply() for DataFrame objects**. As with a Series, there is a `DataFrame.apply()` procedure. However, it's meaning is a bit more nuanced because a DataFrame is generally 2-D rather than 1-D."
   ]
  },
  {
   "cell_type": "code",
   "execution_count": 168,
   "id": "76c425f0-3330-46c1-be38-439997d89d71",
   "metadata": {},
   "outputs": [
    {
     "name": "stdout",
     "output_type": "stream",
     "text": [
      "poc       <class 'pandas.core.series.Series'>\n",
      "zip       <class 'pandas.core.series.Series'>\n",
      "rating    <class 'pandas.core.series.Series'>\n",
      "price     <class 'pandas.core.series.Series'>\n",
      "value     <class 'pandas.core.series.Series'>\n",
      "dtype: object \n",
      "\n",
      "east pole           <class 'pandas.core.series.Series'>\n",
      "chrome yellow       <class 'pandas.core.series.Series'>\n",
      "brash               <class 'pandas.core.series.Series'>\n",
      "taproom             <class 'pandas.core.series.Series'>\n",
      "3heart              <class 'pandas.core.series.Series'>\n",
      "spiller park pcm    <class 'pandas.core.series.Series'>\n",
      "refuge              <class 'pandas.core.series.Series'>\n",
      "toptime             <class 'pandas.core.series.Series'>\n",
      "dtype: object \n",
      "\n",
      "==> east pole\n",
      "poc       jared\n",
      "zip       30324\n",
      "rating      4.0\n",
      "price        $$\n",
      "value       2.0\n",
      "Name: east pole, dtype: object\n"
     ]
    }
   ],
   "source": [
    "print(cafes4.apply(lambda x: repr(type(x))), '\\n') # What does this do? What does the output tell you?\n",
    "#axis parameter useful\n",
    "print(cafes4.apply(lambda x: repr(type(x)), axis=1), '\\n') # What does this do? What does the output tell you?\n",
    "#verify what you get when axis=1\n",
    "cafes4.apply(lambda x: print('==> ' + x.name + '\\n' + repr(x)) if x.name == 'east pole' else None, axis=1);"
   ]
  },
  {
   "cell_type": "markdown",
   "id": "54160994-c5fc-4e0b-bad9-7bd64c7eeff6",
   "metadata": {},
   "source": [
    "**Exercise.** Use `DataFrame.apply()` to update the `'value'` column in `cafes4`, which is out of date given the update of the prices."
   ]
  },
  {
   "cell_type": "code",
   "execution_count": 171,
   "id": "6f6d0f58-5288-407a-a36f-fe87da95c9ee",
   "metadata": {},
   "outputs": [
    {
     "name": "stdout",
     "output_type": "stream",
     "text": [
      "                       poc    zip  rating price  value\n",
      "east pole            jared  30324     4.0    $$    2.0\n",
      "chrome yellow        kelly  30312     4.0    $$    2.0\n",
      "brash                 matt  30318     4.0    $$    2.0\n",
      "taproom           jonathan  30317     4.0    $$    2.0\n",
      "3heart                nhan  30306     4.0   $$$    2.0\n",
      "spiller park pcm      dale  30308     4.0   $$$    2.0\n",
      "refuge               kitti  30303     4.0    $$    2.0\n",
      "toptime              nolan  30318     4.0    $$    2.0 \n",
      "\n",
      "                       poc    zip  rating price     value\n",
      "east pole            jared  30324     4.0    $$  2.000000\n",
      "chrome yellow        kelly  30312     4.0    $$  2.000000\n",
      "brash                 matt  30318     4.0    $$  2.000000\n",
      "taproom           jonathan  30317     4.0    $$  2.000000\n",
      "3heart                nhan  30306     4.0   $$$  1.333333\n",
      "spiller park pcm      dale  30308     4.0   $$$  1.333333\n",
      "refuge               kitti  30303     4.0    $$  2.000000\n",
      "toptime              nolan  30318     4.0    $$  2.000000\n"
     ]
    }
   ],
   "source": [
    "print(cafes4, '\\n') # Verify visually that `'value'` is out of date\n",
    "\n",
    "\n",
    "def calc_value(row):\n",
    "    return row['rating'] / len(row['price'])\n",
    "\n",
    "cafes4['value'] = cafes4.apply(calc_value, axis=1)\n",
    "print(cafes4)"
   ]
  },
  {
   "cell_type": "code",
   "execution_count": null,
   "id": "de0359a8-7a4a-43f6-9119-1a53dfc3de36",
   "metadata": {},
   "outputs": [],
   "source": []
  },
  {
   "cell_type": "markdown",
   "id": "ed373832-ba30-4d95-93ce-2bd87f18b5c8",
   "metadata": {},
   "source": [
    "#### Grouping and Aggregating\n",
    "You can group data based on one or more columns and then apply aggregation functions."
   ]
  },
  {
   "cell_type": "code",
   "execution_count": null,
   "id": "7a4d15ac-565f-4e67-9fb9-7116c91f47cb",
   "metadata": {},
   "outputs": [],
   "source": [
    "print(df, '\\n')\n",
    "\n",
    "df_grouped = df.groupby('Age')['Salary'].mean()  # Group by Age and calculate mean Salary\n",
    "print(df_grouped)"
   ]
  },
  {
   "cell_type": "markdown",
   "id": "49e444e4-de9b-4f32-8931-c08f1837dd69",
   "metadata": {},
   "source": [
    "#### Merging and Joining DataFrames\n",
    "You can combine DataFrames using merge operations, similar to SQL joins:"
   ]
  },
  {
   "cell_type": "code",
   "execution_count": 293,
   "id": "6ec7a30e-02a0-4cc0-95c7-51a643e7c88d",
   "metadata": {},
   "outputs": [
    {
     "name": "stdout",
     "output_type": "stream",
     "text": [
      "    Name  Age  Salary\n",
      "0  Alice   25   50000\n",
      "1    Bob   30   60000\n",
      "    Name  Age\n",
      "0  Alice   25\n",
      "1    Bob   30\n",
      "    Name  Salary\n",
      "0  Alice   50000\n",
      "1    Bob   60000\n"
     ]
    }
   ],
   "source": [
    "# Creating two DataFrames to merge\n",
    "df1 = pd.DataFrame({'Name': ['Alice', 'Bob'], 'Age': [25, 30]})\n",
    "df2 = pd.DataFrame({'Name': ['Alice', 'Bob'], 'Salary': [50000, 60000]})\n",
    "\n",
    "# Merging based on 'Name' column\n",
    "df_merged = pd.merge(df1, df2, on='Name')\n",
    "print(df_merged)"
   ]
  },
  {
   "cell_type": "code",
   "execution_count": null,
   "id": "61c5a0e6-0b0a-4426-9ac8-5bb15cc731bc",
   "metadata": {},
   "outputs": [],
   "source": []
  },
  {
   "cell_type": "code",
   "execution_count": null,
   "id": "72df0825-c0e0-4359-adfc-55589dda1e8b",
   "metadata": {},
   "outputs": [],
   "source": []
  },
  {
   "cell_type": "code",
   "execution_count": null,
   "id": "f5dd088f-724d-4653-aa01-1c950a8cb627",
   "metadata": {},
   "outputs": [],
   "source": []
  },
  {
   "cell_type": "code",
   "execution_count": null,
   "id": "a0d10ab1-5789-411a-9e7e-4c1534ea0497",
   "metadata": {},
   "outputs": [],
   "source": []
  },
  {
   "cell_type": "code",
   "execution_count": null,
   "id": "44bc419b-fa74-41e0-928f-7a7651c9d83a",
   "metadata": {},
   "outputs": [],
   "source": []
  },
  {
   "cell_type": "code",
   "execution_count": null,
   "id": "53d77ef5-f09d-448a-b0cc-2846b13631f7",
   "metadata": {},
   "outputs": [],
   "source": []
  },
  {
   "cell_type": "code",
   "execution_count": null,
   "id": "c334c708-5f58-4e16-9a88-62db6da8017a",
   "metadata": {},
   "outputs": [],
   "source": []
  },
  {
   "cell_type": "code",
   "execution_count": null,
   "id": "1bc614a8-24f6-4150-a6b2-3891fc8b2d9d",
   "metadata": {},
   "outputs": [],
   "source": []
  },
  {
   "cell_type": "code",
   "execution_count": null,
   "id": "4d7ec1d3-3eaa-403a-af85-3d17bcdc89f2",
   "metadata": {},
   "outputs": [],
   "source": []
  },
  {
   "cell_type": "code",
   "execution_count": null,
   "id": "955e3cd8-aa0f-4380-b83e-063ff5d1d247",
   "metadata": {},
   "outputs": [],
   "source": []
  }
 ],
 "metadata": {
  "kernelspec": {
   "display_name": "Python 3 (ipykernel)",
   "language": "python",
   "name": "python3"
  },
  "language_info": {
   "codemirror_mode": {
    "name": "ipython",
    "version": 3
   },
   "file_extension": ".py",
   "mimetype": "text/x-python",
   "name": "python",
   "nbconvert_exporter": "python",
   "pygments_lexer": "ipython3",
   "version": "3.11.7"
  }
 },
 "nbformat": 4,
 "nbformat_minor": 5
}
