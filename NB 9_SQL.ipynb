{
 "cells": [
  {
   "cell_type": "markdown",
   "id": "176516aa-2478-4faa-b814-86c2e3e397b3",
   "metadata": {},
   "source": [
    "# NB 9: SQLite\n",
    "\n",
    "The language for managing relational databases is the Structured Query Language, or SQL (\"sequel\").\n",
    "\n",
    "In this class we will use the simplest, called [sqlite3](https://www.sqlite.org/). It stores the database in a simple file and can be run in a \"standalone\" mode from the command-line. All of the basic techniques in python apply to any commercial SQL backend."
   ]
  },
  {
   "cell_type": "markdown",
   "id": "4ba24f04-ece6-4093-b19d-65bc6aa7405a",
   "metadata": {},
   "source": [
    "Steps:\n",
    "1. Create a connection to a database `.connect()` ~ not asked to do in this class\n",
    "2. Create a cursor object to exceute commands on db `.cusor()`\n",
    "3. Write Query (Create table, insert data) and use cursor to exceute command\n",
    "4. Return results (mostly in pandas df for more manipulation)\n",
    "5. Save exceuting to db using `.comit()`"
   ]
  },
  {
   "cell_type": "code",
   "execution_count": 31,
   "id": "94a900cc-9af8-490f-a896-85fa90bf7f8f",
   "metadata": {},
   "outputs": [],
   "source": [
    "import sqlite3 as db\n",
    "\n",
    "# Connect to a database (or create one if it doesn't exist)\n",
    "conn = db.connect('example.db')\n",
    "\n",
    "# Create a 'cursor' for executing commands\n",
    "c = conn.cursor()"
   ]
  },
  {
   "cell_type": "markdown",
   "id": "a73cb673-6d6b-449d-a58a-020b8d8da824",
   "metadata": {},
   "source": [
    "**Important Usage Note:** If the named file does not yet exist, this code creates it. However, if the database has been created before, this same code will open it. This fact can be important when you are debugging. For example, if your code depends on the database not existing initially, then you may need to remove the file first. You're likely to encounter this situation in this notebook."
   ]
  },
  {
   "cell_type": "markdown",
   "id": "b01b1cfb-67da-46e8-bd68-1ba114c336f0",
   "metadata": {},
   "source": [
    "### Tables and Basic Queries\n",
    "The central object of a relational database is a table, identical to a \"tibble\".\n",
    "\n",
    "You can create a table to hold your data by using the command, `CREATE TABLE`.\n",
    "\n",
    "Note: If you try to create a table that already exists, it will fail. If you are trying to carry out these exercises from scratch, you may need to remove any existing example.db file or destroy any existing table; you can do the latter with the SQL command, `DROP TABLE IF EXISTS`."
   ]
  },
  {
   "cell_type": "code",
   "execution_count": 34,
   "id": "454bcbdf-6079-41b9-8d94-fd1d26553d70",
   "metadata": {},
   "outputs": [
    {
     "data": {
      "text/plain": [
       "<sqlite3.Cursor at 0x1606131b140>"
      ]
     },
     "execution_count": 34,
     "metadata": {},
     "output_type": "execute_result"
    }
   ],
   "source": [
    "# If this is not the first time you run this cell, \n",
    "# you need to delete the existed \"Students\" table first\n",
    "c.execute(\"DROP TABLE IF EXISTS Students\")\n",
    "\n",
    "# create a table named \"Students\" with 2 columns: \"gtid\" and \"name\".\n",
    "# the type for column \"gtid\" is integer and for \"name\" is text. \n",
    "c.execute(\"CREATE TABLE Students (gtid INTEGER, name TEXT)\")"
   ]
  },
  {
   "cell_type": "markdown",
   "id": "e71f9305-b7fd-4a24-adea-751592006d84",
   "metadata": {},
   "source": [
    "To populate the table with items, you can use the command, [`INSERT INTO`](https://www.sqlite.org/lang_insert.html)."
   ]
  },
  {
   "cell_type": "code",
   "execution_count": 36,
   "id": "c4c80acd-55d6-4d1f-81aa-5b9e64df9209",
   "metadata": {},
   "outputs": [
    {
     "data": {
      "text/plain": [
       "<sqlite3.Cursor at 0x1606131b140>"
      ]
     },
     "execution_count": 36,
     "metadata": {},
     "output_type": "execute_result"
    }
   ],
   "source": [
    "c.execute(\"INSERT INTO Students VALUES (123, 'Vuduc')\")\n",
    "c.execute(\"INSERT INTO Students VALUES (456, 'Chau')\")\n",
    "c.execute(\"INSERT INTO Students VALUES (381, 'Bader')\")\n",
    "c.execute(\"INSERT INTO Students VALUES (991, 'Sokol')\")"
   ]
  },
  {
   "cell_type": "markdown",
   "id": "edf9952b-d4ce-41f3-85d2-86caea43814d",
   "metadata": {},
   "source": [
    "The commands above modify the database. However, these are temporary modifications and aren't actually saved to the databases until you say so. The way to do that is to issue a commit operation from the connection object. Remember to encode commits when you intend for them to take effect."
   ]
  },
  {
   "cell_type": "code",
   "execution_count": 38,
   "id": "ac7c3fba-f973-46f2-b65f-76f6079385e4",
   "metadata": {},
   "outputs": [],
   "source": [
    "conn.commit()"
   ]
  },
  {
   "cell_type": "markdown",
   "id": "e7329c8e-16e8-4c12-846c-4ae287e8492c",
   "metadata": {},
   "source": [
    "Another common operation is to perform a bunch of insertions into a table from a list of tuples. In this case, you can use `executemany()`."
   ]
  },
  {
   "cell_type": "code",
   "execution_count": 40,
   "id": "c1a5f305-b1c9-4132-85ee-63bb67509b47",
   "metadata": {},
   "outputs": [],
   "source": [
    "more_students = [(723, 'Rozga'),\n",
    "                 (882, 'Zha'),\n",
    "                 (401, 'Park'),\n",
    "                 (377, 'Vetter'),\n",
    "                 (904, 'Brown')]\n",
    "\n",
    "# '?' question marks are placeholders for the two columns in Students table\n",
    "c.executemany('INSERT INTO Students VALUES (?, ?)', more_students)\n",
    "conn.commit()"
   ]
  },
  {
   "cell_type": "code",
   "execution_count": 41,
   "id": "16a1cd43-b952-4b5b-94be-68644d421148",
   "metadata": {},
   "outputs": [
    {
     "name": "stdout",
     "output_type": "stream",
     "text": [
      "Your results: 9 \n",
      "The entries of Students:\n",
      " [(123, 'Vuduc'), (456, 'Chau'), (381, 'Bader'), (991, 'Sokol'), (723, 'Rozga'), (882, 'Zha'), (401, 'Park'), (377, 'Vetter'), (904, 'Brown')]\n"
     ]
    }
   ],
   "source": [
    "#Selects all rows from the Students table\n",
    "c.execute(\"SELECT * FROM Students\")\n",
    "results = c.fetchall() #returns tuples, each tuple is a row\n",
    "\n",
    "print(\"Your results:\", len(results), \"\\nThe entries of Students:\\n\", results)"
   ]
  },
  {
   "cell_type": "markdown",
   "id": "27b3f132-0e8c-4b2c-b47c-b490f73a3376",
   "metadata": {},
   "source": [
    "**Exercise 1** (2 points). Suppose we wish to maintain a second table, called `Takes`, which records classes that students have taken and the grades they earn.\n",
    "\n",
    "In particular, each row of `Takes` stores a student by his/her GT ID, the course he/she took, and the grade he/she earned in terms of GPA (i.e. 4.0, 3.0, etc). More formally, suppose this table is defined as follows:"
   ]
  },
  {
   "cell_type": "code",
   "execution_count": 43,
   "id": "cbde6408-2b77-4760-ad05-ba820b7e0cd9",
   "metadata": {},
   "outputs": [
    {
     "data": {
      "text/plain": [
       "<sqlite3.Cursor at 0x1606131b140>"
      ]
     },
     "execution_count": 43,
     "metadata": {},
     "output_type": "execute_result"
    }
   ],
   "source": [
    "c.execute('DROP TABLE IF EXISTS Takes')\n",
    "c.execute('CREATE TABLE Takes (gtid INTEGER, course TEXT, grade REAL)')"
   ]
  },
  {
   "cell_type": "markdown",
   "id": "d7d884f3-c499-47a8-a20f-659fb834ac69",
   "metadata": {},
   "source": [
    "Write a command to insert the following records into the Takes table.\n",
    "```\n",
    "Vuduc: CSE 6040 - A (4.0), ISYE 6644 - B (3.0), MGMT 8803 - D (1.0)\n",
    "Sokol: CSE 6040 - A (4.0), ISYE 6740 - A (4.0)\n",
    "Chau: CSE 6040 - A (4.0), ISYE 6740 - C (2.0), MGMT 8803 - B (3.0)\n",
    "```\n",
    "(Note: See students table above to get the GT IDs for Vuduc, Sokol, and Chau. You don't have to write any code to retrieve their GT IDs. You can just type them in manually. However, it would be a good and extra practice for you if you can use some sql commands to retrieve their IDs.)"
   ]
  },
  {
   "cell_type": "code",
   "execution_count": 45,
   "id": "4c4759f7-8b52-436e-8bac-3289d844eea7",
   "metadata": {},
   "outputs": [
    {
     "name": "stdout",
     "output_type": "stream",
     "text": [
      "Your results: 8 \n",
      "The entries of Takes: [(123, 'CSE 6040', 4.0), (123, 'ISYE 6644', 3.0), (123, 'MGMT 8803', 1.0), (991, 'CSE 6040', 4.0), (991, 'ISYE 6740', 4.0), (456, 'CSE 6040', 4.0), (456, 'ISYE 6740', 2.0), (456, 'MGMT 8803', 3.0)]\n"
     ]
    }
   ],
   "source": [
    "###\n",
    "### YOUR CODE HERE\n",
    "###\n",
    "# Insert Data\n",
    "c.execute('INSERT INTO Takes (gtid, course, grade) VALUES (?,?,?)', (123,'CSE 6040', 4.0 ))\n",
    "c.execute('INSERT INTO Takes (gtid, course, grade) VALUES (?,?,?)', (123,'ISYE 6644', 3.0 ))\n",
    "c.execute('INSERT INTO Takes (gtid, course, grade) VALUES (?,?,?)', (123,'MGMT 8803', 1.0 ))\n",
    "c.execute('INSERT INTO Takes (gtid, course, grade) VALUES (?,?,?)', (991,'CSE 6040', 4.0 ))\n",
    "c.execute('INSERT INTO Takes (gtid, course, grade) VALUES (?,?,?)', (991,'ISYE 6740', 4.0 ))\n",
    "c.execute('INSERT INTO Takes (gtid, course, grade) VALUES (?, ?, ?)', (456, 'CSE 6040', 4.0))\n",
    "c.execute('INSERT INTO Takes (gtid, course, grade) VALUES (?, ?, ?)', (456, 'ISYE 6740', 2.0))\n",
    "c.execute('INSERT INTO Takes (gtid, course, grade) VALUES (?, ?, ?)', (456, 'MGMT 8803', 3.0))\n",
    "conn.commit()\n",
    "#conn.close()\n",
    "\n",
    "# Displays the results of your code\n",
    "c.execute('SELECT * FROM Takes')\n",
    "results = c.fetchall()\n",
    "print(\"Your results:\", len(results), \"\\nThe entries of Takes:\", results)"
   ]
  },
  {
   "cell_type": "markdown",
   "id": "68089e7d-dc5b-46ae-a249-d6c6a9adef7f",
   "metadata": {},
   "source": [
    "Using `executemany()` This method allows you to insert multiple rows in a single query. It takes two arguments: the SQL query and a list of tuples containing the values to be inserted."
   ]
  },
  {
   "cell_type": "code",
   "execution_count": 47,
   "id": "25f5b7cc-c874-42fc-9a1c-1c4479fc11db",
   "metadata": {},
   "outputs": [
    {
     "name": "stdout",
     "output_type": "stream",
     "text": [
      "(123, 'CSE 6040', 4.0)\n",
      "(123, 'ISYE 6644', 3.0)\n",
      "(123, 'MGMT 8803', 1.0)\n",
      "(991, 'CSE 6040', 4.0)\n",
      "(991, 'ISYE 6740', 4.0)\n",
      "(456, 'CSE 6040', 4.0)\n",
      "(456, 'ISYE 6740', 2.0)\n",
      "(456, 'MGMT 8803', 3.0)\n"
     ]
    }
   ],
   "source": [
    "#Alternative Way using \n",
    "c.execute('DROP TABLE IF EXISTS Takes')\n",
    "c.execute('CREATE TABLE Takes (gtid INTEGER, course TEXT, grade REAL)')\n",
    "\n",
    "data = [\n",
    "    (123, 'CSE 6040', 4.0),\n",
    "    (123, 'ISYE 6644', 3.0),\n",
    "    (123, 'MGMT 8803', 1.0),\n",
    "    (991, 'CSE 6040', 4.0),\n",
    "    (991, 'ISYE 6740', 4.0),\n",
    "    (456, 'CSE 6040', 4.0),\n",
    "    (456, 'ISYE 6740', 2.0),\n",
    "    (456, 'MGMT 8803', 3.0)\n",
    "]\n",
    "\n",
    "# Insert data using executemany\n",
    "c.executemany('INSERT INTO Takes (gtid, course, grade) VALUES (?, ?, ?)', data)\n",
    "c.execute('SELECT * FROM Takes')\n",
    "rows = c.fetchall()   #alternative way to iterate through results\n",
    "for row in rows:\n",
    "    print(row)\n",
    "\n",
    "#connection.commit()\n",
    "#connection.close()"
   ]
  },
  {
   "cell_type": "markdown",
   "id": "d9d820af-ae31-4ffc-a9b6-9c2673880f63",
   "metadata": {},
   "source": [
    "### Join Queries\n",
    "The main type of query that combines information from multiple tables is the join query. Recall from our discussion of tibbles these four types:\n",
    "\n",
    "```\n",
    "INNER JOIN(A, B): Keep rows of A and B only where A and B match\n",
    "OUTER JOIN(A, B): Keep all rows of A and B, but merge matching rows and fill in missing values with some default (NaN in Pandas, NULL in SQL)\n",
    "LEFT JOIN(A, B): Keep all rows of A but only merge matches from B.\n",
    "RIGHT JOIN(A, B): Keep all rows of B but only merge matches from A.\n",
    "```\n",
    "\n",
    "You can use the `WHERE` clause of a SELECT statement to specify how to match rows from the tables being joined. For example, recall that the Takes table stores classes taken by each student. However, these classes are recorded by a student's GT ID. Suppose we want a report where we want each student's name rather than his/her ID. We can get the matching name from the Students table. Here is a query to accomplish this matching:"
   ]
  },
  {
   "cell_type": "markdown",
   "id": "e87213b6-e82d-4a30-b653-fd78d1610d89",
   "metadata": {},
   "source": [
    "When writing queries, we recomend you use the three single quote paradigm, so you don't have to escape characters. "
   ]
  },
  {
   "cell_type": "code",
   "execution_count": 50,
   "id": "d44c8993-367a-49da-9373-8e3d17fffef7",
   "metadata": {},
   "outputs": [
    {
     "name": "stdout",
     "output_type": "stream",
     "text": [
      "[(123, 'Vuduc'), (456, 'Chau'), (381, 'Bader'), (991, 'Sokol'), (723, 'Rozga'), (882, 'Zha'), (401, 'Park'), (377, 'Vetter'), (904, 'Brown')] \n",
      "\n",
      "('Vuduc', 'CSE 6040', 4.0)\n",
      "('Vuduc', 'ISYE 6644', 3.0)\n",
      "('Vuduc', 'MGMT 8803', 1.0)\n",
      "('Chau', 'CSE 6040', 4.0)\n",
      "('Chau', 'ISYE 6740', 2.0)\n",
      "('Chau', 'MGMT 8803', 3.0)\n",
      "('Sokol', 'CSE 6040', 4.0)\n",
      "('Sokol', 'ISYE 6740', 4.0)\n"
     ]
    }
   ],
   "source": [
    "#view students table\n",
    "c.execute('SELECT * FROM Students')\n",
    "results = c.fetchall()\n",
    "print(results,'\\n')\n",
    "\n",
    "#Join tables to see all tuples (name, course, grade)\n",
    "query = ''' \n",
    "        SELECT Students.name, Takes.course, Takes.grade\n",
    "        FROM Students, Takes\n",
    "        WHERE Students.gtid = Takes.gtid\n",
    "'''\n",
    "\n",
    "for match in c.execute(query): #Alternative way to iterate through results\n",
    "    print(match)\n",
    "\n",
    "# c.execute(query)\n",
    "# results = c.fetchall()\n",
    "# display(results)"
   ]
  },
  {
   "cell_type": "markdown",
   "id": "a634cb2b-ccb0-44f7-adfa-c4a4fc655877",
   "metadata": {},
   "source": [
    "**Exercise 2** (2 points). Define a query to select the names and grades of students where the course is CSE 6040. The code below will execute your query and store the results in a list results1 of tuples, where each tuple is a (name, grade) pair; thus, you should structure your query to match this format."
   ]
  },
  {
   "cell_type": "code",
   "execution_count": 52,
   "id": "54ddc0df-7a8b-41d5-8fb1-ad4771d0dfc6",
   "metadata": {},
   "outputs": [
    {
     "data": {
      "text/plain": [
       "[('Vuduc', 4.0), ('Sokol', 4.0), ('Chau', 4.0)]"
      ]
     },
     "execution_count": 52,
     "metadata": {},
     "output_type": "execute_result"
    }
   ],
   "source": [
    "# Define `query` with your query:\n",
    "###\n",
    "### YOUR CODE HERE\n",
    "###\n",
    "query = '''\n",
    "        SELECT Students.name, Takes.grade\n",
    "        FROM Students, Takes\n",
    "        WHERE Students.gtid = Takes.gtid and Takes.course = 'CSE 6040'\n",
    "'''\n",
    "\n",
    "c.execute(query)\n",
    "results1 = c.fetchall()\n",
    "results1"
   ]
  },
  {
   "cell_type": "code",
   "execution_count": 53,
   "id": "1738576e-c039-4099-9e76-be21fd10a326",
   "metadata": {},
   "outputs": [
    {
     "data": {
      "text/plain": [
       "[('Vuduc', 4.0), ('Sokol', 4.0), ('Chau', 4.0)]"
      ]
     },
     "execution_count": 53,
     "metadata": {},
     "output_type": "execute_result"
    }
   ],
   "source": [
    "#Alternative Way\n",
    "query = '''\n",
    "        SELECT Students.name, Takes.grade\n",
    "        FROM Takes\n",
    "        JOIN Students ON Takes.gtid = Students.gtid\n",
    "        WHERE Takes.course = 'CSE 6040'\n",
    "'''\n",
    "\n",
    "c.execute(query)\n",
    "results1 = c.fetchall()\n",
    "results1"
   ]
  },
  {
   "cell_type": "markdown",
   "id": "bab315d4-63b1-43c5-9281-3e0473492768",
   "metadata": {},
   "source": [
    "**Exercise 3** (2 points). Execute a LEFT JOIN that uses Students as the left table, Takes as the right table, and selects a student's name and course grade. Write your query as a string variable named query, which the subsequent code will execute."
   ]
  },
  {
   "cell_type": "code",
   "execution_count": 55,
   "id": "061826dd-1f05-483b-8627-caca81ea3b79",
   "metadata": {},
   "outputs": [
    {
     "name": "stdout",
     "output_type": "stream",
     "text": [
      "0 -> ('Vuduc', 1.0)\n",
      "1 -> ('Vuduc', 3.0)\n",
      "2 -> ('Vuduc', 4.0)\n",
      "3 -> ('Chau', 2.0)\n",
      "4 -> ('Chau', 3.0)\n",
      "5 -> ('Chau', 4.0)\n",
      "6 -> ('Bader', None)\n",
      "7 -> ('Sokol', 4.0)\n",
      "8 -> ('Sokol', 4.0)\n",
      "9 -> ('Rozga', None)\n",
      "10 -> ('Zha', None)\n",
      "11 -> ('Park', None)\n",
      "12 -> ('Vetter', None)\n",
      "13 -> ('Brown', None)\n"
     ]
    }
   ],
   "source": [
    "# Define `query` string here:\n",
    "###\n",
    "### YOUR CODE HERE\n",
    "###\n",
    "query = '''\n",
    "        SELECT Students.name, Takes.grade\n",
    "        FROM Students \n",
    "        LEFT JOIN Takes ON Students.gtid = Takes.gtid\n",
    "'''\n",
    "\n",
    "# Executes your `query` string:\n",
    "c.execute(query)\n",
    "matches = c.fetchall()\n",
    "for i, match in enumerate(matches):\n",
    "    print(i, \"->\", match)"
   ]
  },
  {
   "cell_type": "markdown",
   "id": "c4abfc85-2dab-40e0-955f-2e2ddd1a80c7",
   "metadata": {},
   "source": [
    "### Aggreagation\n",
    "Aggregation is a summary of information across multiple records. It typically ignores NULL values.\n",
    "\n",
    "Useful SQL aggregators : `MIN`, `MAX`, `SUM`, `AVG`, and `COUNT`.\n",
    "\n",
    "Because there are not a lot of aggregation functions in SQL, Pandas will be the preferred method to perform more advanced aggregations (like sd, median, etc) on the data."
   ]
  },
  {
   "cell_type": "code",
   "execution_count": 76,
   "id": "ffd32fb6-7ed6-4354-81f9-f260d44eeb25",
   "metadata": {},
   "outputs": [
    {
     "name": "stdout",
     "output_type": "stream",
     "text": [
      "(123, 2.6666666666666665)\n",
      "(456, 3.0)\n",
      "(991, 4.0)\n"
     ]
    },
    {
     "data": {
      "text/html": [
       "<div>\n",
       "<style scoped>\n",
       "    .dataframe tbody tr th:only-of-type {\n",
       "        vertical-align: middle;\n",
       "    }\n",
       "\n",
       "    .dataframe tbody tr th {\n",
       "        vertical-align: top;\n",
       "    }\n",
       "\n",
       "    .dataframe thead th {\n",
       "        text-align: right;\n",
       "    }\n",
       "</style>\n",
       "<table border=\"1\" class=\"dataframe\">\n",
       "  <thead>\n",
       "    <tr style=\"text-align: right;\">\n",
       "      <th></th>\n",
       "      <th>gtid</th>\n",
       "      <th>AVG(grade)</th>\n",
       "    </tr>\n",
       "  </thead>\n",
       "  <tbody>\n",
       "    <tr>\n",
       "      <th>0</th>\n",
       "      <td>123</td>\n",
       "      <td>2.666667</td>\n",
       "    </tr>\n",
       "    <tr>\n",
       "      <th>1</th>\n",
       "      <td>456</td>\n",
       "      <td>3.000000</td>\n",
       "    </tr>\n",
       "    <tr>\n",
       "      <th>2</th>\n",
       "      <td>991</td>\n",
       "      <td>4.000000</td>\n",
       "    </tr>\n",
       "  </tbody>\n",
       "</table>\n",
       "</div>"
      ],
      "text/plain": [
       "   gtid  AVG(grade)\n",
       "0   123    2.666667\n",
       "1   456    3.000000\n",
       "2   991    4.000000"
      ]
     },
     "execution_count": 76,
     "metadata": {},
     "output_type": "execute_result"
    }
   ],
   "source": [
    "#average GPA for each unique GT ID\n",
    "query = '''\n",
    "        SELECT gtid, AVG(grade)\n",
    "        FROM Takes \n",
    "        GROUP BY gtid\n",
    "'''\n",
    "\n",
    "#Option 1: Result in Tuples\n",
    "for match in c.execute(query):\n",
    "    print(match)\n",
    "\n",
    "#Option 2: Result in Pandas df\n",
    "df = pd.read_sql_query(query, conn)\n",
    "df"
   ]
  },
  {
   "cell_type": "markdown",
   "id": "e292c8f4-823e-4838-922b-18b5b2ee56d9",
   "metadata": {},
   "source": [
    "### Clean Up\n",
    "It's good practice to shutdown the cursor and connection, the same way you close files.\n",
    "```\n",
    "c.close()\n",
    "conn.close()\n",
    "```"
   ]
  },
  {
   "cell_type": "code",
   "execution_count": 51,
   "id": "1b81a27b-4098-479c-ac06-bb55586e1244",
   "metadata": {},
   "outputs": [],
   "source": [
    "conn.close()"
   ]
  },
  {
   "cell_type": "markdown",
   "id": "7aeca1d5-b02b-4215-a080-3897e4f822bf",
   "metadata": {},
   "source": [
    "## Part 2: NYC 311 Calls"
   ]
  },
  {
   "cell_type": "code",
   "execution_count": 158,
   "id": "05064aeb-2763-495c-9e58-9f2bb35e2091",
   "metadata": {},
   "outputs": [
    {
     "name": "stdout",
     "output_type": "stream",
     "text": [
      "Table created successfully!-------------------------------------------\n",
      "Data inserted successfully!--------------------------------------------\n"
     ]
    },
    {
     "data": {
      "text/html": [
       "<div>\n",
       "<style scoped>\n",
       "    .dataframe tbody tr th:only-of-type {\n",
       "        vertical-align: middle;\n",
       "    }\n",
       "\n",
       "    .dataframe tbody tr th {\n",
       "        vertical-align: top;\n",
       "    }\n",
       "\n",
       "    .dataframe thead th {\n",
       "        text-align: right;\n",
       "    }\n",
       "</style>\n",
       "<table border=\"1\" class=\"dataframe\">\n",
       "  <thead>\n",
       "    <tr style=\"text-align: right;\">\n",
       "      <th></th>\n",
       "      <th>CreatedDate</th>\n",
       "      <th>ComplaintType</th>\n",
       "      <th>City</th>\n",
       "    </tr>\n",
       "  </thead>\n",
       "  <tbody>\n",
       "    <tr>\n",
       "      <th>0</th>\n",
       "      <td>2015-09-15 02:14:04.000000</td>\n",
       "      <td>Illegal Parking</td>\n",
       "      <td>NEW YORK</td>\n",
       "    </tr>\n",
       "    <tr>\n",
       "      <th>1</th>\n",
       "      <td>2015-09-15 03:12:49.000000</td>\n",
       "      <td>Noise - Street/Sidewalk</td>\n",
       "      <td>NEW YORK</td>\n",
       "    </tr>\n",
       "    <tr>\n",
       "      <th>2</th>\n",
       "      <td>2015-09-15 06:11:19.000000</td>\n",
       "      <td>Noise - Street/Sidewalk</td>\n",
       "      <td>NEW YORK</td>\n",
       "    </tr>\n",
       "    <tr>\n",
       "      <th>3</th>\n",
       "      <td>2015-09-15 08:09:46.000000</td>\n",
       "      <td>Noise - Commercial</td>\n",
       "      <td>BRONX</td>\n",
       "    </tr>\n",
       "    <tr>\n",
       "      <th>4</th>\n",
       "      <td>2015-09-15 12:09:18.000000</td>\n",
       "      <td>Homeless Person</td>\n",
       "      <td>NEW YORK</td>\n",
       "    </tr>\n",
       "  </tbody>\n",
       "</table>\n",
       "</div>"
      ],
      "text/plain": [
       "                  CreatedDate            ComplaintType      City\n",
       "0  2015-09-15 02:14:04.000000          Illegal Parking  NEW YORK\n",
       "1  2015-09-15 03:12:49.000000  Noise - Street/Sidewalk  NEW YORK\n",
       "2  2015-09-15 06:11:19.000000  Noise - Street/Sidewalk  NEW YORK\n",
       "3  2015-09-15 08:09:46.000000       Noise - Commercial     BRONX\n",
       "4  2015-09-15 12:09:18.000000          Homeless Person  NEW YORK"
      ]
     },
     "execution_count": 158,
     "metadata": {},
     "output_type": "execute_result"
    }
   ],
   "source": [
    "import pandas as pd\n",
    "import sqlite3 as db\n",
    "\n",
    "# Connect to a Database (or create one if it doesn't exist)\n",
    "connection = db.connect('Pandas-sql.db')\n",
    "c = connection.cursor()   # Create cursor for executing commands\n",
    "\n",
    "# Create a Table named \"NYC_Reports\" with 3 columns.\n",
    "c.execute(\"DROP TABLE IF EXISTS NYC_Reports\") \n",
    "\n",
    "create_table_query = '''\n",
    "    CREATE TABLE NYC_Reports (\n",
    "        CreatedDate TEXT, \n",
    "        ComplaintType TEXT, \n",
    "        City TEXT)\n",
    "'''\n",
    "c.execute(create_table_query)\n",
    "connection.commit()\n",
    "print(\"Table created successfully!-------------------------------------------\")\n",
    "\n",
    "\n",
    "#Insert Data\n",
    "insert_data_query = '''\n",
    "    INSERT INTO NYC_Reports (CreatedDate, ComplaintType, City)\n",
    "    VALUES (?, ?, ?)\n",
    "'''\n",
    "\n",
    "data = [\n",
    "    ('2015-09-15 02:14:04.000000', 'Illegal Parking', 'NEW YORK'),\n",
    "    ('2015-09-15 03:12:49.000000', 'Noise - Street/Sidewalk', 'NEW YORK'),\n",
    "    ('2015-09-15 06:11:19.000000', 'Noise - Street/Sidewalk', 'NEW YORK'),\n",
    "    ('2015-09-15 08:09:46.000000', 'Noise - Commercial', 'BRONX'),\n",
    "    ('2015-09-15 12:09:18.000000', 'Homeless Person', 'NEW YORK'),\n",
    "    ('2015-09-14 23:18:38.000000', 'HEAT/HOT WATER', 'brooklyn'),\n",
    "    ('2015-09-15 18:14:04.000000', 'Illegal Parking', None), \n",
    "    ('2015-09-14 23:18:38.000000', 'HEAT/HOT WATER', 'BROOKLYN'),\n",
    "    ('2015-09-15 01:37:35.000000', 'heat/hot water', 'STATEN ISLAND'),\n",
    "    ('2015-09-15 15:19:21.000000', 'NOISE - Street/Sidewalk', 'Jamacia'),\n",
    "    ('2015-09-14 10:40:35.000000', 'heat/hot water', 'staten island')\n",
    "]\n",
    "\n",
    "c.executemany(insert_data_query, data)\n",
    "connection.commit()\n",
    "print(\"Data inserted successfully!--------------------------------------------\")\n",
    "\n",
    "#You can get the reults of your query by executing and returning data in tuples OR a pandas df\n",
    "# Option 1: Example query to verify table:\n",
    "# c.execute('SELECT * FROM NYC_Reports LIMIT 5')  \n",
    "# for row in c.fetchall():\n",
    "#     print(row)\n",
    "\n",
    "#Option 2: Create DF from the query and view the table\n",
    "query = '''SELECT * FROM NYC_Reports'''\n",
    "nyc_df = pd.read_sql_query (query, connection)\n",
    "nyc_df.head()"
   ]
  },
  {
   "cell_type": "code",
   "execution_count": 146,
   "id": "1d6349f3-f208-4bd7-aa06-9c36c0f6aae7",
   "metadata": {},
   "outputs": [
    {
     "name": "stdout",
     "output_type": "stream",
     "text": [
      "   COUNT(*)\n",
      "0        11\n",
      "   COUNT(City)\n",
      "0           10\n"
     ]
    }
   ],
   "source": [
    "#COUNT(value) vs COUNT(*)\n",
    "count_all = pd.read_sql_query('''SELECT COUNT(*) FROM NYC_Reports''', connection)\n",
    "print(count_all) #counts all rows\n",
    "\n",
    "count = pd.read_sql_query('''SELECT COUNT(City) FROM NYC_Reports''', connection)\n",
    "print(count) #ignores null rows"
   ]
  },
  {
   "cell_type": "markdown",
   "id": "57eb8c59-2c36-4121-a05c-26c8d99b7cfb",
   "metadata": {},
   "source": [
    "**Exercise 1** (2 points). Create a string, query, containing an SQL query that will return the number of `noise complaints` by type. The columns should be named type and freq, and the results should be sorted in descending order by freq. Also, since we know some complaints use an inconsistent case, for your function convert complaints to lowercase."
   ]
  },
  {
   "cell_type": "code",
   "execution_count": 152,
   "id": "f5c1c09b-4c17-41c9-b276-700f2ebe7015",
   "metadata": {},
   "outputs": [
    {
     "data": {
      "text/html": [
       "<div>\n",
       "<style scoped>\n",
       "    .dataframe tbody tr th:only-of-type {\n",
       "        vertical-align: middle;\n",
       "    }\n",
       "\n",
       "    .dataframe tbody tr th {\n",
       "        vertical-align: top;\n",
       "    }\n",
       "\n",
       "    .dataframe thead th {\n",
       "        text-align: right;\n",
       "    }\n",
       "</style>\n",
       "<table border=\"1\" class=\"dataframe\">\n",
       "  <thead>\n",
       "    <tr style=\"text-align: right;\">\n",
       "      <th></th>\n",
       "      <th>type</th>\n",
       "      <th>freq</th>\n",
       "    </tr>\n",
       "  </thead>\n",
       "  <tbody>\n",
       "    <tr>\n",
       "      <th>0</th>\n",
       "      <td>noise - street/sidewalk</td>\n",
       "      <td>3</td>\n",
       "    </tr>\n",
       "    <tr>\n",
       "      <th>1</th>\n",
       "      <td>noise - commercial</td>\n",
       "      <td>1</td>\n",
       "    </tr>\n",
       "  </tbody>\n",
       "</table>\n",
       "</div>"
      ],
      "text/plain": [
       "                      type  freq\n",
       "0  noise - street/sidewalk     3\n",
       "1       noise - commercial     1"
      ]
     },
     "execution_count": 152,
     "metadata": {},
     "output_type": "execute_result"
    }
   ],
   "source": [
    "#Count how many times each Ttype of noise complaint occurs in desc order. \n",
    "#Look for case-insensitive substring matches.\n",
    "\n",
    "del query #clear existing query\n",
    "query = '''\n",
    "    SELECT \n",
    "        LOWER(ComplaintType) AS type, \n",
    "        COUNT(*) AS freq\n",
    "    FROM NYC_Reports\n",
    "    WHERE ComplaintType LIKE '%noise%'\n",
    "    GROUP BY type  \n",
    "    ORDER BY freq DESC\n",
    "'''\n",
    "#must aaply lower() to group by clause also OR just use alias that has lower() already\n",
    "df = pd.read_sql_query(query, connection)\n",
    "df"
   ]
  },
  {
   "cell_type": "markdown",
   "id": "8a8b7e00-4818-4b40-b2cd-ffb913bed3e0",
   "metadata": {},
   "source": [
    "**Exercise 2** (2 points). Create a string variable, query, that contains an SQL query that will return the top 3 cities with the largest number of complaints, in descending order. It should return a table with two columns, one named name holding the name of the city, and one named freq holding the number of complaints by that city.\r\n",
    "\r\n",
    "Like complaint types, cities are not capitalized consistently. Therefore, standardize the city names by converting them to uppercase.e."
   ]
  },
  {
   "cell_type": "code",
   "execution_count": 176,
   "id": "e0991aed-62bf-4c7e-9e21-1b2a0d00fd30",
   "metadata": {},
   "outputs": [
    {
     "data": {
      "text/html": [
       "<div>\n",
       "<style scoped>\n",
       "    .dataframe tbody tr th:only-of-type {\n",
       "        vertical-align: middle;\n",
       "    }\n",
       "\n",
       "    .dataframe tbody tr th {\n",
       "        vertical-align: top;\n",
       "    }\n",
       "\n",
       "    .dataframe thead th {\n",
       "        text-align: right;\n",
       "    }\n",
       "</style>\n",
       "<table border=\"1\" class=\"dataframe\">\n",
       "  <thead>\n",
       "    <tr style=\"text-align: right;\">\n",
       "      <th></th>\n",
       "      <th>city</th>\n",
       "      <th>freq</th>\n",
       "    </tr>\n",
       "  </thead>\n",
       "  <tbody>\n",
       "    <tr>\n",
       "      <th>0</th>\n",
       "      <td>NEW YORK</td>\n",
       "      <td>4</td>\n",
       "    </tr>\n",
       "    <tr>\n",
       "      <th>1</th>\n",
       "      <td>STATEN ISLAND</td>\n",
       "      <td>2</td>\n",
       "    </tr>\n",
       "    <tr>\n",
       "      <th>2</th>\n",
       "      <td>BROOKLYN</td>\n",
       "      <td>2</td>\n",
       "    </tr>\n",
       "  </tbody>\n",
       "</table>\n",
       "</div>"
      ],
      "text/plain": [
       "            city  freq\n",
       "0       NEW YORK     4\n",
       "1  STATEN ISLAND     2\n",
       "2       BROOKLYN     2"
      ]
     },
     "execution_count": 176,
     "metadata": {},
     "output_type": "execute_result"
    }
   ],
   "source": [
    "del query #clear existing query\n",
    "\n",
    "query = '''\n",
    "    SELECT UPPER(City) AS city, Count(*) AS freq\n",
    "    FROM NYC_Reports\n",
    "    GROUP BY UPPER(City)\n",
    "    ORDER BY freq DESC\n",
    "    LIMIT 3\n",
    "'''\n",
    "\n",
    "top_cities_df = pd.read_sql_query(query, connection)\n",
    "top_cities_df"
   ]
  },
  {
   "cell_type": "markdown",
   "id": "2148f337-78b8-4a1c-ba5a-2e98870383f2",
   "metadata": {},
   "source": [
    "Case-insensitive grouping: `COLLATE NOCASE`. Another way to carry out the preceding query in a case-insensitive way is to add a COLLATE NOCASE qualifier to the GROUP BY clause. Doesn't apply to all columns you need to specify COLLATE NOCASE after each column you want case-insensitive in group by clause. "
   ]
  },
  {
   "cell_type": "markdown",
   "id": "0b2014a7-e4f7-47aa-9e4f-dd1dbb3264ae",
   "metadata": {},
   "source": [
    "**Exercise 3** (1 point). Implement a function that takes a list of strings, str_list, and returns a single string consisting of each value, str_list[i], enclosed by double-quotes and separated by a comma-space delimiters. For example, if:\n",
    "```\n",
    "assert str_list == ['a', 'b', 'c', 'd']\r",
    "   assert strs_to_args(str_list) == '\"a\", \"b\", \"c\", \"d```\n",
    "\n",
    "Avoid manipulating the input str_list directly.\n",
    "\n",
    "\n"
   ]
  },
  {
   "cell_type": "code",
   "execution_count": 203,
   "id": "42bfd55e-f516-4784-9c30-9b924fb407ae",
   "metadata": {},
   "outputs": [
    {
     "data": {
      "text/plain": [
       "'\"a\", \"b\", \"c\", \"d\"'"
      ]
     },
     "execution_count": 203,
     "metadata": {},
     "output_type": "execute_result"
    }
   ],
   "source": [
    "def strs_to_args(str_list):\n",
    "    assert type (str_list) is list\n",
    "    assert all ([type (s) is str for s in str_list])\n",
    "    ###\n",
    "    ### YOUR CODE HERE\n",
    "    ###\n",
    "    #goal = '\"a\", \"b\", \"c\", \"d\"'\n",
    "    new_str = ''\n",
    "    for i in str_list:\n",
    "        new_str += (f'\"{i}\", ')\n",
    "    \n",
    "    return new_str[:-2]\n",
    "    #return \",\".join([f\"'{i}'\" for i in str_list])\n",
    "    \n",
    "strs_to_args(['a', 'b', 'c', 'd'])"
   ]
  },
  {
   "cell_type": "markdown",
   "id": "8148e62a-52a0-49ea-933e-c2bd0ee8b90d",
   "metadata": {},
   "source": [
    "The point of the function above is to transform the list TOP_CITIES into a string that can be inserted into the SQL query. It creates a string like 'NEW YORK', 'LOS ANGELES', 'CHICAGO' that can be read by SQL unlike a list.\n",
    "\n",
    "We want to this because in the next excercise, we will focus on filtering results based on a list of values (top cities). You can either create a function that joins the list into a comma seperated string or do this directly."
   ]
  },
  {
   "cell_type": "markdown",
   "id": "6beb25fd-ce12-41b1-a105-511383c9a833",
   "metadata": {},
   "source": [
    "**Exercise 4** (3 points). Suppose we want to look at the number of complaints by type and by city for only the top cities, i.e., those in the list TOP_CITIES computed above. Execute an SQL query to produce a tibble named df_complaints_by_city with the variables {complaint_type, city_name, complaint_count}.\n",
    "\n",
    "In your output DataFrame, convert all city names to uppercase and convert all complaint types to lowercase."
   ]
  },
  {
   "cell_type": "code",
   "execution_count": 270,
   "id": "4921f691-58f0-4a88-92a9-f22f6b368a59",
   "metadata": {},
   "outputs": [
    {
     "data": {
      "text/html": [
       "<div>\n",
       "<style scoped>\n",
       "    .dataframe tbody tr th:only-of-type {\n",
       "        vertical-align: middle;\n",
       "    }\n",
       "\n",
       "    .dataframe tbody tr th {\n",
       "        vertical-align: top;\n",
       "    }\n",
       "\n",
       "    .dataframe thead th {\n",
       "        text-align: right;\n",
       "    }\n",
       "</style>\n",
       "<table border=\"1\" class=\"dataframe\">\n",
       "  <thead>\n",
       "    <tr style=\"text-align: right;\">\n",
       "      <th></th>\n",
       "      <th>complaint_type</th>\n",
       "      <th>city_name</th>\n",
       "      <th>complaint_count</th>\n",
       "    </tr>\n",
       "  </thead>\n",
       "  <tbody>\n",
       "    <tr>\n",
       "      <th>0</th>\n",
       "      <td>heat/hot water</td>\n",
       "      <td>BROOKLYN</td>\n",
       "      <td>2</td>\n",
       "    </tr>\n",
       "    <tr>\n",
       "      <th>1</th>\n",
       "      <td>heat/hot water</td>\n",
       "      <td>STATEN ISLAND</td>\n",
       "      <td>2</td>\n",
       "    </tr>\n",
       "    <tr>\n",
       "      <th>2</th>\n",
       "      <td>homeless person</td>\n",
       "      <td>NEW YORK</td>\n",
       "      <td>1</td>\n",
       "    </tr>\n",
       "    <tr>\n",
       "      <th>3</th>\n",
       "      <td>illegal parking</td>\n",
       "      <td>NEW YORK</td>\n",
       "      <td>1</td>\n",
       "    </tr>\n",
       "    <tr>\n",
       "      <th>4</th>\n",
       "      <td>noise - street/sidewalk</td>\n",
       "      <td>NEW YORK</td>\n",
       "      <td>2</td>\n",
       "    </tr>\n",
       "  </tbody>\n",
       "</table>\n",
       "</div>"
      ],
      "text/plain": [
       "            complaint_type      city_name  complaint_count\n",
       "0           heat/hot water       BROOKLYN                2\n",
       "1           heat/hot water  STATEN ISLAND                2\n",
       "2          homeless person       NEW YORK                1\n",
       "3          illegal parking       NEW YORK                1\n",
       "4  noise - street/sidewalk       NEW YORK                2"
      ]
     },
     "execution_count": 270,
     "metadata": {},
     "output_type": "execute_result"
    }
   ],
   "source": [
    "TOP_CITIES = list(top_cities_df['city']) #list of the top cities\n",
    "###\n",
    "### YOUR CODE HERE\n",
    "###\n",
    "del query\n",
    "query = '''\n",
    "    SELECT \n",
    "        LOWER(ComplaintType) AS complaint_type, \n",
    "        UPPER(City) AS city_name,\n",
    "        COUNT(*) AS complaint_count\n",
    "    FROM NYC_Reports\n",
    "    WHERE city_name IN ({})\n",
    "    GROUP BY complaint_type, city_name\n",
    "'''.format(strs_to_args(TOP_CITIES))\n",
    "#.format(','.join(f\"'{city}'\" for city in TOP_CITIES))\n",
    "# IN ({}) is a placeholder for TOP_CITIES list; filtering\n",
    "\n",
    "df_complaints_by_city = pd.read_sql_query(query, connection)\n",
    "df_complaints_by_city"
   ]
  },
  {
   "cell_type": "markdown",
   "id": "0d8efc71-adbd-47e8-bb37-62214c4e78f0",
   "metadata": {},
   "source": [
    "**Exercise 5** (2 points). Suppose we want to create a different stacked bar plot that shows, for each complaint type  t and city  c, the fraction of all complaints of type  t\n",
    "(across all cities, not just the top ones) that occurred in city  c. Store your result in a dataframe named df_plot_fraction. It should have the same columns as df_plot, except that the complaint_count column should be replaced by one named complaint_frac, which holds the fractional values."
   ]
  },
  {
   "cell_type": "code",
   "execution_count": 278,
   "id": "a6d5594e-6d73-4b6c-80ff-dbc51c7730d9",
   "metadata": {},
   "outputs": [
    {
     "data": {
      "text/html": [
       "<div>\n",
       "<style scoped>\n",
       "    .dataframe tbody tr th:only-of-type {\n",
       "        vertical-align: middle;\n",
       "    }\n",
       "\n",
       "    .dataframe tbody tr th {\n",
       "        vertical-align: top;\n",
       "    }\n",
       "\n",
       "    .dataframe thead th {\n",
       "        text-align: right;\n",
       "    }\n",
       "</style>\n",
       "<table border=\"1\" class=\"dataframe\">\n",
       "  <thead>\n",
       "    <tr style=\"text-align: right;\">\n",
       "      <th></th>\n",
       "      <th>complaint_type</th>\n",
       "      <th>city_name</th>\n",
       "      <th>complaint_count</th>\n",
       "    </tr>\n",
       "  </thead>\n",
       "  <tbody>\n",
       "    <tr>\n",
       "      <th>0</th>\n",
       "      <td>heat/hot water</td>\n",
       "      <td>BROOKLYN</td>\n",
       "      <td>2</td>\n",
       "    </tr>\n",
       "    <tr>\n",
       "      <th>1</th>\n",
       "      <td>heat/hot water</td>\n",
       "      <td>STATEN ISLAND</td>\n",
       "      <td>2</td>\n",
       "    </tr>\n",
       "    <tr>\n",
       "      <th>2</th>\n",
       "      <td>homeless person</td>\n",
       "      <td>NEW YORK</td>\n",
       "      <td>1</td>\n",
       "    </tr>\n",
       "    <tr>\n",
       "      <th>3</th>\n",
       "      <td>illegal parking</td>\n",
       "      <td>None</td>\n",
       "      <td>1</td>\n",
       "    </tr>\n",
       "    <tr>\n",
       "      <th>4</th>\n",
       "      <td>illegal parking</td>\n",
       "      <td>NEW YORK</td>\n",
       "      <td>1</td>\n",
       "    </tr>\n",
       "    <tr>\n",
       "      <th>5</th>\n",
       "      <td>noise - commercial</td>\n",
       "      <td>BRONX</td>\n",
       "      <td>1</td>\n",
       "    </tr>\n",
       "    <tr>\n",
       "      <th>6</th>\n",
       "      <td>noise - street/sidewalk</td>\n",
       "      <td>JAMACIA</td>\n",
       "      <td>1</td>\n",
       "    </tr>\n",
       "    <tr>\n",
       "      <th>7</th>\n",
       "      <td>noise - street/sidewalk</td>\n",
       "      <td>NEW YORK</td>\n",
       "      <td>2</td>\n",
       "    </tr>\n",
       "  </tbody>\n",
       "</table>\n",
       "</div>"
      ],
      "text/plain": [
       "            complaint_type      city_name  complaint_count\n",
       "0           heat/hot water       BROOKLYN                2\n",
       "1           heat/hot water  STATEN ISLAND                2\n",
       "2          homeless person       NEW YORK                1\n",
       "3          illegal parking           None                1\n",
       "4          illegal parking       NEW YORK                1\n",
       "5       noise - commercial          BRONX                1\n",
       "6  noise - street/sidewalk        JAMACIA                1\n",
       "7  noise - street/sidewalk       NEW YORK                2"
      ]
     },
     "execution_count": 278,
     "metadata": {},
     "output_type": "execute_result"
    }
   ],
   "source": [
    "query = '''\n",
    "    SELECT \n",
    "        LOWER(ComplaintType) AS complaint_type, \n",
    "        UPPER(City) AS city_name,\n",
    "        COUNT(*) AS complaint_count\n",
    "    FROM NYC_Reports\n",
    "    GROUP BY complaint_type, city_name\n",
    "'''\n",
    "\n",
    "df_plot = pd.read_sql_query(query, connection)\n",
    "df_plot"
   ]
  },
  {
   "cell_type": "code",
   "execution_count": 296,
   "id": "0b9d4a9b-9f89-4d45-b407-abf28445b874",
   "metadata": {},
   "outputs": [
    {
     "data": {
      "text/html": [
       "<div>\n",
       "<style scoped>\n",
       "    .dataframe tbody tr th:only-of-type {\n",
       "        vertical-align: middle;\n",
       "    }\n",
       "\n",
       "    .dataframe tbody tr th {\n",
       "        vertical-align: top;\n",
       "    }\n",
       "\n",
       "    .dataframe thead th {\n",
       "        text-align: right;\n",
       "    }\n",
       "</style>\n",
       "<table border=\"1\" class=\"dataframe\">\n",
       "  <thead>\n",
       "    <tr style=\"text-align: right;\">\n",
       "      <th></th>\n",
       "      <th>complaint_type</th>\n",
       "      <th>city_name</th>\n",
       "      <th>complaint_frac</th>\n",
       "    </tr>\n",
       "  </thead>\n",
       "  <tbody>\n",
       "    <tr>\n",
       "      <th>0</th>\n",
       "      <td>heat/hot water</td>\n",
       "      <td>BROOKLYN</td>\n",
       "      <td>1.0</td>\n",
       "    </tr>\n",
       "    <tr>\n",
       "      <th>1</th>\n",
       "      <td>heat/hot water</td>\n",
       "      <td>STATEN ISLAND</td>\n",
       "      <td>1.0</td>\n",
       "    </tr>\n",
       "    <tr>\n",
       "      <th>2</th>\n",
       "      <td>homeless person</td>\n",
       "      <td>NEW YORK</td>\n",
       "      <td>1.0</td>\n",
       "    </tr>\n",
       "    <tr>\n",
       "      <th>3</th>\n",
       "      <td>illegal parking</td>\n",
       "      <td>None</td>\n",
       "      <td>1.0</td>\n",
       "    </tr>\n",
       "    <tr>\n",
       "      <th>4</th>\n",
       "      <td>illegal parking</td>\n",
       "      <td>NEW YORK</td>\n",
       "      <td>1.0</td>\n",
       "    </tr>\n",
       "    <tr>\n",
       "      <th>5</th>\n",
       "      <td>noise - commercial</td>\n",
       "      <td>BRONX</td>\n",
       "      <td>1.0</td>\n",
       "    </tr>\n",
       "    <tr>\n",
       "      <th>6</th>\n",
       "      <td>noise - street/sidewalk</td>\n",
       "      <td>JAMACIA</td>\n",
       "      <td>1.0</td>\n",
       "    </tr>\n",
       "    <tr>\n",
       "      <th>7</th>\n",
       "      <td>noise - street/sidewalk</td>\n",
       "      <td>NEW YORK</td>\n",
       "      <td>1.0</td>\n",
       "    </tr>\n",
       "  </tbody>\n",
       "</table>\n",
       "</div>"
      ],
      "text/plain": [
       "            complaint_type      city_name  complaint_frac\n",
       "0           heat/hot water       BROOKLYN             1.0\n",
       "1           heat/hot water  STATEN ISLAND             1.0\n",
       "2          homeless person       NEW YORK             1.0\n",
       "3          illegal parking           None             1.0\n",
       "4          illegal parking       NEW YORK             1.0\n",
       "5       noise - commercial          BRONX             1.0\n",
       "6  noise - street/sidewalk        JAMACIA             1.0\n",
       "7  noise - street/sidewalk       NEW YORK             1.0"
      ]
     },
     "execution_count": 296,
     "metadata": {},
     "output_type": "execute_result"
    }
   ],
   "source": [
    "df_plot['complaint_frac'] = df_plot['complaint_count'] / df_plot['complaint_count']\n",
    "df_plot_fraction = df_plot.drop('complaint_count', axis=1)\n",
    "#del df_plot_fraction['complaint_count']\n",
    "\n",
    "df_plot_fraction"
   ]
  },
  {
   "cell_type": "markdown",
   "id": "82af6a71-721c-418a-8d1a-20009eb15fe6",
   "metadata": {},
   "source": [
    "#### Dates and times in SQL\n",
    "You can query against by comparing to strings of the form, YYYY-MM-DD hh:mm:ss.\n",
    "\n",
    "Extract just the hour from the time stamp, using SQL's `strftime()`."
   ]
  },
  {
   "cell_type": "code",
   "execution_count": null,
   "id": "c04af9b5-f855-41f0-806e-64691d7bcbad",
   "metadata": {},
   "outputs": [],
   "source": [
    "#Extract hour\n",
    "query = '''\n",
    "  SELECT \n",
    "      CreatedDate, STRFTIME('%H', CreatedDate) AS Hour, \n",
    "      LOWER(ComplaintType)\n",
    "    FROM NYC_Reports\n",
    "    LIMIT 5\n",
    "'''\n",
    "df = pd.read_sql_query (query, connection)\n",
    "df"
   ]
  },
  {
   "cell_type": "markdown",
   "id": "8e394e33-f5bb-47e3-8361-f5fad8f3d554",
   "metadata": {},
   "source": [
    "**Exercise 6** (3 points). Construct a tibble called df_complaints_by_hour, which contains the total number of complaints during a given hour of the day. That is, the variables or column names should be {hour, count} where each observation is the total number of complaints (count) that occurred during a given hour.\n",
    "\n",
    "Interpret hour as follows: when hour is 02, that corresponds to the open time interval [02:00:00, 03:00:00.0)."
   ]
  },
  {
   "cell_type": "code",
   "execution_count": 366,
   "id": "c9a3411b-0e94-4b30-98a4-b8e0736c2b77",
   "metadata": {},
   "outputs": [
    {
     "data": {
      "text/html": [
       "<div>\n",
       "<style scoped>\n",
       "    .dataframe tbody tr th:only-of-type {\n",
       "        vertical-align: middle;\n",
       "    }\n",
       "\n",
       "    .dataframe tbody tr th {\n",
       "        vertical-align: top;\n",
       "    }\n",
       "\n",
       "    .dataframe thead th {\n",
       "        text-align: right;\n",
       "    }\n",
       "</style>\n",
       "<table border=\"1\" class=\"dataframe\">\n",
       "  <thead>\n",
       "    <tr style=\"text-align: right;\">\n",
       "      <th></th>\n",
       "      <th>CreatedDate</th>\n",
       "      <th>hour</th>\n",
       "      <th>count</th>\n",
       "    </tr>\n",
       "  </thead>\n",
       "  <tbody>\n",
       "    <tr>\n",
       "      <th>0</th>\n",
       "      <td>2015-09-15 01:37:35.000000</td>\n",
       "      <td>01</td>\n",
       "      <td>1</td>\n",
       "    </tr>\n",
       "    <tr>\n",
       "      <th>1</th>\n",
       "      <td>2015-09-15 02:14:04.000000</td>\n",
       "      <td>02</td>\n",
       "      <td>1</td>\n",
       "    </tr>\n",
       "    <tr>\n",
       "      <th>2</th>\n",
       "      <td>2015-09-15 03:12:49.000000</td>\n",
       "      <td>03</td>\n",
       "      <td>1</td>\n",
       "    </tr>\n",
       "    <tr>\n",
       "      <th>3</th>\n",
       "      <td>2015-09-15 06:11:19.000000</td>\n",
       "      <td>06</td>\n",
       "      <td>1</td>\n",
       "    </tr>\n",
       "    <tr>\n",
       "      <th>4</th>\n",
       "      <td>2015-09-15 08:09:46.000000</td>\n",
       "      <td>08</td>\n",
       "      <td>1</td>\n",
       "    </tr>\n",
       "    <tr>\n",
       "      <th>5</th>\n",
       "      <td>2015-09-14 10:40:35.000000</td>\n",
       "      <td>10</td>\n",
       "      <td>1</td>\n",
       "    </tr>\n",
       "    <tr>\n",
       "      <th>6</th>\n",
       "      <td>2015-09-15 12:09:18.000000</td>\n",
       "      <td>12</td>\n",
       "      <td>1</td>\n",
       "    </tr>\n",
       "    <tr>\n",
       "      <th>7</th>\n",
       "      <td>2015-09-15 15:19:21.000000</td>\n",
       "      <td>15</td>\n",
       "      <td>1</td>\n",
       "    </tr>\n",
       "    <tr>\n",
       "      <th>8</th>\n",
       "      <td>2015-09-15 18:14:04.000000</td>\n",
       "      <td>18</td>\n",
       "      <td>1</td>\n",
       "    </tr>\n",
       "    <tr>\n",
       "      <th>9</th>\n",
       "      <td>2015-09-14 23:18:38.000000</td>\n",
       "      <td>23</td>\n",
       "      <td>2</td>\n",
       "    </tr>\n",
       "  </tbody>\n",
       "</table>\n",
       "</div>"
      ],
      "text/plain": [
       "                  CreatedDate hour  count\n",
       "0  2015-09-15 01:37:35.000000   01      1\n",
       "1  2015-09-15 02:14:04.000000   02      1\n",
       "2  2015-09-15 03:12:49.000000   03      1\n",
       "3  2015-09-15 06:11:19.000000   06      1\n",
       "4  2015-09-15 08:09:46.000000   08      1\n",
       "5  2015-09-14 10:40:35.000000   10      1\n",
       "6  2015-09-15 12:09:18.000000   12      1\n",
       "7  2015-09-15 15:19:21.000000   15      1\n",
       "8  2015-09-15 18:14:04.000000   18      1\n",
       "9  2015-09-14 23:18:38.000000   23      2"
      ]
     },
     "execution_count": 366,
     "metadata": {},
     "output_type": "execute_result"
    }
   ],
   "source": [
    "del query\n",
    "query = '''\n",
    "    SELECT \n",
    "        CreatedDate, \n",
    "        strftime('%H', CreatedDate) AS hour,\n",
    "        COUNT(*) AS count\n",
    "    FROM NYC_Reports\n",
    "    GROUP BY hour\n",
    "'''\n",
    "\n",
    "df_complaints_by_hour = pd.read_sql_query(query, connection)\n",
    "df_complaints_by_hour"
   ]
  },
  {
   "cell_type": "markdown",
   "id": "514cd0c2-b30f-4118-ac02-d709092f9b3d",
   "metadata": {},
   "source": [
    "**Exercise 7** (2 points). What is the most common hour for noise complaints? Compute a tibble called df_noisy_by_hour whose variables are {hour, count} and whose observations are the number of noise complaints that occurred during a given hour. Consider a \"noise complaint\" to be any complaint string containing the word noise. Be sure to filter out any dates without an associated time, i.e., a timestamp of 00:00:00.000."
   ]
  },
  {
   "cell_type": "code",
   "execution_count": 378,
   "id": "9b0a6ab5-2c4d-455e-803f-7dd8dbfe2c20",
   "metadata": {},
   "outputs": [
    {
     "data": {
      "text/html": [
       "<div>\n",
       "<style scoped>\n",
       "    .dataframe tbody tr th:only-of-type {\n",
       "        vertical-align: middle;\n",
       "    }\n",
       "\n",
       "    .dataframe tbody tr th {\n",
       "        vertical-align: top;\n",
       "    }\n",
       "\n",
       "    .dataframe thead th {\n",
       "        text-align: right;\n",
       "    }\n",
       "</style>\n",
       "<table border=\"1\" class=\"dataframe\">\n",
       "  <thead>\n",
       "    <tr style=\"text-align: right;\">\n",
       "      <th></th>\n",
       "      <th>hour</th>\n",
       "      <th>count</th>\n",
       "    </tr>\n",
       "  </thead>\n",
       "  <tbody>\n",
       "    <tr>\n",
       "      <th>0</th>\n",
       "      <td>15</td>\n",
       "      <td>1</td>\n",
       "    </tr>\n",
       "    <tr>\n",
       "      <th>1</th>\n",
       "      <td>08</td>\n",
       "      <td>1</td>\n",
       "    </tr>\n",
       "    <tr>\n",
       "      <th>2</th>\n",
       "      <td>06</td>\n",
       "      <td>1</td>\n",
       "    </tr>\n",
       "    <tr>\n",
       "      <th>3</th>\n",
       "      <td>03</td>\n",
       "      <td>1</td>\n",
       "    </tr>\n",
       "  </tbody>\n",
       "</table>\n",
       "</div>"
      ],
      "text/plain": [
       "  hour  count\n",
       "0   15      1\n",
       "1   08      1\n",
       "2   06      1\n",
       "3   03      1"
      ]
     },
     "execution_count": 378,
     "metadata": {},
     "output_type": "execute_result"
    }
   ],
   "source": [
    "del query \n",
    "query = '''\n",
    "    SELECT \n",
    "        strftime('%H', CreatedDate) AS hour,\n",
    "        COUNT(*) as count\n",
    "    FROM NYC_Reports\n",
    "    WHERE \n",
    "        ComplaintType LIKE '%noise%' AND\n",
    "        strftime('%H:%M:%f', CreatedDate) <> '00:00:00.000'\n",
    "    GROUP BY hour\n",
    "    ORDER BY count DESC\n",
    "'''\n",
    "\n",
    "df_noisy_by_hour = pd.read_sql_query(query, connection)\n",
    "df_noisy_by_hour"
   ]
  },
  {
   "cell_type": "markdown",
   "id": "5d7a709f-b8fd-449f-814e-1c52d1d74d95",
   "metadata": {},
   "source": [
    "## Part 2: Advandced SQL Topics"
   ]
  },
  {
   "cell_type": "markdown",
   "id": "12fb3fbd-396c-4743-933e-70e5447470e2",
   "metadata": {},
   "source": [
    "#### SQL String Manipulation\n",
    "SQLite lacks Built-in support for regular expressions and Advanced string to datetime parsing functionailty. \n",
    "\n",
    "These limitations can force you to implement more creative solutions, often involving combinations of functions like TRIM, SUBSTR, INSTR, and REPLACE to achieve results that would be straightforward in other environments."
   ]
  },
  {
   "cell_type": "markdown",
   "id": "37e7fc42-f840-462c-8955-43ee918ecf62",
   "metadata": {},
   "source": [
    "**Exercise 1**: (0 points)\n",
    "parse_classification\n",
    "\n",
    "Your task: define parse_classification as follows:\n",
    "\n",
    "Activity: Extract and Separate Title Classification Code and Description\n",
    "\n",
    "Return: query: a Python string containing a SQLite query. It should query the database to create a new DataFrame from the job_title table with the following columns:\n",
    "\n",
    "```\n",
    "title_classification - original title_classification column from the job_title table.\n",
    "title_classification_desc - text portion of the title_classification \n",
    "title_classification_code - integer portion of the title_classification \n",
    "```\n",
    "\n",
    "Requirements/steps:\n",
    "- The database table you will need is named job_title.\n",
    "- The column you will work with is title_classification.\n",
    "\n",
    "*Hint: There are multiple ways to solve this exercise. The following SQLite functions may help, but not all are strictly necessary, SUBSTR, INSTR, and REPLACE.*"
   ]
  },
  {
   "cell_type": "code",
   "execution_count": 263,
   "id": "7c4a095f-2cad-4a71-bee6-c3550e1d8e92",
   "metadata": {},
   "outputs": [
    {
     "data": {
      "text/html": [
       "<div>\n",
       "<style scoped>\n",
       "    .dataframe tbody tr th:only-of-type {\n",
       "        vertical-align: middle;\n",
       "    }\n",
       "\n",
       "    .dataframe tbody tr th {\n",
       "        vertical-align: top;\n",
       "    }\n",
       "\n",
       "    .dataframe thead th {\n",
       "        text-align: right;\n",
       "    }\n",
       "</style>\n",
       "<table border=\"1\" class=\"dataframe\">\n",
       "  <thead>\n",
       "    <tr style=\"text-align: right;\">\n",
       "      <th></th>\n",
       "      <th>title_classification</th>\n",
       "    </tr>\n",
       "  </thead>\n",
       "  <tbody>\n",
       "    <tr>\n",
       "      <th>0</th>\n",
       "      <td>Competitive-1</td>\n",
       "    </tr>\n",
       "    <tr>\n",
       "      <th>1</th>\n",
       "      <td>Competitive-5</td>\n",
       "    </tr>\n",
       "    <tr>\n",
       "      <th>2</th>\n",
       "      <td>Non-Competitive-5</td>\n",
       "    </tr>\n",
       "    <tr>\n",
       "      <th>3</th>\n",
       "      <td>Non-Competitive-1</td>\n",
       "    </tr>\n",
       "    <tr>\n",
       "      <th>4</th>\n",
       "      <td>Competitive-1</td>\n",
       "    </tr>\n",
       "  </tbody>\n",
       "</table>\n",
       "</div>"
      ],
      "text/plain": [
       "  title_classification\n",
       "0        Competitive-1\n",
       "1        Competitive-5\n",
       "2    Non-Competitive-5\n",
       "3    Non-Competitive-1\n",
       "4        Competitive-1"
      ]
     },
     "execution_count": 263,
     "metadata": {},
     "output_type": "execute_result"
    }
   ],
   "source": [
    "# Define demo\n",
    "import sqlite3 as db\n",
    "import pandas as pd\n",
    "\n",
    "connection = db.connect('jobs_db')\n",
    "cursor = connection.cursor()\n",
    "\n",
    "cursor.execute(\"DROP TABLE IF EXISTS job_title\")\n",
    "cursor.execute('''CREATE TABLE job_title (title_classification TEXT)''')\n",
    "\n",
    "#cursor.execute('''INSERT INTO job_title VALUES('Competitive-1')''')\n",
    "data = [('Competitive-1',), ('Competitive-5',), ('Non-Competitive-5',), ('Non-Competitive-1',), ('Competitive-1',)]\n",
    "cursor.executemany('''INSERT INTO job_title (title_classification) VALUES(?)''', data)\n",
    "connection.commit()\n",
    "\n",
    "query = '''SELECT * FROM job_title'''\n",
    "job_title_df = pd.read_sql_query(query, connection)\n",
    "job_title_df"
   ]
  },
  {
   "cell_type": "code",
   "execution_count": 265,
   "id": "cceb8fc2-2475-456d-b7c7-fd6ebcee8ab5",
   "metadata": {},
   "outputs": [
    {
     "data": {
      "text/html": [
       "<div>\n",
       "<style scoped>\n",
       "    .dataframe tbody tr th:only-of-type {\n",
       "        vertical-align: middle;\n",
       "    }\n",
       "\n",
       "    .dataframe tbody tr th {\n",
       "        vertical-align: top;\n",
       "    }\n",
       "\n",
       "    .dataframe thead th {\n",
       "        text-align: right;\n",
       "    }\n",
       "</style>\n",
       "<table border=\"1\" class=\"dataframe\">\n",
       "  <thead>\n",
       "    <tr style=\"text-align: right;\">\n",
       "      <th></th>\n",
       "      <th>title_classification</th>\n",
       "    </tr>\n",
       "  </thead>\n",
       "  <tbody>\n",
       "    <tr>\n",
       "      <th>0</th>\n",
       "      <td>Competitive-1</td>\n",
       "    </tr>\n",
       "    <tr>\n",
       "      <th>1</th>\n",
       "      <td>Competitive-5</td>\n",
       "    </tr>\n",
       "    <tr>\n",
       "      <th>2</th>\n",
       "      <td>Non-Competitive-5</td>\n",
       "    </tr>\n",
       "    <tr>\n",
       "      <th>3</th>\n",
       "      <td>Non-Competitive-1</td>\n",
       "    </tr>\n",
       "    <tr>\n",
       "      <th>4</th>\n",
       "      <td>Competitive-1</td>\n",
       "    </tr>\n",
       "  </tbody>\n",
       "</table>\n",
       "</div>"
      ],
      "text/plain": [
       "  title_classification\n",
       "0        Competitive-1\n",
       "1        Competitive-5\n",
       "2    Non-Competitive-5\n",
       "3    Non-Competitive-1\n",
       "4        Competitive-1"
      ]
     },
     "metadata": {},
     "output_type": "display_data"
    }
   ],
   "source": [
    "### Solution - Exercise 0  \n",
    "def parse_classification():\n",
    "    ###\n",
    "    ### YOUR CODE HERE\n",
    "    ###\n",
    "    query = '''\n",
    "        SELECT \n",
    "            title_classification,\n",
    "            SUBTSR()\n",
    "            SUBSTR()\n",
    "        FROM job_title\n",
    "    '''\n",
    "    return query\n",
    "\n",
    "### Demo function call\n",
    "parse_classification_query = parse_classification()\n",
    "parse_classification_df = pd.read_sql_query(parse_classification_query, connection)\n",
    "display(parse_classification_df.head())"
   ]
  },
  {
   "cell_type": "markdown",
   "id": "4312d8ce-abda-4f97-b738-f3a5297261a7",
   "metadata": {},
   "source": [
    "### CASE Statements\n",
    "\n",
    "`CASE` statement allows you to recode variables based on specific conditions. It works similarly to an **IF-THEN-ELSE** structure in programming languages. By using CASE, you can create new columns, transform existing values, or recategorize data based on **conditional logic** directly within your SQL queries."
   ]
  },
  {
   "cell_type": "markdown",
   "id": "8928c32e-7d82-48aa-9e4b-81c3c1457771",
   "metadata": {},
   "source": [
    "**Example**: \n",
    "\n",
    "You want to create a new column called salary_band that assigns a salary band based on the experience_level. Here’s a simple example:\n",
    "\n",
    "```\n",
    "SELECT\r\n",
    "    employee_id,\r\n",
    "    experience_level,\r\n",
    "    CASE\r\n",
    "        WHEN experience_level = 'Junior' THEN 'Low'\r\n",
    "        WHEN experience_level = 'Mid' THEN 'Medium'\r\n",
    "        WHEN experience_level = 'Senior' THEN 'High'\r\n",
    "        ELSE 'Unknown'\r\n",
    "    END AS salary_band\r\n",
    "FROM\r\n",
    "    employees;\n",
    "```"
   ]
  },
  {
   "cell_type": "code",
   "execution_count": null,
   "id": "9a7886bc-413e-4b4c-85f1-123ace7b1a13",
   "metadata": {},
   "outputs": [],
   "source": []
  },
  {
   "cell_type": "code",
   "execution_count": null,
   "id": "1190c85b-cc9e-499f-9571-b07da1df43e1",
   "metadata": {},
   "outputs": [],
   "source": []
  },
  {
   "cell_type": "markdown",
   "id": "117c9ae6-88f7-4d3c-85ed-44e880923b28",
   "metadata": {},
   "source": [
    "### Inline Subqueries and Common Table Expressions (CTEs)\n",
    "\n",
    "When working with SQL, it's common to encounter situations where you need to perform calculations or data transformations based on grouped or filtered data. Two powerful tools for handling such scenarios are inline subqueries and Common Table Expressions (CTEs). Both approaches allow you to structure your queries in a way that breaks down complex operations into manageable steps, in slighly different ways.\n",
    "\n",
    "An **Inline Subquery** is a query nested within another SQL query, typically within the SELECT, WHERE, or FROM clause. Inline subqueries allow you to perform calculations or filtering within the context of the outer query. They are particularly useful when you need to filter results based on aggregated values like maximum, minimum, or average. Inline subqueries are powerful, but they can become less efficient when the same calculation needs to be repeated multiple times, as each repetition can slow down the query execution.\n",
    "\n",
    "\r",
    "A **Common Table Expression (CTE)**, introduced by the WITH clause, is a named temporary result set that you can reference within your main query. CTEs improve the readability and maintainability of SQL code, especially for complex queries, by allowing you to break down operations into logical steps CTEs are often preferred for their clarity and efficiency, particularly when the same calculation or transformation needs to be referenced multiple times within a query.mp"
   ]
  },
  {
   "cell_type": "code",
   "execution_count": null,
   "id": "dd2063af-6985-4056-ab0a-b24224bd20fd",
   "metadata": {},
   "outputs": [],
   "source": []
  },
  {
   "cell_type": "code",
   "execution_count": null,
   "id": "e642dd43-7470-4a70-806c-f05b8ca420f3",
   "metadata": {},
   "outputs": [],
   "source": []
  },
  {
   "cell_type": "code",
   "execution_count": null,
   "id": "dfffad51-043b-47b0-88a8-b734d6c2dbd8",
   "metadata": {},
   "outputs": [],
   "source": []
  },
  {
   "cell_type": "code",
   "execution_count": null,
   "id": "d98a4a4f-dae8-47d7-b2fe-bce1a9c05c15",
   "metadata": {},
   "outputs": [],
   "source": []
  },
  {
   "cell_type": "code",
   "execution_count": null,
   "id": "4be3e6f7-37fd-4d73-89a6-4af2035ab5ab",
   "metadata": {},
   "outputs": [],
   "source": []
  },
  {
   "cell_type": "code",
   "execution_count": null,
   "id": "e15d9eb3-cd82-4f00-8e12-5cb873de8849",
   "metadata": {},
   "outputs": [],
   "source": []
  },
  {
   "cell_type": "code",
   "execution_count": null,
   "id": "82ee36dc-46b0-4468-8cf3-44cbba8a3c3b",
   "metadata": {},
   "outputs": [],
   "source": []
  },
  {
   "cell_type": "code",
   "execution_count": null,
   "id": "1ddea4aa-057a-49c1-8943-93920cdd5653",
   "metadata": {},
   "outputs": [],
   "source": []
  },
  {
   "cell_type": "code",
   "execution_count": null,
   "id": "477fa7a8-49d1-456a-8752-27331855f3d6",
   "metadata": {},
   "outputs": [],
   "source": []
  },
  {
   "cell_type": "code",
   "execution_count": null,
   "id": "13d153fd-0f5b-4f37-8d60-203b84d3ebbf",
   "metadata": {},
   "outputs": [],
   "source": []
  },
  {
   "cell_type": "code",
   "execution_count": null,
   "id": "bd9c8df0-99d2-4521-bcfa-7ce78d4e389c",
   "metadata": {},
   "outputs": [],
   "source": []
  },
  {
   "cell_type": "code",
   "execution_count": null,
   "id": "42c14d95-917f-46f4-9c9e-9d669db5c0ea",
   "metadata": {},
   "outputs": [],
   "source": []
  },
  {
   "cell_type": "code",
   "execution_count": null,
   "id": "a6af9bab-2f7d-4238-91ca-43702f11eaba",
   "metadata": {},
   "outputs": [],
   "source": []
  },
  {
   "cell_type": "code",
   "execution_count": null,
   "id": "39679ea6-3efe-4647-aa5e-933fb6709924",
   "metadata": {},
   "outputs": [],
   "source": []
  },
  {
   "cell_type": "code",
   "execution_count": null,
   "id": "65826f4d-c9c8-4d4e-9bff-1430d2695503",
   "metadata": {},
   "outputs": [],
   "source": []
  },
  {
   "cell_type": "code",
   "execution_count": null,
   "id": "5b1244db-09d2-45a4-9a67-f5e9f1a76a6e",
   "metadata": {},
   "outputs": [],
   "source": []
  },
  {
   "cell_type": "code",
   "execution_count": null,
   "id": "b3f00af5-1193-4d18-81a8-9d3e5d697d1a",
   "metadata": {},
   "outputs": [],
   "source": []
  },
  {
   "cell_type": "code",
   "execution_count": null,
   "id": "533ce4bf-9e97-4d7b-b62c-377949de96c1",
   "metadata": {},
   "outputs": [],
   "source": []
  },
  {
   "cell_type": "code",
   "execution_count": null,
   "id": "8544d8fa-12e7-4572-9451-3678d3e46cd5",
   "metadata": {},
   "outputs": [],
   "source": []
  },
  {
   "cell_type": "code",
   "execution_count": null,
   "id": "fee93b5b-601f-47a7-b251-04cf124c7669",
   "metadata": {},
   "outputs": [],
   "source": []
  },
  {
   "cell_type": "code",
   "execution_count": null,
   "id": "8fa4653b-fcc4-4bff-91ee-bc4630bf525a",
   "metadata": {},
   "outputs": [],
   "source": []
  },
  {
   "cell_type": "code",
   "execution_count": null,
   "id": "b11fa69b-2dfd-4344-bcae-3c8d415eace3",
   "metadata": {},
   "outputs": [],
   "source": []
  },
  {
   "cell_type": "code",
   "execution_count": null,
   "id": "9d557b9f-73ba-4a67-bafd-11e2c25ba436",
   "metadata": {},
   "outputs": [],
   "source": []
  },
  {
   "cell_type": "code",
   "execution_count": null,
   "id": "8da9331f-9be7-4152-a60b-90b998858a1f",
   "metadata": {},
   "outputs": [],
   "source": []
  },
  {
   "cell_type": "code",
   "execution_count": null,
   "id": "f145a2e2-a960-491b-94bb-1524ae862aa9",
   "metadata": {},
   "outputs": [],
   "source": []
  }
 ],
 "metadata": {
  "kernelspec": {
   "display_name": "Python 3 (ipykernel)",
   "language": "python",
   "name": "python3"
  },
  "language_info": {
   "codemirror_mode": {
    "name": "ipython",
    "version": 3
   },
   "file_extension": ".py",
   "mimetype": "text/x-python",
   "name": "python",
   "nbconvert_exporter": "python",
   "pygments_lexer": "ipython3",
   "version": "3.11.7"
  }
 },
 "nbformat": 4,
 "nbformat_minor": 5
}
