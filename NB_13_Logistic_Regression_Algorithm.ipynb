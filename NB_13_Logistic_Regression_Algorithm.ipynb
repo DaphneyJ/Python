{
 "cells": [
  {
   "cell_type": "markdown",
   "id": "020e2b14-c4f1-4888-be14-36726e79f320",
   "metadata": {},
   "source": [
    "# Logistic Regression\n",
    "\n",
    "A Classification model classifies/assigns groups to labeled data points. There are different classification algorithms and Logistic Regression is one.  \n",
    "\n",
    "**Logistic Regression** is a classification algorithm used to separate data into classes.\n",
    "\n",
    "`Logistic (Sigmoid) function`: \n",
    "\n",
    "- The sigmoid function (-infinity , infinity) classifies values as 0 or 1 (probability).\n",
    "- In the real world, some classes aren’t clearly separable. \n",
    "- The logistic Sigmoid function generates a soft label for points that are hard to classify (on border) instead of the default hard label (0 or 1). It classifies a value as a fraction between 0 and 1. If you want a hard classifier you can always round the soft label to 0 or 1."
   ]
  },
  {
   "cell_type": "markdown",
   "id": "22ac2eb3-ea60-4913-ab74-a1df763520f3",
   "metadata": {},
   "source": [
    "### Slicing Columns\n",
    "\n",
    "To extract a column i from a Numpy matrix A and keep it as a column vector, use notation:\n",
    "> Slicing Notation :   A[ : , i : i + 1]   → ex. A[:, 2:3]\n"
   ]
  },
  {
   "cell_type": "markdown",
   "id": "124406f1-efd6-410d-a4d3-58c040b33814",
   "metadata": {},
   "source": [
    "### Linear Discriminant (Linear Boundary)\n",
    "\n",
    "A **linear discriminant** is a line (or hyperplane, in higher dimensions) that separates two classes of data in a dataset.\n",
    "\n",
    "The boundary line can be described using the equation: \n",
    "> 𝜃^𝑇𝑥 = 0\n",
    "    - 𝜃 is a vector of coefficients (like weights in a linear equation).\n",
    "    - 𝑥 is a point in the data space (a vector of features).\n",
    "    - When 𝜃^𝑇𝑥 = 0, the point 𝑥 is exactly on the boundary.\n",
    "\n",
    "Example: We have two features (or predictors), 𝑥1 and 𝑥2, and an intercept term (constant) 𝑥0 = 1, then:  𝜃𝑥0 + 𝜃𝑥1 + 𝜃2 = 0\n",
    "- For any point 𝑥 that’s not on the line, 𝜃^𝑇𝑥 will give a value that is either positive or negative\n",
    "    - Positive (𝜃^𝑇𝑥 > 0): The point is on one side of the boundary.\n",
    "    - Negative (𝜃^𝑇𝑥 < 0): The point is on the other side of the boundary.\n",
    "- This property allows us to use 𝜃^𝑇𝑥 as a classifier. By checking if the result is positive or negative, we can assign a label to the point 𝑥, effectively classifying it as belonging to one of the two classes. \n",
    "\n",
    "**Heaviside Function** \n",
    "\n",
    "The Heaviside function 𝐻(𝑦), is used to convert these positive and negative results into binary labels (0 or 1). 1 if y >0 and 0 if y<=0.\n",
    "\n",
    "By applying 𝐻(𝑦) to 𝜃^𝑇𝑥 we convert the continuous result of 𝜃^𝑇𝑥 into a binary classification 1 or 0:\n"
   ]
  },
  {
   "cell_type": "markdown",
   "id": "7ef785c7-2674-49e7-8fbe-a32150394732",
   "metadata": {},
   "source": [
    "**Exercise 0** (2 points). Given a **m×(d+1)** matrix of augmented points (i.e., the X matrix) and a column vector θ of length **d+1**, implement a function to compute the value of the linear discriminant at each point. That is, the function should return a (column) vector y where the  yi=θTx̂ i."
   ]
  },
  {
   "cell_type": "code",
   "execution_count": 10,
   "id": "7af08b39-a09b-44b6-8e78-3b73369609a2",
   "metadata": {},
   "outputs": [],
   "source": [
    "# Example data\n",
    "X = np.array([[1, 2, 3], [1, 4, 5], [1, 6, 7]])  # m x (d+1) matrix\n",
    "theta = np.array([[0.5], [1], [1.5]])            # (d+1) x 1 column vector"
   ]
  },
  {
   "cell_type": "code",
   "execution_count": 24,
   "id": "6fc953fd-492d-48bc-a62e-7d5f968b26e7",
   "metadata": {},
   "outputs": [
    {
     "name": "stdout",
     "output_type": "stream",
     "text": [
      "(3, 3)\n",
      "(3, 1)\n",
      "[[ 7.]\n",
      " [12.]\n",
      " [17.]]\n"
     ]
    }
   ],
   "source": [
    "import pandas as pd\n",
    "import numpy as np\n",
    "def lin_discr(X, theta):\n",
    "    ###\n",
    "    ### YOUR CODE HERE\n",
    "    ###\n",
    "    \"\"\"   \n",
    "    Computes the linear discriminant value for each point in X.\n",
    "    Parameters:\n",
    "     X = matrix\n",
    "     m = rows\n",
    "     d = predictors\n",
    "     theta = column vector of length d+1\n",
    "    \"\"\"\n",
    "    y = X.dot(theta)\n",
    "    print(X.shape)\n",
    "    print(theta.shape)\n",
    "    return y.reshape(-1,1)\n",
    "    \n",
    "print(lin_discr(X, theta))"
   ]
  },
  {
   "cell_type": "markdown",
   "id": "80e28e18-df82-436f-9d81-f5cde79d3355",
   "metadata": {},
   "source": [
    "**Exercise 1** (2 points). Implement the heaviside function, H(y). Your function should allow for an arbitrary matrix of input values and should apply the heaviside function to each element. In the returned matrix, the elements should have a **floating-point type**.\n",
    "\n",
    "Example, the code snippet\n",
    "\n",
    "```python\n",
    "    A = np.array([[-0.5, 0.2, 0.0],\n",
    "                  [4.2, 3.14, -2.7]])\n",
    "    print(heaviside(A))\n",
    "```\n",
    "\n",
    "should display\n",
    "\n",
    "```\n",
    "    [[ 0.  1.  0.]\n",
    "     [ 1.  1.  0.]]\n",
    "```\n"
   ]
  },
  {
   "cell_type": "code",
   "execution_count": 39,
   "id": "e4eecbe7-5634-4350-a51c-ef987fa77262",
   "metadata": {},
   "outputs": [
    {
     "name": "stdout",
     "output_type": "stream",
     "text": [
      "[[0. 1. 0.]\n",
      " [1. 1. 0.]]\n"
     ]
    }
   ],
   "source": [
    "def heaviside(Y):\n",
    "    ###\n",
    "    ### YOUR CODE HERE\n",
    "    ###\n",
    "    \"\"\"   \n",
    "    Applies the Heaviside function elementwise to the input matrix Y.\n",
    "    Parameters:\n",
    "      Y = input matrix\n",
    "      return a matrix with elemwise heavside function applied\n",
    "    \"\"\"\n",
    "    return (Y>0).astype(float)\n",
    "    return np.maximum(0, np.sign(Y))  #np.sign assigns 1 for + and 0 for -; max replaces all - with 0\n",
    "\n",
    "# Apply the Heaviside function\n",
    "print(heaviside(np.array([[-0.5, 0.2, 0.0], [4.2, 3.14, -2.7]])))"
   ]
  },
  {
   "cell_type": "markdown",
   "id": "7edae5ed-f5e7-4df3-ac3a-5d665980d210",
   "metadata": {},
   "source": [
    "### Guessing Boundary\n",
    "\n",
    "The helper function np_col_vec(list_values) converts a list of scalar values (e.g., [-1, 3, 0]) into a column vector that can be used as 𝜃 for the linear discriminant.\n",
    "​\n",
    "$$\\theta = \\left[\\begin{array}{c} -1 \\\\ 3 \\\\ 0 \\end{array}\\right]$$\n",
    "​\n",
    "The output says \"Detected 123 mismatches out of 375 cases.\" This means that the boundary defined by θ does not perfectly separate the two classes. A mismatch occurs when the guessed boundary misclassifies a point, meaning it assigns the wrong label to that point.\n",
    "\n",
    "> To improve the boundary, you can try different values of 𝜃 and see if they result in fewer mismatches. However, an even better approach would be to use a learning algorithm (logistic regression) to find the optimal 𝜃 values rather than guessing."
   ]
  },
  {
   "cell_type": "markdown",
   "id": "03d3a490-a282-4825-8fcc-d0719edcca3c",
   "metadata": {},
   "source": [
    "**Exercise 2** (2 points). In the code cell below, try to find a better $\\theta$! You can do that by randomly guessing coordinates for $\\theta$ by hand until you find a good one. (If you are a bit more clever, you might eyeball a line and use that to make an informed guess.)\n",
    "\n",
    "Store your $\\theta$ in a variable named `my_theta`, which should be a Numpy _column vector_. You can use `np_col_vec()`, e.g.,\n",
    "\n",
    "```python\n",
    "my_theta = np_col_vec([-1., 3., 0.])\n",
    "```\n",
    "\n",
    "The test cell will generate a plot like the one above showing how well you did, and checking that you committed at most 10 mismatches.\n",
    "\n",
    "> Hint: We found a set of coefficients that commits just 5 errors for the 375 input points."
   ]
  },
  {
   "cell_type": "code",
   "execution_count": 82,
   "id": "1bdfed97-2471-47fb-81a0-b2ea7608bd5b",
   "metadata": {},
   "outputs": [
    {
     "name": "stdout",
     "output_type": "stream",
     "text": [
      "New theta: [1. 1. 2.]\n",
      "Mismatches: 69938\n"
     ]
    },
    {
     "data": {
      "image/png": "[encoded data removed]",
      "text/plain": [
       "<Figure size 640x480 with 1 Axes>"
      ]
     },
     "metadata": {},
     "output_type": "display_data"
    }
   ],
   "source": [
    "import numpy as np\n",
    "import matplotlib.pyplot as plt\n",
    "\n",
    "def np_col_vec(list_values):\n",
    "    \"\"\"Converts a list of values to a column vector.\"\"\"\n",
    "    return np.array([list_values]).T\n",
    "\n",
    "def compute_mismatches(X, y, theta):\n",
    "    \"\"\"Computes mismatches based on the guessed boundary defined by theta.\"\"\"\n",
    "    X_augmented = np.hstack((np.ones((X.shape[0], 1)), X))  # Add intercept\n",
    "    predictions = (X_augmented.dot(theta) > 0).astype(int)\n",
    "    return np.sum(predictions != y)\n",
    "\n",
    "def plot_decision_boundary(X, y, theta):\n",
    "    \"\"\"Plots the data points and the decision boundary defined by theta.\"\"\"\n",
    "    plt.scatter(X[y == 0][:, 0], X[y == 0][:, 1], color='blue', label='Class 0')\n",
    "    plt.scatter(X[y == 1][:, 0], X[y == 1][:, 1], color='orange', label='Class 1')\n",
    "    \n",
    "    # Define the boundary line\n",
    "    x_values = np.array([X[:, 0].min(), X[:, 0].max()])\n",
    "    y_values = -(theta[0] + theta[1] * x_values) / theta[2]\n",
    "    plt.plot(x_values, y_values, color=\"green\", label=\"Decision Boundary\")\n",
    "    \n",
    "    plt.xlabel(\"x1\")\n",
    "    plt.ylabel(\"x2\")\n",
    "    plt.legend()\n",
    "    plt.show()\n",
    "\n",
    "# Generate synthetic data\n",
    "np.random.seed(0)\n",
    "m = 375\n",
    "X = np.vstack([\n",
    "    np.random.randn(m // 2, 2) + [0, -1],\n",
    "    np.random.randn(m // 2, 2) + [1, 1]\n",
    "])\n",
    "y = np.array([0] * (m // 2) + [1] * (m // 2))\n",
    "\n",
    "\n",
    "# Test different theta values\n",
    "initial_theta = np_col_vec([-1., 3., 0.]) # 123 mismatches\n",
    "###\n",
    "### YOUR CODE HERE\n",
    "###\n",
    "new_theta = np_col_vec([1., 1, 2]) \n",
    "\n",
    "print(\"New theta:\", new_theta.flatten())\n",
    "print(\"Mismatches:\", compute_mismatches(X, y, new_theta)) #incorrect\n",
    "plot_decision_boundary(X, y, new_theta)"
   ]
  },
  {
   "cell_type": "markdown",
   "id": "c63955e5-3bb1-4c0b-b67c-576821f866f6",
   "metadata": {},
   "source": [
    "### The logistic (sigmoid) function\n",
    "\n",
    "As the example suggests, real data is not likely to be cleanly separable, especially when the number of features we have at our disposal is relatively small.\n",
    "\n",
    "Since the labels are 0 or 1, you could look for a way to interpret labels as probabilities rather than as hard (0 or 1) labels. One such function is the logistic function, also referred to as the **logit** or `sigmoid function`.\n",
    "\r",
    "$$\n",
    "\\begin{array}{rcl}\n",
    "  G(y) & \\equiv & \\dfrac{1}{1 + e^{-y}}\n",
    "\\end{array}\n",
    "$$\n",
    "\n",
    "The logistic function takes any value in the domain $(-\\infty, +\\infty)$ and produces a value in the range $(0, 1)$. Thus, given a value $y$, we can interpret $G(y)$ as a conditional probability that the label is 1 given $y$, i.e., $G(y) \\equiv \\mathrm{Pr}[\\mbox{label is }1 \\,|\\, y]$.\r\n"
   ]
  },
  {
   "cell_type": "code",
   "execution_count": 101,
   "id": "3dbef0b0-ea1d-4ee9-b0da-4e9906ff9020",
   "metadata": {},
   "outputs": [
    {
     "data": {
      "image/png": "[encoded data removed]",
      "text/plain": [
       "<Figure size 640x480 with 1 Axes>"
      ]
     },
     "metadata": {},
     "output_type": "display_data"
    }
   ],
   "source": [
    "def logistic(Y):\n",
    "    ###\n",
    "    ### YOUR CODE HERE\n",
    "    ###\n",
    "    \"\"\"\n",
    "    Applies the logistic function elementwise to the input matrix Y.\n",
    "    \"\"\"\n",
    "    G = 1 / (1 + np.exp(-Y))\n",
    "    return G\n",
    "\n",
    "\n",
    "# Plot your function\n",
    "y_values = np.linspace(-10, 10, 100)\n",
    "G_values = logistic(y_values)\n",
    "plt.plot(y_values, G_values)\n",
    "plt.title(\"Logistic (Sigmoid) Function\")\n",
    "plt.xlabel(\"y\")\n",
    "plt.ylabel(\"G(y)\")\n",
    "plt.grid(True)\n",
    "plt.show()"
   ]
  },
  {
   "cell_type": "markdown",
   "id": "e408093a-2424-429b-938e-c5dcd511cea9",
   "metadata": {},
   "source": [
    "### Maximum Likelihood Estimation (MLE)\n",
    "\n",
    "MLE is a statistical method used to estimate the optimal parameters (𝜃) of a model by maximizing the \"likelihood\" that the observed data came from that model. In simpler terms, we want to find the parameter values that make the observed data most likely.\n",
    "\n",
    "We want to find a vector of parameters 𝜃 that can help us classify data points accurately. Instead of guessing 𝜃, MLE allows us to compute it mathematically.\n",
    "\n",
    "1. Define the Likelihood Function\n",
    "   - The likelihood function is a measure of how well a set of parameters 𝜃 explains the observed data. Given our data points 𝑋 and their labels 𝑦, we want to find 𝜃 that maximizes the probability of observing 𝑦 given 𝑋 and 𝜃. We denote this probability as Pr[y∣X,θ].\n",
    "   - Assume each data point is independent. So take the sum of all points.\n",
    "   - Use the Log-Likelihood for Simplicity instead of maximizing the likelihood directly.\n",
    "  \n",
    "MLE Fitting (finding optimal 𝜃)\n",
    "- define Pr[y∣X,θ] based on model\n",
    "- find optimal 𝜃 that maximizes log-likihood L(θ;y,X) using optimization algorithms like gradient descent."
   ]
  },
  {
   "cell_type": "markdown",
   "id": "6a6f02a3-5b13-4d58-b4a4-bbd7c6ae636e",
   "metadata": {},
   "source": [
    "### MLE for logistic regression\n",
    "\n",
    "In logistic regression, we want to find the parameters 𝜃 that maximize the likelihood of observing the given data.\n",
    "1.  Logistic Function 𝐺(𝑥𝑖^𝑇𝜃):\n",
    "    - The probability of a data point 𝑥𝑖 being labeled as 1 (i.e., 𝑦𝑖=1) is modeled using the logistic function 𝐺(𝑥𝑖^𝑇𝜃)\n",
    "\n",
    "$$\n",
    "\\begin{array}{rcl}\n",
    "  𝐺(𝑥𝑖^𝑇𝜃) & \\equiv & \\dfrac{1}{1 + e^{-y}}\n",
    "\\end{array}\n",
    "$$\n",
    "\n",
    "2. Bernoulli Trial:\n",
    "    - Since each label 𝑦𝑖 is either 0 or 1, use a Bernoulli distribution to describe the probability of each outcome.\n",
    "    - Pr[𝑦𝑖∣X𝑖,θ] = 𝐺(𝑥𝑖^𝑇𝜃)^𝑦𝑖 * (1-𝐺(𝑥𝑖^𝑇𝜃))^1-𝑦𝑖\n",
    "    - 𝑦𝑖 = 1, then 𝐺(𝑥𝑖^𝑇𝜃)\n",
    "    - 𝑦𝑖 = 0, then 1-𝐺(𝑥𝑖^𝑇𝜃)\n",
    "\n",
    "  \n",
    "3. Log-Likelihood Function:\n",
    "   - Use logarithm of the likelihood, which turns the product into a sum.\n",
    "   - To simplify notation, two conventions are used:\n",
    "     1. Convention 1: Use a vector of ones 𝑢 to sum over all elements. \n",
    "     2. Convention 2: Apply functions elementwise to matrices so 𝐺(𝑋𝜃) applies 𝐺 to each element in 𝑋𝜃.\n",
    "\n",
    "$$\n",
    "\\begin{array}{rrcl}\n",
    "  (\\mathrm{V1}) & \\mathcal{L}(\\theta; y, X) & = & y^T \\ln G(X \\theta) + (u-y)^T \\ln [u - G(X \\theta)] \\\\\n",
    "  (\\mathrm{V2}) & \\mathcal{L}(\\theta; y, X) & = & y^T X \\theta + u^T \\ln G(-X \\theta)\n",
    "\\end{array}\n",
    "$$\n"
   ]
  },
  {
   "cell_type": "markdown",
   "id": "1e8f8503-c863-4624-baa5-da39762b5cfa",
   "metadata": {},
   "source": [
    "**Exercise 6** (2 points). Implement the log-likelihood function. To compute the elementwise logarithm of a matrix or vector, use Numpy's log function."
   ]
  },
  {
   "cell_type": "code",
   "execution_count": 127,
   "id": "509663af-8f3d-41c5-a9c9-1d3bf5848d6f",
   "metadata": {},
   "outputs": [],
   "source": [
    "# Sample dataset \n",
    "np.random.seed(0)\n",
    "X = np.random.rand(10, 2)  # 10 data points with 2 features\n",
    "X = np.c_[np.ones(X.shape[0]), X]  # Add intercept term (column of ones)\n",
    "y = np.random.randint(0, 2, size=(10, 1))  # Binary labels (0 or 1)\n",
    "\n",
    "theta = np.random.randn(3, 1)\n",
    "\n",
    "# print(\"Feature matrix (X):\\n\", X)\n",
    "# print(\"\\nLabels (y):\\n\", y)\n",
    "# print(\"\\nInitial parameters (theta):\\n\", theta)"
   ]
  },
  {
   "cell_type": "code",
   "execution_count": 129,
   "id": "13a1afa5-8c5e-4124-8f06-bdcfb8914674",
   "metadata": {},
   "outputs": [
    {
     "name": "stdout",
     "output_type": "stream",
     "text": [
      "[[-8.89961656]]\n"
     ]
    }
   ],
   "source": [
    "def logistic(z):\n",
    "    return 1 / (1 + np.exp(-z)) # logistic(y)\n",
    "    #Applies the logistic function elementwise; handles vectors and matrices.\n",
    "\n",
    "def log_likelihood(theta, y, X):\n",
    "    ###\n",
    "    ### YOUR CODE HERE\n",
    "    ###\n",
    "    #logistic funtion G(X𝜃))\n",
    "    G = logistic(X @ theta) #can also use dot() for matrix multiplication\n",
    "    \n",
    "    #Log-likelihood\n",
    "    u= 1 #np.ones(?)\n",
    "    log_likelihood_value = y.T @ np.log(G) + (u-y).T @ np.log(u-G)\n",
    "    return log_likelihood_value\n",
    "\n",
    "print(log_likelihood(theta, y, X))"
   ]
  },
  {
   "cell_type": "markdown",
   "id": "7d4d7493-f896-4d4f-8ef2-55c5812cce31",
   "metadata": {},
   "source": [
    "### Gradient Ascent \n",
    "\n",
    "To maximize the log-likelihood function for logistic regression. The gradient is given by:\n",
    "> ∇𝜃𝐿(𝜃;𝑦,𝑋)= 𝑋^𝑇[𝑦−𝐺(𝑋𝜃)]\n"
   ]
  },
  {
   "cell_type": "markdown",
   "id": "516027fe-2c96-47e4-acc4-c6ad66976e96",
   "metadata": {},
   "source": [
    "**Exercise 8** (2 points). Implement a function to compute the gradient of the log-likelihood."
   ]
  },
  {
   "cell_type": "code",
   "execution_count": 133,
   "id": "a12f9106-e835-4c74-9b98-e9d85865597b",
   "metadata": {},
   "outputs": [
    {
     "name": "stdout",
     "output_type": "stream",
     "text": [
      "[[3.77200074]\n",
      " [2.46582565]\n",
      " [2.14924759]]\n"
     ]
    }
   ],
   "source": [
    "def grad_log_likelihood(theta, y, X):\n",
    "    \"\"\"Returns the gradient of the log-likelihood.\"\"\"\n",
    "    ###\n",
    "    ### YOUR CODE HERE\n",
    "    ###\n",
    "    #logistic/sigmoid function\n",
    "    G = logistic(X @ theta)\n",
    "    \n",
    "    #Gradient\n",
    "    gradient = X.T @ (y-G)\n",
    "    return gradient\n",
    "    \n",
    "print(grad_log_likelihood(theta, y, X))"
   ]
  },
  {
   "cell_type": "code",
   "execution_count": null,
   "id": "ccd8c257-748a-4612-9289-3c1e8902aace",
   "metadata": {},
   "outputs": [],
   "source": []
  },
  {
   "cell_type": "code",
   "execution_count": null,
   "id": "d61b7e24-79ad-4b0b-a51b-832d438f794e",
   "metadata": {},
   "outputs": [],
   "source": []
  },
  {
   "cell_type": "code",
   "execution_count": null,
   "id": "d526119b-823b-4016-b65d-c0a0d0a1f82f",
   "metadata": {},
   "outputs": [],
   "source": []
  },
  {
   "cell_type": "code",
   "execution_count": null,
   "id": "e07efbe5-2616-4128-86a5-3081a0ef29c3",
   "metadata": {},
   "outputs": [],
   "source": []
  },
  {
   "cell_type": "code",
   "execution_count": null,
   "id": "97b653ed-3b5b-4d45-809d-28422e530187",
   "metadata": {},
   "outputs": [],
   "source": []
  },
  {
   "cell_type": "code",
   "execution_count": null,
   "id": "4393a6ed-3254-4430-80e4-1e1f7f019fd2",
   "metadata": {},
   "outputs": [],
   "source": []
  }
 ],
 "metadata": {
  "kernelspec": {
   "display_name": "Python 3 (ipykernel)",
   "language": "python",
   "name": "python3"
  },
  "language_info": {
   "codemirror_mode": {
    "name": "ipython",
    "version": 3
   },
   "file_extension": ".py",
   "mimetype": "text/x-python",
   "name": "python",
   "nbconvert_exporter": "python",
   "pygments_lexer": "ipython3",
   "version": "3.11.7"
  }
 },
 "nbformat": 4,
 "nbformat_minor": 5
}
